{
 "cells": [
  {
   "cell_type": "markdown",
   "id": "864398e1-5eb3-400a-b3d7-d5689fa20823",
   "metadata": {},
   "source": [
    "# Combine raw Limit Order Book and Market Message data\n",
    "\n",
    "Only keep data for execution of visible orders"
   ]
  },
  {
   "cell_type": "code",
   "execution_count": null,
   "id": "b0ee86f1-20df-4250-aa8a-956d9b5b5783",
   "metadata": {},
   "outputs": [],
   "source": [
    "import os\n",
    "import re\n",
    "import pathlib\n",
    "import pandas as pd\n",
    "\n",
    "from pprint import pprint\n",
    "from datetime import date, time\n",
    "\n",
    "import LOB_analysis"
   ]
  },
  {
   "cell_type": "code",
   "execution_count": null,
   "id": "653e32d3-6ba2-4f22-90f4-a425b0fe8713",
   "metadata": {},
   "outputs": [],
   "source": [
    "def parse_date(filename):\n",
    "    import re\n",
    "    \n",
    "    date_regex = re.compile(r\".*_(?P<year>\\d{4})-(?P<month>\\d{2})-(?P<day>\\d{2})_.*\")\n",
    "    match = date_regex.match(filename)\n",
    "    \n",
    "    year = int(match.group(\"year\"))\n",
    "    month = int(match.group(\"month\"))\n",
    "    day = int(match.group(\"day\"))\n",
    "    \n",
    "    return (year, month, day)"
   ]
  },
  {
   "cell_type": "code",
   "execution_count": null,
   "id": "854c8a36-e2ab-489f-990b-29781272f7bf",
   "metadata": {},
   "outputs": [],
   "source": [
    "BASE_DIR = pathlib.Path(r\"../data/drive\")\n",
    "month_dirs = list(BASE_DIR.glob(\"*\"))"
   ]
  },
  {
   "cell_type": "code",
   "execution_count": null,
   "id": "38889a98-d4ff-46b3-89b9-76c6c7279732",
   "metadata": {},
   "outputs": [],
   "source": [
    "for month_dir in month_dirs:\n",
    "    print(f\"Loading directory: {month_dir}\")\n",
    "    orderbook_files = list(month_dir.glob(\"*orderbook*\"))\n",
    "    message_files = list(month_dir.glob(\"*message*\"))\n",
    "    \n",
    "    messages   = []\n",
    "    orderbooks = []\n",
    "    for orderbook_file in orderbook_files:\n",
    "        year, month, day = parse_date(str(orderbook_file))\n",
    "        print(f\"\\tLoading files for date: {year}-{month}-{day}\", end=\"\\r\")\n",
    "        \n",
    "        for message_file in message_files:\n",
    "            y, m, d = parse_date(str(message_file))\n",
    "            if (year == y) and (month == m) and (day == d):\n",
    "                break\n",
    "        \n",
    "        if (year != y) or (month != m) or (day != d):\n",
    "            raise Exception(f\"Directory: {str(month_dir)}:\\tOrderbook for date {year}-{month}-{day} has no matching message book.\")\n",
    "        \n",
    "        odb = LOB_analysis.load_LOB(orderbook_file)\n",
    "        msg = LOB_analysis.load_message(message_file)\n",
    "        \n",
    "        msg.loc[:, 'time'] = pd.to_datetime(date(year=year, month=month, day=day)) + pd.to_timedelta(msg.time, unit=\"s\")\n",
    "        \n",
    "        msg_type_bool = msg.type == 4\n",
    "        \n",
    "        odb = odb.loc[msg_type_bool, :].reset_index(drop=True)\n",
    "        msg = msg.loc[msg_type_bool, :].drop(\"type\", axis=1).reset_index(drop=True)\n",
    "        \n",
    "        msg.loc[:, 'price'] = msg.loc[:, 'price'] / 1e4\n",
    "        odb.loc[:, odb.columns.str.contains(\"price\")] = odb.loc[:, odb.columns.str.contains(\"price\")] / 1e4\n",
    "        \n",
    "        messages.append(msg)\n",
    "        orderbooks.append(odb)\n",
    "    \n",
    "    messages   = pd.concat(messages, axis=0)\n",
    "    orderbooks = pd.concat(orderbooks, axis=0)\n",
    "    \n",
    "    full_month_dir = os.path.abspath(month_dir)\n",
    "    messages_fn    = os.path.join(full_month_dir, month_dir.name + \"_msg.pickle\")\n",
    "    orderbooks_fn  = os.path.join(full_month_dir, month_dir.name + \"_odb.pickle\")\n",
    "    \n",
    "    messages.to_pickle(messages_fn)\n",
    "    orderbooks.to_pickle(orderbooks_fn)"
   ]
  }
 ],
 "metadata": {
  "kernelspec": {
   "display_name": "Python 3 (ipykernel)",
   "language": "python",
   "name": "python3"
  },
  "language_info": {
   "codemirror_mode": {
    "name": "ipython",
    "version": 3
   },
   "file_extension": ".py",
   "mimetype": "text/x-python",
   "name": "python",
   "nbconvert_exporter": "python",
   "pygments_lexer": "ipython3",
   "version": "3.9.7"
  }
 },
 "nbformat": 4,
 "nbformat_minor": 5
}
