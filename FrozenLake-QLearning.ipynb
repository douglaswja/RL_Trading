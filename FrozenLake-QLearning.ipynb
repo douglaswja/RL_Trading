{
 "cells": [
  {
   "cell_type": "markdown",
   "id": "2065bd85-dde8-40ca-8f41-f284be1f6bf4",
   "metadata": {},
   "source": [
    "Frozen lake\n",
    "1. Q learning\n",
    "2. Linear q learning -> Make sure for Q learning the onestep lookahead is really taking the maximum\n",
    "3. Double q learning (non linear)\n",
    "4. Value function\n",
    "5. Ac\n",
    "6. Once im done with these ^\n",
    "7. Swap to MC if necessary\n",
    "8. Swap to mid price (keep reward fn of bid ask spread)\n",
    "9. Pretraining"
   ]
  },
  {
   "cell_type": "code",
   "execution_count": 1,
   "id": "03432b8f-6499-49d9-aece-158eaf854b44",
   "metadata": {},
   "outputs": [],
   "source": [
    "import random\n",
    "from time import sleep\n",
    "from IPython.display import clear_output\n",
    "\n",
    "import gym\n",
    "import numpy as np\n",
    "import pandas as pd\n",
    "import matplotlib.pyplot as plt\n",
    "\n",
    "import torch\n",
    "import torch.optim as optim\n",
    "from torch import nn\n",
    "from torch.utils.data import DataLoader\n",
    "from torch.distributions.categorical import Categorical\n",
    "\n",
    "from commons.replay_memory import ReplayMemory, Experience\n",
    "\n",
    "%matplotlib inline"
   ]
  },
  {
   "cell_type": "code",
   "execution_count": 2,
   "id": "a44516d1-c99a-40a2-95cb-4831fd7f5ad9",
   "metadata": {},
   "outputs": [],
   "source": [
    "device = 'cuda:1' if torch.cuda.is_available() else 'cpu'"
   ]
  },
  {
   "cell_type": "code",
   "execution_count": 3,
   "id": "aab31ba3-d19e-4917-85b2-de049471189f",
   "metadata": {},
   "outputs": [],
   "source": [
    "env = gym.make('FrozenLake-v1')"
   ]
  },
  {
   "cell_type": "markdown",
   "id": "ffb64536-0316-4fb4-b257-ff6f9941e69a",
   "metadata": {},
   "source": [
    "Learning points:\n",
    "- In Q Learning the exploration-exploitation tradeoff is really important. The agent MUST explore\n",
    "- The discount rate is really important for feeding information back in time, always try it with different values\n",
    "- Learning rate is important for stability, need to slowly move to the target, also know that the target will move too"
   ]
  },
  {
   "cell_type": "code",
   "execution_count": 4,
   "id": "5ef6e160-f991-4890-b0cb-c979654a38e7",
   "metadata": {
    "tags": []
   },
   "outputs": [
    {
     "name": "stdout",
     "output_type": "stream",
     "text": [
      "Epoch: 50000\r"
     ]
    }
   ],
   "source": [
    "epochs = 50000\n",
    "steps = 5000\n",
    "\n",
    "gamma = 0.99\n",
    "alpha = 0.1\n",
    "\n",
    "rewards = []\n",
    "ep_steps = []\n",
    "\n",
    "q_table = np.zeros((env.observation_space.n, env.action_space.n))\n",
    "\n",
    "for epoch in range(1, epochs + 1):\n",
    "    state = env.reset()\n",
    "    is_done = False\n",
    "    rwd = 0\n",
    "    for i in range(steps):\n",
    "        if is_done:\n",
    "            break\n",
    "        exploration_prob = random.uniform(0, 1)\n",
    "        if exploration_prob > (epoch/epochs)**2:\n",
    "            action = env.action_space.sample()\n",
    "        else:\n",
    "            action = q_table[state, :].argmax()\n",
    "        nxt_state, reward, is_done, _ = env.step(action)\n",
    "        nxt = reward + gamma * q_table[nxt_state,:].max()\n",
    "        q_table[state, action] += alpha * (nxt - q_table[state, action])\n",
    "        state = nxt_state\n",
    "        rwd += reward\n",
    "    rewards.append(rwd)\n",
    "    ep_steps.append(i)\n",
    "    print(f\"Epoch: {epoch}\", end=\"\\r\")\n"
   ]
  },
  {
   "cell_type": "code",
   "execution_count": 5,
   "id": "45cf1256-3693-4c4e-9ea4-1208a01a7ae9",
   "metadata": {},
   "outputs": [
    {
     "data": {
      "text/plain": [
       "4200.0"
      ]
     },
     "execution_count": 5,
     "metadata": {},
     "output_type": "execute_result"
    }
   ],
   "source": [
    "pd.Series(rewards).sum()"
   ]
  },
  {
   "cell_type": "code",
   "execution_count": 6,
   "id": "18dec4fc-ab92-4851-a8dc-52e46a7359ae",
   "metadata": {},
   "outputs": [
    {
     "data": {
      "text/plain": [
       "<AxesSubplot:>"
      ]
     },
     "execution_count": 6,
     "metadata": {},
     "output_type": "execute_result"
    },
    {
     "data": {
      "image/png": "[encoded data removed]",
      "text/plain": [
       "<Figure size 432x288 with 1 Axes>"
      ]
     },
     "metadata": {
      "needs_background": "light"
     },
     "output_type": "display_data"
    }
   ],
   "source": [
    "pd.Series(rewards).plot()"
   ]
  },
  {
   "cell_type": "code",
   "execution_count": 7,
   "id": "9550ef1a-6890-488a-81ba-16cac774e1da",
   "metadata": {},
   "outputs": [
    {
     "data": {
      "text/plain": [
       "0.634"
      ]
     },
     "execution_count": 7,
     "metadata": {},
     "output_type": "execute_result"
    }
   ],
   "source": [
    "(pd.Series(rewards)[-500:] == 1).mean()\n",
    "# Win rate"
   ]
  },
  {
   "cell_type": "code",
   "execution_count": 8,
   "id": "b42442ac-c41f-4e10-997d-1c0d08f1b5d9",
   "metadata": {},
   "outputs": [
    {
     "data": {
      "text/plain": [
       "<AxesSubplot:>"
      ]
     },
     "execution_count": 8,
     "metadata": {},
     "output_type": "execute_result"
    },
    {
     "data": {
      "image/png": "[encoded data removed]",
      "text/plain": [
       "<Figure size 432x288 with 1 Axes>"
      ]
     },
     "metadata": {
      "needs_background": "light"
     },
     "output_type": "display_data"
    }
   ],
   "source": [
    "pd.Series((pd.Series(rewards) > 0.5)[(pd.Series(rewards) > 0.5)].index).plot(marker='.')\n",
    "# Win rate over time"
   ]
  },
  {
   "cell_type": "code",
   "execution_count": 9,
   "id": "a36445ad-e467-40c0-822d-a52abc7ec18a",
   "metadata": {},
   "outputs": [
    {
     "data": {
      "text/plain": [
       "<AxesSubplot:>"
      ]
     },
     "execution_count": 9,
     "metadata": {},
     "output_type": "execute_result"
    },
    {
     "data": {
      "image/png": "[encoded data removed]",
      "text/plain": [
       "<Figure size 432x288 with 1 Axes>"
      ]
     },
     "metadata": {
      "needs_background": "light"
     },
     "output_type": "display_data"
    }
   ],
   "source": [
    "pd.Series(ep_steps).plot()"
   ]
  },
  {
   "cell_type": "code",
   "execution_count": 10,
   "id": "b3517be2-c802-4783-8b3a-a218bc686869",
   "metadata": {},
   "outputs": [
    {
     "data": {
      "text/plain": [
       "<matplotlib.image.AxesImage at 0x7f6ade7004c0>"
      ]
     },
     "execution_count": 10,
     "metadata": {},
     "output_type": "execute_result"
    },
    {
     "data": {
      "image/png": "[encoded data removed]",
      "text/plain": [
       "<Figure size 432x288 with 1 Axes>"
      ]
     },
     "metadata": {
      "needs_background": "light"
     },
     "output_type": "display_data"
    }
   ],
   "source": [
    "plt.imshow(q_table)"
   ]
  },
  {
   "cell_type": "code",
   "execution_count": 11,
   "id": "1233b122-ec13-46f2-bb3d-950edb402893",
   "metadata": {},
   "outputs": [
    {
     "data": {
      "text/plain": [
       "0.615"
      ]
     },
     "execution_count": 11,
     "metadata": {},
     "output_type": "execute_result"
    }
   ],
   "source": [
    "pd.Series(rewards)[-1000:].mean()"
   ]
  },
  {
   "cell_type": "code",
   "execution_count": 12,
   "id": "74b3ede2-b39b-4849-8684-d2ea85d72190",
   "metadata": {},
   "outputs": [],
   "source": [
    "env.close()"
   ]
  },
  {
   "cell_type": "code",
   "execution_count": 13,
   "id": "7abdd914-bf8b-46ca-8473-058dc751f10e",
   "metadata": {},
   "outputs": [
    {
     "data": {
      "text/plain": [
       "0"
      ]
     },
     "execution_count": 13,
     "metadata": {},
     "output_type": "execute_result"
    }
   ],
   "source": [
    "env.reset()"
   ]
  },
  {
   "cell_type": "code",
   "execution_count": 14,
   "id": "b75b04f8-0711-45e9-a4e2-8b0e787c41cc",
   "metadata": {},
   "outputs": [
    {
     "name": "stdout",
     "output_type": "stream",
     "text": [
      "  (Down)\n",
      "SFFF\n",
      "FHFH\n",
      "FFFH\n",
      "HFF\u001b[41mG\u001b[0m\n",
      "Won\n"
     ]
    }
   ],
   "source": [
    "is_done = False\n",
    "state = env.reset()\n",
    "env.render()\n",
    "while not is_done:\n",
    "    sleep(0.01)\n",
    "    action = q_table[state, :].argmax()\n",
    "    next_state, reward, is_done, info = env.step(action)\n",
    "    env.render()\n",
    "    \n",
    "    state = next_state\n",
    "    if reward == 1:\n",
    "        print(\"Won\")\n",
    "    clear_output(wait=True)"
   ]
  }
 ],
 "metadata": {
  "kernelspec": {
   "display_name": "Python 3 (ipykernel)",
   "language": "python",
   "name": "python3"
  },
  "language_info": {
   "codemirror_mode": {
    "name": "ipython",
    "version": 3
   },
   "file_extension": ".py",
   "mimetype": "text/x-python",
   "name": "python",
   "nbconvert_exporter": "python",
   "pygments_lexer": "ipython3",
   "version": "3.9.7"
  },
  "toc-showtags": false
 },
 "nbformat": 4,
 "nbformat_minor": 5
}
