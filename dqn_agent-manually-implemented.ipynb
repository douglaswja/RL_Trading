{
 "cells": [
  {
   "cell_type": "markdown",
   "id": "b30fc2e2-8c7d-438b-b1fb-b30de9816711",
   "metadata": {},
   "source": [
    "Enhancements:\n",
    "- Include price that assets were bought into the state\n",
    "- Explore neutral penalty\n",
    "- Encoding layer to control/learn state representation\n",
    "- Improve stability of learning algorithms through the use of PPO, SAC\n",
    "- Create short-term endpoints for trading windows during training and shuffle these windows\n",
    "- Feature selection and hyperparameter tuning through validation search [Discount rate, ]\n",
    "- More sophistication for state-propagation, e.g. Recurrent NN, Transformer\n",
    "\n",
    "TODO:\n",
    "- Walk-forward validation training\n",
    "- Test evaluation of all models\n",
    "- Use trained value network and pretrained policy network?\n",
    "\n",
    "\n",
    "Consider:\n",
    "- Recreating the table on Slide 41 of 56 from this set of lecture slides would be good for our purposes https://www.davidsilver.uk/wp-content/uploads/2020/03/FA.pdf\n",
    "\n",
    "\n",
    "Final report\n",
    "- Describe RL\n",
    "- Describe LOB\n",
    "- What metric are we trying to optimise\n",
    "- Inputs\n",
    "- Literature review\n",
    "- Results"
   ]
  },
  {
   "cell_type": "markdown",
   "id": "b06e4a4d-1b44-4f56-9fac-0cd2fd660a44",
   "metadata": {
    "tags": []
   },
   "source": [
    "## 1. Overview\n",
    "\n",
    "Note that for this Reinforcement Learning problem, the actions available to the agent are:\n",
    "- 0: Short   (Have -1 asset)\n",
    "- 1: Neutral (Have 0 asset)\n",
    "- 2: Long    (Have 1 asset)"
   ]
  },
  {
   "cell_type": "markdown",
   "id": "961f4020-f9bb-40b5-ba47-c0c3eb1acc21",
   "metadata": {},
   "source": [
    "## 2. Install the necessary packages\n",
    "- Models\n",
    "- Commons\n",
    "- Environment manager"
   ]
  },
  {
   "cell_type": "code",
   "execution_count": 1,
   "id": "4925c3c2-4e00-4389-9bd8-721f04f31b02",
   "metadata": {},
   "outputs": [
    {
     "name": "stdout",
     "output_type": "stream",
     "text": [
      "Obtaining file:///home/e0310734/code/requirements_installer\n",
      "Installing collected packages: rl-finance\n",
      "  Attempting uninstall: rl-finance\n",
      "    Found existing installation: rl-finance 0.1\n",
      "    Uninstalling rl-finance-0.1:\n",
      "      Successfully uninstalled rl-finance-0.1\n",
      "  Running setup.py develop for rl-finance\n",
      "Successfully installed rl-finance-0.1\n"
     ]
    }
   ],
   "source": [
    "!pip install -e requirements_installer"
   ]
  },
  {
   "cell_type": "markdown",
   "id": "4f51a774-c6a4-4933-bfd4-119b5d640c4e",
   "metadata": {},
   "source": [
    "## 3. Import packages"
   ]
  },
  {
   "cell_type": "code",
   "execution_count": 143,
   "id": "03432b8f-6499-49d9-aece-158eaf854b44",
   "metadata": {},
   "outputs": [
    {
     "name": "stdout",
     "output_type": "stream",
     "text": [
      "The autoreload extension is already loaded. To reload it, use:\n",
      "  %reload_ext autoreload\n"
     ]
    }
   ],
   "source": [
    "%load_ext autoreload\n",
    "%autoreload 2\n",
    "\n",
    "import random\n",
    "import mlflow\n",
    "import numpy as np\n",
    "import pandas as pd\n",
    "import matplotlib.pyplot as plt\n",
    "\n",
    "import torch\n",
    "import torch.nn as nn\n",
    "import torch.optim as optim\n",
    "\n",
    "from sklearn.model_selection import train_test_split\n",
    "from sklearn.model_selection import TimeSeriesSplit\n",
    "\n",
    "from rl_finance.environments import BaseEnvironment\n",
    "from rl_finance.commons import Experience, ReplayMemory\n",
    "from rl_finance.models import ActionValueNetwork, PolicyNetwork\n",
    "\n",
    "\n",
    "%matplotlib inline\n",
    "device = 'cuda:1' if torch.cuda.is_available() else 'cpu'\n",
    "mlflow.set_tracking_uri(\"file:///home/e0310734/logs/mlruns\")"
   ]
  },
  {
   "cell_type": "markdown",
   "id": "a3dd33c5-0ed9-4828-ac8d-3f812d7d5a2a",
   "metadata": {},
   "source": [
    "## 4. List the dataset locations"
   ]
  },
  {
   "cell_type": "code",
   "execution_count": 3,
   "id": "ed0e6134-47de-4b29-b506-e668e81c54d4",
   "metadata": {},
   "outputs": [],
   "source": [
    "MONTH = 'jan'\n",
    "datasets = []\n",
    "dataset_scopes = ['minimal', 'minimal_window', 'full', 'full_window']\n",
    "dataset_components = [\n",
    "    'X_train.pt', 'X_validation.pt', 'X_test.pt',\n",
    "    'y_train.pt', 'y_validation.pt', 'y_test.pt',\n",
    "    'bid_train.pt', 'bid_val.pt', 'bid_test.pt',\n",
    "    'ask_train.pt', 'ask_val.pt', 'ask_test.pt',\n",
    "]\n",
    "\n",
    "for dataset_scope in dataset_scopes:\n",
    "    dataset = []\n",
    "    for dataset_component in dataset_components:\n",
    "        dataset.append(\"../data/processed_datasets/\" + MONTH + \"/\" + dataset_scope + \"/\" + dataset_component)\n",
    "    datasets.append(dataset)"
   ]
  },
  {
   "cell_type": "markdown",
   "id": "53410a62-3c77-4561-bf71-3f54236347fa",
   "metadata": {},
   "source": [
    "## 5. State constant hyperparameters"
   ]
  },
  {
   "cell_type": "code",
   "execution_count": 34,
   "id": "8a82735c-3427-4ec5-8ab1-176eebb4247f",
   "metadata": {},
   "outputs": [],
   "source": [
    "ACTION_SPACE = [0, 1, 2]\n",
    "OUTPUT_DIMS = 3\n",
    "BATCH_SIZE = 512\n",
    "\n",
    "N_EPOCHS = 150\n",
    "EPOCH_TRAIN_START = 5  # Number of epochs to populate the ReplayMemory before we start sampling from it\n",
    "LEARNING_RATE = 1e-6\n",
    "REPLAY_MEMORY_SIZE = int(2**20)\n",
    "DISCOUNT_RATE = 0.999\n",
    "FROZEN_UPDATE_INTERVAL = 12\n",
    "\n",
    "TRADING_FEE = 3e-5\n",
    "NEUTRAL_PENALTY = 1e-5"
   ]
  },
  {
   "cell_type": "markdown",
   "id": "576599e0-b83e-4028-b997-e2382b4f9892",
   "metadata": {},
   "source": [
    "## 6. Select exploration-exploitation trade-off parameters"
   ]
  },
  {
   "cell_type": "code",
   "execution_count": 10,
   "id": "1ba03b63-add1-428c-a92d-ee18e6759db0",
   "metadata": {},
   "outputs": [
    {
     "data": {
      "image/png": "[encoded data removed]",
      "text/plain": [
       "<Figure size 432x288 with 1 Axes>"
      ]
     },
     "metadata": {
      "needs_background": "light"
     },
     "output_type": "display_data"
    }
   ],
   "source": [
    "min_exploration_rate = 0.001\n",
    "max_exploration_rate = 1.\n",
    "exploration_decay_rate = 0.03\n",
    "ers = []\n",
    "for epoch in range(N_EPOCHS):\n",
    "    exploration_rate = min_exploration_rate + (max_exploration_rate - min_exploration_rate) * np.exp(-exploration_decay_rate*(epoch - EPOCH_TRAIN_START))\n",
    "    ers.append(exploration_rate)\n",
    "pd.Series(ers).plot()\n",
    "plt.title(\"Probability that an agent will explore\")\n",
    "plt.ylabel(\"Exploration rate\")\n",
    "plt.ylim((0,1))\n",
    "plt.xlabel(\"Epoch number\");"
   ]
  },
  {
   "cell_type": "markdown",
   "id": "77a8061b-9c65-4d76-bc0f-02610c04f8ab",
   "metadata": {},
   "source": [
    "## 7. Reinforcement Learning: Deep Q Network"
   ]
  },
  {
   "cell_type": "markdown",
   "id": "e2b333da-429c-40bf-b7e7-1c1e6ae47398",
   "metadata": {},
   "source": [
    "Start with a 1-pass algorithm then package it into a function and iterate over each of the hyperparameters"
   ]
  },
  {
   "cell_type": "code",
   "execution_count": 22,
   "id": "a26bae74-dac3-4390-9423-0dd2238f96a9",
   "metadata": {},
   "outputs": [
    {
     "data": {
      "text/plain": [
       "<Experiment: artifact_location='file:///home/e0310734/logs/mlruns/2', experiment_id='2', lifecycle_stage='active', name='DQN', tags={}>"
      ]
     },
     "execution_count": 22,
     "metadata": {},
     "output_type": "execute_result"
    }
   ],
   "source": [
    "mlflow.set_experiment(\"DQN\")"
   ]
  },
  {
   "cell_type": "code",
   "execution_count": 11,
   "id": "0562d949-935e-4206-aebf-a75776404260",
   "metadata": {},
   "outputs": [],
   "source": [
    "X_train, X_val, X_test, y_train, y_val, y_test, bid_train, bid_val, bid_test, ask_train, ask_val, ask_test = [torch.load(path) for path in datasets[0]]"
   ]
  },
  {
   "cell_type": "code",
   "execution_count": 18,
   "id": "97438aca-4776-4577-bdd3-29cc9a1b7714",
   "metadata": {},
   "outputs": [],
   "source": [
    "INPUT_DIM = X_train.shape[-1]\n",
    "OUTPUT_DIM = 3"
   ]
  },
  {
   "cell_type": "code",
   "execution_count": 157,
   "id": "718e183a-c691-4b91-a19c-291d218f9d93",
   "metadata": {},
   "outputs": [],
   "source": [
    "env = BaseEnvironment(X_train, bid_train, ask_train, use_midprice=False)\n",
    "replay_memory = ReplayMemory(REPLAY_MEMORY_SIZE)\n",
    "\n",
    "action_value_network = ActionValueNetwork(input_dim=INPUT_DIM, output_dim=OUTPUT_DIM)\n",
    "action_value_network.to(device)\n",
    "\n",
    "target_action_value_network = ActionValueNetwork(input_dim=INPUT_DIM, output_dim=OUTPUT_DIM)\n",
    "target_action_value_network.load_state_dict(action_value_network.state_dict())\n",
    "target_action_value_network.to(device)\n",
    "\n",
    "action_value_network_optimizer = optim.Adam(params=action_value_network.parameters(), lr=LEARNING_RATE)"
   ]
  },
  {
   "cell_type": "code",
   "execution_count": 175,
   "id": "8d2093c4-c431-4275-9c63-1b346e57b751",
   "metadata": {},
   "outputs": [],
   "source": [
    "EPOCH_TRAIN_START = 1\n",
    "BATCH_SIZE = 5\n",
    "N_EPOCHS = 3"
   ]
  },
  {
   "cell_type": "code",
   "execution_count": 176,
   "id": "04d3d9b7-cc08-4920-9df0-9e64a42364a1",
   "metadata": {},
   "outputs": [
    {
     "ename": "KeyboardInterrupt",
     "evalue": "",
     "output_type": "error",
     "traceback": [
      "\u001b[0;31m---------------------------------------------------------------------------\u001b[0m",
      "\u001b[0;31mKeyboardInterrupt\u001b[0m                         Traceback (most recent call last)",
      "\u001b[0;32m/tmp/ipykernel_13630/1069374711.py\u001b[0m in \u001b[0;36m<module>\u001b[0;34m\u001b[0m\n\u001b[1;32m     52\u001b[0m             \u001b[0;31m# Loss\u001b[0m\u001b[0;34m\u001b[0m\u001b[0;34m\u001b[0m\u001b[0m\n\u001b[1;32m     53\u001b[0m             \u001b[0mloss\u001b[0m \u001b[0;34m=\u001b[0m \u001b[0mloss_fn\u001b[0m\u001b[0;34m(\u001b[0m\u001b[0mcurrent_values\u001b[0m\u001b[0;34m,\u001b[0m \u001b[0mtarget_values\u001b[0m\u001b[0;34m)\u001b[0m\u001b[0;34m\u001b[0m\u001b[0;34m\u001b[0m\u001b[0m\n\u001b[0;32m---> 54\u001b[0;31m             \u001b[0maction_value_network_optimizer\u001b[0m\u001b[0;34m.\u001b[0m\u001b[0mzero_grad\u001b[0m\u001b[0;34m(\u001b[0m\u001b[0;34m)\u001b[0m\u001b[0;34m\u001b[0m\u001b[0;34m\u001b[0m\u001b[0m\n\u001b[0m\u001b[1;32m     55\u001b[0m             \u001b[0mloss\u001b[0m\u001b[0;34m.\u001b[0m\u001b[0mbackward\u001b[0m\u001b[0;34m(\u001b[0m\u001b[0;34m)\u001b[0m\u001b[0;34m\u001b[0m\u001b[0;34m\u001b[0m\u001b[0m\n\u001b[1;32m     56\u001b[0m             \u001b[0maction_value_network_optimizer\u001b[0m\u001b[0;34m.\u001b[0m\u001b[0mstep\u001b[0m\u001b[0;34m(\u001b[0m\u001b[0;34m)\u001b[0m\u001b[0;34m\u001b[0m\u001b[0;34m\u001b[0m\u001b[0m\n",
      "\u001b[0;32m~/miniconda3/envs/rl_base/lib/python3.9/site-packages/torch/optim/optimizer.py\u001b[0m in \u001b[0;36mzero_grad\u001b[0;34m(self, set_to_none)\u001b[0m\n\u001b[1;32m    215\u001b[0m                             \u001b[0;32melse\u001b[0m\u001b[0;34m:\u001b[0m\u001b[0;34m\u001b[0m\u001b[0;34m\u001b[0m\u001b[0m\n\u001b[1;32m    216\u001b[0m                                 \u001b[0mp\u001b[0m\u001b[0;34m.\u001b[0m\u001b[0mgrad\u001b[0m\u001b[0;34m.\u001b[0m\u001b[0mrequires_grad_\u001b[0m\u001b[0;34m(\u001b[0m\u001b[0;32mFalse\u001b[0m\u001b[0;34m)\u001b[0m\u001b[0;34m\u001b[0m\u001b[0;34m\u001b[0m\u001b[0m\n\u001b[0;32m--> 217\u001b[0;31m                             \u001b[0mp\u001b[0m\u001b[0;34m.\u001b[0m\u001b[0mgrad\u001b[0m\u001b[0;34m.\u001b[0m\u001b[0mzero_\u001b[0m\u001b[0;34m(\u001b[0m\u001b[0;34m)\u001b[0m\u001b[0;34m\u001b[0m\u001b[0;34m\u001b[0m\u001b[0m\n\u001b[0m\u001b[1;32m    218\u001b[0m \u001b[0;34m\u001b[0m\u001b[0m\n\u001b[1;32m    219\u001b[0m     \u001b[0;32mdef\u001b[0m \u001b[0mstep\u001b[0m\u001b[0;34m(\u001b[0m\u001b[0mself\u001b[0m\u001b[0;34m,\u001b[0m \u001b[0mclosure\u001b[0m\u001b[0;34m)\u001b[0m\u001b[0;34m:\u001b[0m\u001b[0;34m\u001b[0m\u001b[0;34m\u001b[0m\u001b[0m\n",
      "\u001b[0;31mKeyboardInterrupt\u001b[0m: "
     ]
    }
   ],
   "source": [
    "action_value_loss_history = []\n",
    "reward_history = []\n",
    "\n",
    "best_episode_reward = float(\"-inf\")\n",
    "best_episode_validation_reward = float(\"-inf\")\n",
    "\n",
    "loss_fn = nn.MSELoss()\n",
    "\n",
    "for epoch in range(N_EPOCHS):\n",
    "    action_value_network.train()\n",
    "    \n",
    "    episode_action_history = []\n",
    "    episode_reward = 0\n",
    "    \n",
    "    done = False\n",
    "    state = env.reset()\n",
    "    \n",
    "    while not done:\n",
    "        \n",
    "        # Exploration vs Exploitation\n",
    "        exploration_rate = min_exploration_rate + (max_exploration_rate - min_exploration_rate) * np.exp(-exploration_decay_rate*(epoch - EPOCH_TRAIN_START))\n",
    "        if random.uniform(0, 1) > exploration_rate:\n",
    "            action_value_network(state).argmax()\n",
    "        else:\n",
    "            action = torch.tensor(random.sample(ACTION_SPACE, 1)).to(device) # Explore\n",
    "        \n",
    "        next_state, reward, done = env.step(action.item())\n",
    "        \n",
    "        # Saves\n",
    "        replay_memory.push(Experience(state, action, reward, next_state, done))\n",
    "        episode_action_history.append(action.item())\n",
    "        episode_reward += reward\n",
    "        state = next_state\n",
    "        \n",
    "        if (epoch >= EPOCH_TRAIN_START) and (replay_memory.can_provide_sample(BATCH_SIZE)):\n",
    "            states, actions, rewards, next_states, dones = replay_memory.sample(BATCH_SIZE)\n",
    "            \n",
    "            states = torch.stack(states, dim=0).to(device)\n",
    "            actions = torch.cat(actions, dim=0).to(device)\n",
    "            rewards = torch.tensor(rewards).float().to(device)\n",
    "            next_states = torch.stack(next_states, dim=0).to(device)\n",
    "            dones = torch.tensor(dones).float().to(device)\n",
    "            \n",
    "            # Error calculation\n",
    "            # action_targets = value_network(next_states).max(dim=-1)[1].unsqueeze(-1)\n",
    "            # target_values = rewards + (1 - dones) * DISCOUNT_RATE * fixed_network(next_states).gather(-1, action_targets).squeeze(-1) # Double DQN\n",
    "            target_values = rewards + (1 - dones) * DISCOUNT_RATE * target_action_value_network(next_states).max(dim=-1)[0] # DQN\n",
    "            target_values = target_values.detach()\n",
    "\n",
    "            current_values = action_value_network(states).gather(-1, actions.unsqueeze(-1)).squeeze(1)\n",
    "\n",
    "            # Loss\n",
    "            loss = loss_fn(current_values, target_values)\n",
    "            action_value_network_optimizer.zero_grad()\n",
    "            loss.backward()\n",
    "            action_value_network_optimizer.step()\n",
    "        "
   ]
  },
  {
   "cell_type": "code",
   "execution_count": 181,
   "id": "2891bd10-9b7d-4055-b9a1-088ae5d0d7fd",
   "metadata": {},
   "outputs": [],
   "source": [
    "x =None"
   ]
  },
  {
   "cell_type": "code",
   "execution_count": 182,
   "id": "86733e49-2399-433c-baed-cb9af2340b86",
   "metadata": {},
   "outputs": [
    {
     "data": {
      "text/plain": [
       "True"
      ]
     },
     "execution_count": 182,
     "metadata": {},
     "output_type": "execute_result"
    }
   ],
   "source": [
    "x is None"
   ]
  },
  {
   "cell_type": "code",
   "execution_count": 192,
   "id": "b4ffc219-a10a-4c8c-b319-7cba53e9c1ba",
   "metadata": {},
   "outputs": [
    {
     "data": {
      "text/plain": [
       "torch.int64"
      ]
     },
     "execution_count": 192,
     "metadata": {},
     "output_type": "execute_result"
    }
   ],
   "source": [
    "actions.dtype"
   ]
  },
  {
   "cell_type": "code",
   "execution_count": 183,
   "id": "4c285d09-b767-4313-b6b9-db11d7917b18",
   "metadata": {},
   "outputs": [
    {
     "data": {
      "text/plain": [
       "True"
      ]
     },
     "execution_count": 183,
     "metadata": {},
     "output_type": "execute_result"
    }
   ],
   "source": [
    "x == None"
   ]
  },
  {
   "cell_type": "code",
   "execution_count": null,
   "id": "6c51972f-73de-45d6-8e80-8fd4fa77b021",
   "metadata": {},
   "outputs": [],
   "source": []
  },
  {
   "cell_type": "code",
   "execution_count": 180,
   "id": "83f9fa8d-0255-438c-89b3-a052591832c9",
   "metadata": {},
   "outputs": [
    {
     "data": {
      "text/plain": [
       "\u001b[0;31mInit signature:\u001b[0m \u001b[0mExperience\u001b[0m\u001b[0;34m(\u001b[0m\u001b[0mstate\u001b[0m\u001b[0;34m,\u001b[0m \u001b[0maction\u001b[0m\u001b[0;34m,\u001b[0m \u001b[0mreward\u001b[0m\u001b[0;34m,\u001b[0m \u001b[0mnext_state\u001b[0m\u001b[0;34m,\u001b[0m \u001b[0mdone\u001b[0m\u001b[0;34m)\u001b[0m\u001b[0;34m\u001b[0m\u001b[0;34m\u001b[0m\u001b[0m\n",
       "\u001b[0;31mDocstring:\u001b[0m      Experience(state, action, reward, next_state, done)\n",
       "\u001b[0;31mFile:\u001b[0m           ~/code/requirements_installer/rl_finance/commons/experience.py\n",
       "\u001b[0;31mType:\u001b[0m           type\n",
       "\u001b[0;31mSubclasses:\u001b[0m     \n"
      ]
     },
     "metadata": {},
     "output_type": "display_data"
    }
   ],
   "source": [
    "Experience?"
   ]
  },
  {
   "cell_type": "code",
   "execution_count": null,
   "id": "94038f61-971c-46c1-a811-ad0ef11d488c",
   "metadata": {},
   "outputs": [],
   "source": []
  },
  {
   "cell_type": "code",
   "execution_count": null,
   "id": "27cb01cb-0efc-4eb9-a04b-0f93d2ff8315",
   "metadata": {},
   "outputs": [],
   "source": []
  },
  {
   "cell_type": "code",
   "execution_count": null,
   "id": "982daa5c-e921-493c-a2e4-2d518908132a",
   "metadata": {},
   "outputs": [],
   "source": []
  },
  {
   "cell_type": "code",
   "execution_count": null,
   "id": "530ce191-b56c-451d-9428-70fbb0e4cb59",
   "metadata": {},
   "outputs": [],
   "source": []
  },
  {
   "cell_type": "code",
   "execution_count": null,
   "id": "3727f6fc-73e2-4737-bc94-96da0ba98b76",
   "metadata": {},
   "outputs": [],
   "source": []
  },
  {
   "cell_type": "code",
   "execution_count": 76,
   "id": "e7943e7a-87b9-4575-b6a9-860d7572d6bf",
   "metadata": {},
   "outputs": [
    {
     "ename": "NameError",
     "evalue": "name 'value_network' is not defined",
     "output_type": "error",
     "traceback": [
      "\u001b[0;31m---------------------------------------------------------------------------\u001b[0m",
      "\u001b[0;31mNameError\u001b[0m                                 Traceback (most recent call last)",
      "\u001b[0;32m/tmp/ipykernel_13630/2548687851.py\u001b[0m in \u001b[0;36m<module>\u001b[0;34m\u001b[0m\n\u001b[1;32m      1\u001b[0m \u001b[0;32mfor\u001b[0m \u001b[0mepoch\u001b[0m \u001b[0;32min\u001b[0m \u001b[0mrange\u001b[0m\u001b[0;34m(\u001b[0m\u001b[0mN_EPOCHS\u001b[0m\u001b[0;34m)\u001b[0m\u001b[0;34m:\u001b[0m\u001b[0;34m\u001b[0m\u001b[0;34m\u001b[0m\u001b[0m\n\u001b[0;32m----> 2\u001b[0;31m     \u001b[0mvalue_network\u001b[0m\u001b[0;34m.\u001b[0m\u001b[0mtrain\u001b[0m\u001b[0;34m(\u001b[0m\u001b[0;34m)\u001b[0m\u001b[0;34m\u001b[0m\u001b[0;34m\u001b[0m\u001b[0m\n\u001b[0m\u001b[1;32m      3\u001b[0m     \u001b[0mepisode_action_history\u001b[0m \u001b[0;34m=\u001b[0m \u001b[0;34m[\u001b[0m\u001b[0;34m]\u001b[0m\u001b[0;34m\u001b[0m\u001b[0;34m\u001b[0m\u001b[0m\n\u001b[1;32m      4\u001b[0m     \u001b[0mdone\u001b[0m \u001b[0;34m=\u001b[0m \u001b[0;32mFalse\u001b[0m\u001b[0;34m\u001b[0m\u001b[0;34m\u001b[0m\u001b[0m\n\u001b[1;32m      5\u001b[0m     \u001b[0mepisode_reward\u001b[0m \u001b[0;34m=\u001b[0m \u001b[0;36m0\u001b[0m\u001b[0;34m\u001b[0m\u001b[0;34m\u001b[0m\u001b[0m\n",
      "\u001b[0;31mNameError\u001b[0m: name 'value_network' is not defined"
     ]
    }
   ],
   "source": [
    "for epoch in range(N_EPOCHS):\n",
    "    value_network.train()\n",
    "    episode_action_history = []\n",
    "    done = False\n",
    "    episode_reward = 0\n",
    "    state = X_train[0].clone()\n",
    "    bid, ask = bid_train[0], ask_train[0]\n",
    "\n",
    "    for i in range(1, X_train.shape[0]):\n",
    "        # Explore vs exploit\n",
    "        exploration_rate = min_exploration_rate + (max_exploration_rate - min_exploration_rate) * np.exp(-exploration_decay_rate*(epoch - EPOCH_TRAIN_START))\n",
    "        if random.uniform(0, 1) > exploration_rate:\n",
    "            value_network(state).argmax()\n",
    "        else:\n",
    "            action = torch.tensor(random.sample(ACTION_SPACE, 1)).to(device) # Explore\n",
    "\n",
    "        # Environment step\n",
    "        next_state = X_train[i].clone()\n",
    "        next_state[..., -1] = action\n",
    "        next_bid = bid_train[i]\n",
    "        next_ask = ask_train[i]\n",
    "\n",
    "        reward = get_reward(state, bid, ask, next_state, next_bid, next_ask, use_midprice=USE_MIDPRICE, trading_fee=TRADING_FEE, neutral_penalty=NEUTRAL_PENALTY)\n",
    "        done = i == (X_train.shape[0] - 1)\n",
    "\n",
    "        # Saves\n",
    "        replay_memory.push(Experience(state, action, reward, next_state, done))\n",
    "        episode_action_history.append(action.item())\n",
    "        episode_reward += reward\n",
    "        state = next_state\n",
    "        bid = next_bid\n",
    "        ask = next_ask\n",
    "\n",
    "        if replay_memory.can_provide_sample(BATCH_SIZE) and epoch > EPOCH_TRAIN_START:\n",
    "            states, actions, rewards, next_states, dones = replay_memory.sample(BATCH_SIZE)\n",
    "            states, actions, rewards, next_states, dones = states.to(device), actions.to(device), rewards.to(device), next_states.to(device), dones.to(device)\n",
    "            actions = actions.long()\n",
    "            dones = dones.float()\n",
    "\n",
    "            # Error calculation\n",
    "            action_targets = value_network(next_states).max(dim=-1)[1].unsqueeze(-1)\n",
    "            target_values = rewards + (1 - dones) * DISCOUNT_RATE * fixed_network(next_states).gather(-1, action_targets).squeeze(-1) # Double DQN\n",
    "            # target_values = rewards + (1 - dones) * DISCOUNT_RATE * q_fn_frozen(next_states).max(dim=-1)[0] # DQN\n",
    "\n",
    "            current_values = value_network(states).gather(-1, actions.unsqueeze(-1)).squeeze(1)\n",
    "\n",
    "            # Loss\n",
    "            loss = mse_fn(current_values, target_values.detach())\n",
    "            value_optimizer.zero_grad()\n",
    "            loss.backward()\n",
    "            value_optimizer.step()\n",
    "\n",
    "    reward_history.append(episode_reward) ######## LOG THE REWARD\n",
    "    mlflow.log_metric(\"episode_reward\", episode_reward, step=epoch)\n",
    "\n",
    "    if replay_memory.can_provide_sample(BATCH_SIZE) and i % FROZEN_UPDATE_INTERVAL == 0 and epoch > EPOCH_TRAIN_START:\n",
    "        fixed_network.load_state_dict(value_network.state_dict())\n",
    "        fixed_network.eval()\n",
    "\n",
    "    if replay_memory.can_provide_sample(BATCH_SIZE) and epoch > EPOCH_TRAIN_START:\n",
    "            print(f\"Epoch: {epoch:>5,d}, Reward: {episode_reward:>10,.6f}, Value loss: {loss.item():>10,.6f}\", end=\"\\r\")\n",
    "            mlflow.log_metric(\"train_value_network_loss\", loss.item(), step=epoch)\n",
    "\n",
    "            # Save episode action information - Need to see if the agent is changing its portfolio regularly\n",
    "            for k, v in dict(pd.Series(episode_action_history).value_counts()).items():\n",
    "                mlflow.log_metric(f\"action_{k}\", v, step=epoch)\n",
    "\n",
    "    if (episode_reward > best_episode_reward):\n",
    "        best_episode_reward = episode_reward\n",
    "        torch.save(value_network.state_dict(), \"best_train_value_state_dict.pt\")\n",
    "        mlflow.log_artifact(\"best_train_value_state_dict.pt\")\n",
    "################\n",
    "    with torch.no_grad():\n",
    "        # Validation checks\n",
    "        value_network.eval()\n",
    "        val_state = X_val[0]\n",
    "        val_bid = bid_val[0]\n",
    "        val_ask = ask_val[0]\n",
    "        validation_reward = 0\n",
    "        validation_actions = []\n",
    "\n",
    "        for k in range(1, X_val.shape[0]):\n",
    "            val_action = value_network(val_state).argmax()\n",
    "\n",
    "            val_next_state = X_val[k]\n",
    "            val_next_state[..., -1] = val_action\n",
    "\n",
    "            val_next_bid = bid_val[k]\n",
    "            val_next_ask = ask_val[k]\n",
    "\n",
    "            reward = get_reward(val_state, val_bid, val_ask, val_next_state, val_next_bid, val_next_ask, neutral_penalty=0)\n",
    "            validation_reward += reward\n",
    "            validation_actions.append(val_action.item())\n",
    "            val_state = val_next_state\n",
    "            val_bid = val_next_bid\n",
    "            val_ask = val_next_ask\n",
    "\n",
    "        mlflow.log_metric(\"validation_episode_reward\", validation_reward, step=epoch)\n",
    "        for key, value in dict(pd.Series(validation_actions).value_counts()).items():\n",
    "            mlflow.log_metric(f\"validation_action_{key}\", value, step=epoch)\n",
    "\n",
    "        if validation_reward > best_episode_validation_reward:\n",
    "            best_episode_validation_reward = validation_reward\n",
    "            torch.save(value_network.state_dict(), \"best_val_value_state_dict.pt\")\n",
    "            mlflow.log_artifact(\"best_val_value_state_dict.pt\")\n",
    "        value_network.train()\n",
    "\n",
    "torch.save(value_network.state_dict(), \"last_train_value_state_dict.pt\")\n",
    "mlflow.log_artifact(\"last_train_value_state_dict.pt\")"
   ]
  },
  {
   "cell_type": "code",
   "execution_count": null,
   "id": "d9bdf3e2-2776-4f2d-a9d5-344397407d45",
   "metadata": {},
   "outputs": [],
   "source": []
  },
  {
   "cell_type": "code",
   "execution_count": null,
   "id": "f8ad4ea0-6ba3-4b46-a3d1-fbcafa3cbd94",
   "metadata": {},
   "outputs": [],
   "source": []
  },
  {
   "cell_type": "code",
   "execution_count": null,
   "id": "56281de0-8424-4686-b1ef-bfb9aced9e40",
   "metadata": {},
   "outputs": [],
   "source": []
  },
  {
   "cell_type": "code",
   "execution_count": null,
   "id": "d50e1ec8-6d0e-4a86-8287-7e8b4533f121",
   "metadata": {},
   "outputs": [
    {
     "name": "stdout",
     "output_type": "stream",
     "text": [
      "Epoch:    14, Reward: -29.872640, Value loss:   0.241062\r"
     ]
    }
   ],
   "source": [
    "for dataset in datasets:\n",
    "    for USE_MIDPRICE in [False, True]:\n",
    "        # Fetch data\n",
    "        X_train, X_val, X_test, y_train, y_val, y_test, bid_train, bid_val, bid_test, ask_train, ask_val, ask_test = [torch.load(path) for path in dataset]\n",
    "        y_train, y_val, y_test = y_train.long(), y_val.long(), y_test.long()\n",
    "        INPUT_DIMS = X_train.shape[-1]\n",
    "        \n",
    "        value_network = ValueNetwork(input_dim = INPUT_DIMS, output_dim = OUTPUT_DIMS).to(device)\n",
    "        fixed_network = ValueNetwork(input_dim = INPUT_DIMS, output_dim = OUTPUT_DIMS).to(device)\n",
    "        fixed_network.load_state_dict(value_network.state_dict())\n",
    "        value_network.train()\n",
    "        fixed_network.eval()\n",
    "        \n",
    "        value_optimizer = optim.Adam(params=value_network.parameters(), lr=LEARNING_RATE)\n",
    "        mse_fn = nn.MSELoss()\n",
    "        \n",
    "        # Begin logging\n",
    "        with mlflow.start_run() as run:\n",
    "            mlflow.log_params({\n",
    "                'batch_size': BATCH_SIZE,\n",
    "                'n_epochs': N_EPOCHS,\n",
    "                'train_start_epoch': EPOCH_TRAIN_START,\n",
    "                'learning_rate': LEARNING_RATE,\n",
    "                'replay_memory_size': REPLAY_MEMORY_SIZE,\n",
    "                'discount_rate': DISCOUNT_RATE,\n",
    "                'frozen_update_interval': FROZEN_UPDATE_INTERVAL,\n",
    "                'use_midprice': USE_MIDPRICE,\n",
    "                'trading_fee': TRADING_FEE,\n",
    "                'neutral_penalty': NEUTRAL_PENALTY,\n",
    "                'market_open': MARKET_OPEN,\n",
    "                'market_close': MARKET_CLOSE,\n",
    "                'granularity': GRANULARITY,\n",
    "                'month': MONTH,\n",
    "                'datascope': dataset[0].split(\"/\")[2],\n",
    "                'device': device,\n",
    "                'input_dims': INPUT_DIMS,\n",
    "                'critic_loss_fn': 'MSE',\n",
    "                'network_optimizer_fns': 'Adam',\n",
    "                'pretrain_loss_fn': 'CrossEntropyLoss',\n",
    "                'policy_network': str(value_network.linear_stack).replace(\"in_features=\", \"\").replace(\"out_features=\", \"\").replace(\" \", \"\").replace(\"\\n\", \"\").replace(\",bias=True\", \"\"),\n",
    "                'min_exploration_rate': min_exploration_rate,\n",
    "                'max_exploration_rate': max_exploration_rate,\n",
    "                'exploration_decay_rate': exploration_decay_rate,\n",
    "            })\n",
    "\n",
    "            critic_loss_history = []\n",
    "            policy_loss_history = []\n",
    "            reward_history = []\n",
    "            replay_memory = ReplayMemory(REPLAY_MEMORY_SIZE) # 2**20 values\n",
    "            \n",
    "            best_episode_reward = float(\"-inf\")\n",
    "            best_episode_validation_reward = float(\"-inf\")\n",
    "\n",
    "            for epoch in range(N_EPOCHS):\n",
    "                value_network.train()\n",
    "                episode_action_history = []\n",
    "                done = False\n",
    "                episode_reward = 0\n",
    "                state = X_train[0].clone()\n",
    "                bid, ask = bid_train[0], ask_train[0]\n",
    "\n",
    "                for i in range(1, X_train.shape[0]):\n",
    "                    # Explore vs exploit\n",
    "                    exploration_rate = min_exploration_rate + (max_exploration_rate - min_exploration_rate) * np.exp(-exploration_decay_rate*(epoch - EPOCH_TRAIN_START))\n",
    "                    if random.uniform(0, 1) > exploration_rate:\n",
    "                        value_network(state).argmax()\n",
    "                    else:\n",
    "                        action = torch.tensor(random.sample(ACTION_SPACE, 1)).to(device) # Explore\n",
    "\n",
    "                    # Environment step\n",
    "                    next_state = X_train[i].clone()\n",
    "                    next_state[..., -1] = action\n",
    "                    next_bid = bid_train[i]\n",
    "                    next_ask = ask_train[i]\n",
    "\n",
    "                    reward = get_reward(state, bid, ask, next_state, next_bid, next_ask, use_midprice=USE_MIDPRICE, trading_fee=TRADING_FEE, neutral_penalty=NEUTRAL_PENALTY)\n",
    "                    done = i == (X_train.shape[0] - 1)\n",
    "\n",
    "                    # Saves\n",
    "                    replay_memory.push(Experience(state, action, reward, next_state, done))\n",
    "                    episode_action_history.append(action.item())\n",
    "                    episode_reward += reward\n",
    "                    state = next_state\n",
    "                    bid = next_bid\n",
    "                    ask = next_ask\n",
    "\n",
    "                    if replay_memory.can_provide_sample(BATCH_SIZE) and epoch > EPOCH_TRAIN_START:\n",
    "                        states, actions, rewards, next_states, dones = replay_memory.sample(BATCH_SIZE)\n",
    "                        states, actions, rewards, next_states, dones = states.to(device), actions.to(device), rewards.to(device), next_states.to(device), dones.to(device)\n",
    "                        actions = actions.long()\n",
    "                        dones = dones.float()\n",
    "\n",
    "                        # Error calculation\n",
    "                        action_targets = value_network(next_states).max(dim=-1)[1].unsqueeze(-1)\n",
    "                        target_values = rewards + (1 - dones) * DISCOUNT_RATE * fixed_network(next_states).gather(-1, action_targets).squeeze(-1) # Double DQN\n",
    "                        # target_values = rewards + (1 - dones) * DISCOUNT_RATE * q_fn_frozen(next_states).max(dim=-1)[0] # DQN\n",
    "\n",
    "                        current_values = value_network(states).gather(-1, actions.unsqueeze(-1)).squeeze(1)\n",
    "\n",
    "                        # Loss\n",
    "                        loss = mse_fn(current_values, target_values.detach())\n",
    "                        value_optimizer.zero_grad()\n",
    "                        loss.backward()\n",
    "                        value_optimizer.step()\n",
    "\n",
    "                reward_history.append(episode_reward) ######## LOG THE REWARD\n",
    "                mlflow.log_metric(\"episode_reward\", episode_reward, step=epoch)\n",
    "\n",
    "                if replay_memory.can_provide_sample(BATCH_SIZE) and i % FROZEN_UPDATE_INTERVAL == 0 and epoch > EPOCH_TRAIN_START:\n",
    "                    fixed_network.load_state_dict(value_network.state_dict())\n",
    "                    fixed_network.eval()\n",
    "\n",
    "                if replay_memory.can_provide_sample(BATCH_SIZE) and epoch > EPOCH_TRAIN_START:\n",
    "                        print(f\"Epoch: {epoch:>5,d}, Reward: {episode_reward:>10,.6f}, Value loss: {loss.item():>10,.6f}\", end=\"\\r\")\n",
    "                        mlflow.log_metric(\"train_value_network_loss\", loss.item(), step=epoch)\n",
    "                        \n",
    "                        # Save episode action information - Need to see if the agent is changing its portfolio regularly\n",
    "                        for k, v in dict(pd.Series(episode_action_history).value_counts()).items():\n",
    "                            mlflow.log_metric(f\"action_{k}\", v, step=epoch)\n",
    "                            \n",
    "                if (episode_reward > best_episode_reward):\n",
    "                    best_episode_reward = episode_reward\n",
    "                    torch.save(value_network.state_dict(), \"best_train_value_state_dict.pt\")\n",
    "                    mlflow.log_artifact(\"best_train_value_state_dict.pt\")\n",
    "################\n",
    "                with torch.no_grad():\n",
    "                    # Validation checks\n",
    "                    value_network.eval()\n",
    "                    val_state = X_val[0]\n",
    "                    val_bid = bid_val[0]\n",
    "                    val_ask = ask_val[0]\n",
    "                    validation_reward = 0\n",
    "                    validation_actions = []\n",
    "\n",
    "                    for k in range(1, X_val.shape[0]):\n",
    "                        val_action = value_network(val_state).argmax()\n",
    "\n",
    "                        val_next_state = X_val[k]\n",
    "                        val_next_state[..., -1] = val_action\n",
    "\n",
    "                        val_next_bid = bid_val[k]\n",
    "                        val_next_ask = ask_val[k]\n",
    "\n",
    "                        reward = get_reward(val_state, val_bid, val_ask, val_next_state, val_next_bid, val_next_ask, neutral_penalty=0)\n",
    "                        validation_reward += reward\n",
    "                        validation_actions.append(val_action.item())\n",
    "                        val_state = val_next_state\n",
    "                        val_bid = val_next_bid\n",
    "                        val_ask = val_next_ask\n",
    "\n",
    "                    mlflow.log_metric(\"validation_episode_reward\", validation_reward, step=epoch)\n",
    "                    for key, value in dict(pd.Series(validation_actions).value_counts()).items():\n",
    "                        mlflow.log_metric(f\"validation_action_{key}\", value, step=epoch)\n",
    "\n",
    "                    if validation_reward > best_episode_validation_reward:\n",
    "                        best_episode_validation_reward = validation_reward\n",
    "                        torch.save(value_network.state_dict(), \"best_val_value_state_dict.pt\")\n",
    "                        mlflow.log_artifact(\"best_val_value_state_dict.pt\")\n",
    "                    value_network.train()\n",
    "\n",
    "            torch.save(value_network.state_dict(), \"last_train_value_state_dict.pt\")\n",
    "            mlflow.log_artifact(\"last_train_value_state_dict.pt\")\n",
    "            "
   ]
  },
  {
   "cell_type": "markdown",
   "id": "097e44b0-d3ed-4521-9fa3-61cb55d775a8",
   "metadata": {
    "tags": []
   },
   "source": [
    "## DQN"
   ]
  }
 ],
 "metadata": {
  "kernelspec": {
   "display_name": "Python 3 (ipykernel)",
   "language": "python",
   "name": "python3"
  },
  "language_info": {
   "codemirror_mode": {
    "name": "ipython",
    "version": 3
   },
   "file_extension": ".py",
   "mimetype": "text/x-python",
   "name": "python",
   "nbconvert_exporter": "python",
   "pygments_lexer": "ipython3",
   "version": "3.9.7"
  },
  "toc-showtags": false
 },
 "nbformat": 4,
 "nbformat_minor": 5
}
