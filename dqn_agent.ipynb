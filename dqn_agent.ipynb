{
 "cells": [
  {
   "cell_type": "markdown",
   "id": "b30fc2e2-8c7d-438b-b1fb-b30de9816711",
   "metadata": {},
   "source": [
    "Enhancements:\n",
    "- Include price that assets were bought into the state\n",
    "- Explore neutral penalty\n",
    "- Encoding layer to control/learn state representation\n",
    "- Improve stability of learning algorithms through the use of PPO, SAC\n",
    "- Create short-term endpoints for trading windows during training and shuffle these windows\n",
    "- Feature selection and hyperparameter tuning through validation search [Discount rate, ]\n",
    "- More sophistication for state-propagation, e.g. Recurrent NN, Transformer\n",
    "\n",
    "TODO:\n",
    "- Walk-forward validation training\n",
    "- Test evaluation of all models\n",
    "- Use trained value network and pretrained policy network?\n",
    "\n",
    "\n",
    "Consider:\n",
    "- Recreating the table on Slide 41 of 56 from this set of lecture slides would be good for our purposes https://www.davidsilver.uk/wp-content/uploads/2020/03/FA.pdf\n",
    "\n",
    "\n",
    "Final report\n",
    "- Describe RL\n",
    "- Describe LOB\n",
    "- What metric are we trying to optimise\n",
    "- Inputs\n",
    "- Literature review\n",
    "- Results"
   ]
  },
  {
   "cell_type": "markdown",
   "id": "b06e4a4d-1b44-4f56-9fac-0cd2fd660a44",
   "metadata": {
    "tags": []
   },
   "source": [
    "## 1. Overview\n",
    "\n",
    "Note that for this Reinforcement Learning problem, the actions available to the agent are:\n",
    "- 0: Short   (Have -1 asset)\n",
    "- 1: Neutral (Have 0 asset)\n",
    "- 2: Long    (Have 1 asset)"
   ]
  },
  {
   "cell_type": "markdown",
   "id": "961f4020-f9bb-40b5-ba47-c0c3eb1acc21",
   "metadata": {},
   "source": [
    "## 2. Install the necessary packages\n",
    "- Models\n",
    "- Commons\n",
    "- Environment manager"
   ]
  },
  {
   "cell_type": "code",
   "execution_count": 1,
   "id": "4925c3c2-4e00-4389-9bd8-721f04f31b02",
   "metadata": {},
   "outputs": [
    {
     "name": "stdout",
     "output_type": "stream",
     "text": [
      "Obtaining file:///home/e0310734/code/requirements_installer\n",
      "Installing collected packages: rl-finance\n",
      "  Attempting uninstall: rl-finance\n",
      "    Found existing installation: rl-finance 0.1\n",
      "    Uninstalling rl-finance-0.1:\n",
      "      Successfully uninstalled rl-finance-0.1\n",
      "  Running setup.py develop for rl-finance\n",
      "Successfully installed rl-finance-0.1\n"
     ]
    }
   ],
   "source": [
    "!pip install -e requirements_installer"
   ]
  },
  {
   "cell_type": "markdown",
   "id": "4f51a774-c6a4-4933-bfd4-119b5d640c4e",
   "metadata": {},
   "source": [
    "## 3. Import packages"
   ]
  },
  {
   "cell_type": "code",
   "execution_count": 1,
   "id": "03432b8f-6499-49d9-aece-158eaf854b44",
   "metadata": {},
   "outputs": [],
   "source": [
    "%load_ext autoreload\n",
    "%autoreload 2\n",
    "\n",
    "import random\n",
    "import mlflow\n",
    "import numpy as np\n",
    "import pandas as pd\n",
    "import matplotlib.pyplot as plt\n",
    "\n",
    "import torch\n",
    "import torch.nn as nn\n",
    "import torch.optim as optim\n",
    "\n",
    "from sklearn.model_selection import train_test_split\n",
    "from sklearn.model_selection import TimeSeriesSplit\n",
    "\n",
    "from rl_finance.environments import BaseEnvironment\n",
    "from rl_finance.commons import Experience, ReplayMemory\n",
    "from rl_finance.models import ActionValueNetwork, PolicyNetwork\n",
    "from rl_finance.agents import DQN_Agent\n",
    "\n",
    "\n",
    "%matplotlib inline\n",
    "device = 'cuda:1' if torch.cuda.is_available() else 'cpu'\n",
    "mlflow.set_tracking_uri(\"file:///home/e0310734/logs/mlruns\")"
   ]
  },
  {
   "cell_type": "markdown",
   "id": "5bee027f-1d88-4947-bbfc-36400d3caf28",
   "metadata": {},
   "source": [
    "## 4. Logger function"
   ]
  },
  {
   "cell_type": "code",
   "execution_count": 2,
   "id": "8e467d2d-35c7-4e03-8874-1452522687c8",
   "metadata": {},
   "outputs": [],
   "source": [
    "def mlflow_log(log, prefix, epoch=None):\n",
    "    for k, v in log.items():\n",
    "        if not hasattr(v, '__iter__'):\n",
    "            mlflow.log_metric(f\"{prefix}_{k}\", v, step=epoch)\n",
    "    \n",
    "    # Log losses\n",
    "    losses = log['losses']\n",
    "    if losses:\n",
    "        mlflow.log_metric(f\"{prefix}_loss\", losses[-1], step=epoch)\n",
    "    \n",
    "    # Log action history\n",
    "    action_info = dict(pd.Series(log['episode_action_history']).value_counts())\n",
    "    for action, action_count in action_info.items():\n",
    "        mlflow.log_metric(f\"{prefix}_action_{action}\", action_count, step=epoch)"
   ]
  },
  {
   "cell_type": "markdown",
   "id": "a3dd33c5-0ed9-4828-ac8d-3f812d7d5a2a",
   "metadata": {},
   "source": [
    "## 5. List the dataset locations"
   ]
  },
  {
   "cell_type": "code",
   "execution_count": 3,
   "id": "ed0e6134-47de-4b29-b506-e668e81c54d4",
   "metadata": {},
   "outputs": [],
   "source": [
    "MONTH = 'jan'\n",
    "datasets = []\n",
    "dataset_scopes = ['minimal', 'minimal_window', 'full', 'full_window']\n",
    "dataset_components = [\n",
    "    'X_train.pt', 'X_validation.pt', 'X_test.pt',\n",
    "    'y_train.pt', 'y_validation.pt', 'y_test.pt',\n",
    "    'bid_train.pt', 'bid_val.pt', 'bid_test.pt',\n",
    "    'ask_train.pt', 'ask_val.pt', 'ask_test.pt',\n",
    "]\n",
    "\n",
    "for dataset_scope in dataset_scopes:\n",
    "    dataset = []\n",
    "    for dataset_component in dataset_components:\n",
    "        dataset.append(\"../data/processed_datasets/\" + MONTH + \"/\" + dataset_scope + \"/\" + dataset_component)\n",
    "    datasets.append(dataset)"
   ]
  },
  {
   "cell_type": "markdown",
   "id": "53410a62-3c77-4561-bf71-3f54236347fa",
   "metadata": {},
   "source": [
    "## 6. State constant hyperparameters"
   ]
  },
  {
   "cell_type": "code",
   "execution_count": 4,
   "id": "8a82735c-3427-4ec5-8ab1-176eebb4247f",
   "metadata": {},
   "outputs": [],
   "source": [
    "ACTION_SPACE = [0, 1, 2]\n",
    "OUTPUT_DIMS = 3\n",
    "BATCH_SIZE = 512\n",
    "\n",
    "N_EPOCHS = 150\n",
    "EPOCH_TRAIN_START = 5  # Number of epochs to populate the ReplayMemory before we start sampling from it\n",
    "LEARNING_RATE = 1e-6\n",
    "REPLAY_MEMORY_SIZE = int(2**20)\n",
    "DISCOUNT_RATE = 0.999\n",
    "TARGET_UPDATE_INTERVAL = 12\n",
    "\n",
    "TRADING_FEE = 3e-5\n",
    "NEUTRAL_PENALTY = 1e-5"
   ]
  },
  {
   "cell_type": "markdown",
   "id": "576599e0-b83e-4028-b997-e2382b4f9892",
   "metadata": {},
   "source": [
    "## 7. Select exploration-exploitation trade-off parameters"
   ]
  },
  {
   "cell_type": "code",
   "execution_count": 5,
   "id": "1ba03b63-add1-428c-a92d-ee18e6759db0",
   "metadata": {},
   "outputs": [
    {
     "data": {
      "image/png": "[encoded data removed]",
      "text/plain": [
       "<Figure size 432x288 with 1 Axes>"
      ]
     },
     "metadata": {
      "needs_background": "light"
     },
     "output_type": "display_data"
    }
   ],
   "source": [
    "min_expl = 0.001\n",
    "max_expl = 1.\n",
    "expl_decay = 0.025\n",
    "ers = []\n",
    "for epoch in range(N_EPOCHS):\n",
    "    exploration_rate = min_expl + (max_expl - min_expl) * np.exp(-expl_decay*(epoch - EPOCH_TRAIN_START))\n",
    "    ers.append(exploration_rate)\n",
    "pd.Series(ers).plot()\n",
    "plt.title(\"Probability that an agent will explore\")\n",
    "plt.ylabel(\"Exploration rate\")\n",
    "plt.ylim((0,1))\n",
    "plt.xlabel(\"Epoch number\");"
   ]
  },
  {
   "cell_type": "markdown",
   "id": "77a8061b-9c65-4d76-bc0f-02610c04f8ab",
   "metadata": {},
   "source": [
    "## 8. Reinforcement Learning: Deep Q Network"
   ]
  },
  {
   "cell_type": "markdown",
   "id": "e2b333da-429c-40bf-b7e7-1c1e6ae47398",
   "metadata": {},
   "source": [
    "Start with a 1-pass algorithm then package it into a function and iterate over each of the hyperparameters"
   ]
  },
  {
   "cell_type": "code",
   "execution_count": 6,
   "id": "a26bae74-dac3-4390-9423-0dd2238f96a9",
   "metadata": {},
   "outputs": [
    {
     "data": {
      "text/plain": [
       "<Experiment: artifact_location='file:///home/e0310734/logs/mlruns/2', experiment_id='2', lifecycle_stage='active', name='DQN', tags={}>"
      ]
     },
     "execution_count": 6,
     "metadata": {},
     "output_type": "execute_result"
    }
   ],
   "source": [
    "mlflow.set_experiment(\"DQN\")"
   ]
  },
  {
   "cell_type": "code",
   "execution_count": null,
   "id": "13df28b5-59e4-482b-8103-92c9f74d0d68",
   "metadata": {},
   "outputs": [],
   "source": [
    "for dataset in datasets:\n",
    "    for USE_MIDPRICE in [False, True]:\n",
    "        with mlflow.start_run() as run:\n",
    "            X_train, X_val, X_test, y_train, y_val, y_test, bid_train, bid_val, bid_test, ask_train, ask_val, ask_test = [torch.load(path) for path in dataset]\n",
    "\n",
    "            INPUT_DIM = X_train.shape[-1]\n",
    "            OUTPUT_DIM = len(ACTION_SPACE)\n",
    "\n",
    "            train_env = BaseEnvironment(X_train, bid_train, ask_train, use_midprice=USE_MIDPRICE)\n",
    "            val_env = BaseEnvironment(X_val, bid_val, ask_val, use_midprice=USE_MIDPRICE)\n",
    "            test_env = BaseEnvironment(X_test, bid_test, ask_test, use_midprice=USE_MIDPRICE)\n",
    "            replay_memory = ReplayMemory(REPLAY_MEMORY_SIZE)\n",
    "\n",
    "            action_value_network = ActionValueNetwork(input_dim=INPUT_DIM, output_dim=OUTPUT_DIM)\n",
    "            action_value_network.to(device)\n",
    "\n",
    "            target_action_value_network = ActionValueNetwork(input_dim=INPUT_DIM, output_dim=OUTPUT_DIM)\n",
    "            target_action_value_network.load_state_dict(action_value_network.state_dict())\n",
    "            target_action_value_network.to(device);\n",
    "\n",
    "            agent = DQN_Agent(\n",
    "                model = action_value_network,\n",
    "                target_model = target_action_value_network,\n",
    "                device = device,\n",
    "                action_space = ACTION_SPACE,\n",
    "                replay_memory = replay_memory,\n",
    "                batch_size = BATCH_SIZE,\n",
    "                min_expl = min_expl,\n",
    "                max_expl = max_expl,\n",
    "                expl_decay = expl_decay,\n",
    "                epoch_train_start = EPOCH_TRAIN_START,\n",
    "                learning_rate = LEARNING_RATE,\n",
    "                discount_rate = DISCOUNT_RATE,\n",
    "                target_update_interval = TARGET_UPDATE_INTERVAL\n",
    "            )\n",
    "\n",
    "            mlflow.log_params({\n",
    "                'batch_size': BATCH_SIZE,\n",
    "                'n_epochs': N_EPOCHS,\n",
    "                'train_start_epoch': EPOCH_TRAIN_START,\n",
    "                'learning_rate': LEARNING_RATE,\n",
    "                'replay_memory_size': REPLAY_MEMORY_SIZE,\n",
    "                'discount_rate': DISCOUNT_RATE,\n",
    "                'target_update_interval': TARGET_UPDATE_INTERVAL,\n",
    "                'use_midprice': USE_MIDPRICE,\n",
    "                'trading_fee': TRADING_FEE,\n",
    "                'neutral_penalty': NEUTRAL_PENALTY,\n",
    "                'datascope': dataset[0].split(\"/\")[2],\n",
    "                'device': device,\n",
    "                'input_dim': INPUT_DIM,\n",
    "                'policy_network': str(action_value_network.linear_stack).replace(\"in_features=\", \"\").replace(\"out_features=\", \"\").replace(\" \", \"\").replace(\"\\n\", \"\").replace(\",bias=True\", \"\"),\n",
    "                'min_exploration_rate': min_expl,\n",
    "                'max_exploration_rate': max_expl,\n",
    "                'exploration_decay_rate': expl_decay,\n",
    "            })\n",
    "\n",
    "            train_save_path = \"/tmp/train_dqn.pt\"\n",
    "            val_save_path = \"/tmp/val_dqn.pt\"\n",
    "            walkforward_val_save_path = \"/tmp/walkforward_val_dqn.pt\"\n",
    "\n",
    "            best_val_reward = float(\"-inf\")\n",
    "\n",
    "            for epoch in range(N_EPOCHS):\n",
    "                train_log = agent.train(train_env)\n",
    "                mlflow_log(train_log, prefix=\"train\", epoch=epoch)\n",
    "\n",
    "                val_log = agent.validate(val_env, can_explore=False, can_learn=False)\n",
    "                mlflow_log(val_log, prefix=\"val\", epoch=epoch)\n",
    "                val_reward = val_log['episode_reward']\n",
    "                if val_reward > best_val_reward:\n",
    "                    best_val_reward = val_reward\n",
    "                    action_value_network.save(val_save_path)\n",
    "                    mlflow.log_artifact(val_save_path)\n",
    "\n",
    "            # After all epochs, save training model\n",
    "            action_value_network.save(train_save_path)\n",
    "            mlflow.log_artifact(train_save_path)\n",
    "\n",
    "\n",
    "            ### Run and log walkforward validation results - Last trained model\n",
    "            # Val\n",
    "            val_log_t = agent.validate(val_env, can_explore=True, can_learn=True)\n",
    "            mlflow_log(val_log_t, prefix=\"val_last_train\")\n",
    "\n",
    "            # Test\n",
    "            test_log_t = agent.test(test_env, can_explore=False, can_learn=True)\n",
    "            mlflow_log(test_log_t, prefix=\"test_last_train\")\n",
    "\n",
    "\n",
    "\n",
    "            ### Run and log walkforward validation results - Best validation model\n",
    "            agent.model.load_state_dict(torch.load(val_save_path))\n",
    "\n",
    "            # Val\n",
    "            val_log_v = agent.validate(val_env, can_explore=True, can_learn=True)\n",
    "            mlflow_log(val_log_v, prefix=\"val_best_val\")\n",
    "\n",
    "            # Test\n",
    "            test_log_v = agent.test(test_env, can_explore=False, can_learn=True)\n",
    "            mlflow_log(test_log_v, prefix=\"test_best_val\")"
   ]
  }
 ],
 "metadata": {
  "kernelspec": {
   "display_name": "Python 3 (ipykernel)",
   "language": "python",
   "name": "python3"
  },
  "language_info": {
   "codemirror_mode": {
    "name": "ipython",
    "version": 3
   },
   "file_extension": ".py",
   "mimetype": "text/x-python",
   "name": "python",
   "nbconvert_exporter": "python",
   "pygments_lexer": "ipython3",
   "version": "3.9.7"
  },
  "toc-showtags": false
 },
 "nbformat": 4,
 "nbformat_minor": 5
}
