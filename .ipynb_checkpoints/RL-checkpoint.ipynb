{
 "cells": [
  {
   "cell_type": "markdown",
   "id": "2958668a-f437-4d29-9a17-518f5820aefb",
   "metadata": {},
   "source": [
    "Final report\n",
    "- Describe RL\n",
    "- Describe LOB\n",
    "- What metric are we trying to optimise\n",
    "- Inputs\n",
    "- Literature review\n",
    "- Results"
   ]
  },
  {
   "cell_type": "markdown",
   "id": "68543e12-9c91-4d1f-8aab-2e1e596e8d83",
   "metadata": {
    "tags": []
   },
   "source": [
    "# Todo\n",
    "\n",
    "Saturday:\n",
    "- Check the bid-ask index\n",
    "- Code correctness check\n",
    "  - Verify that neither actor nor critic need each others gradients\n",
    "  - Check the update of log_prob is correct and appropriate (That it is done on the network after retrieveing saved data, after actions and transitions have been taken)\n",
    "  - Perhaps I need to shrink my replay memory size\n",
    "  - Figure out why policy_loss is sometimes negative, it should never be negative\n",
    "  - Clean up excessive cloning\n",
    "  - Minimize data transfers (.cpu().numpy().tolist())\n",
    "  - FIX MY REWARD FUNCTION\n",
    "  - Check buy-sell-buy-sell-buy-sell for reward function\n",
    "- Standardization\n",
    "- We could delineate trading by passing in random durations as episodes rather than the whole dataset (Check that this is a valid approach)\n",
    "- Include timestamps for the Rewards that we save\n",
    "- Do some feature selection\n",
    "- Penalty term for neutral positions\n",
    "- Pretrain actor network\n",
    "  - Freeze the actor network and train the critic network\n",
    "  - Commence full QAC training\n",
    "  \n",
    "Sunday:\n",
    "- Need to figure out MLflow logging\n",
    "- Tensorboard: https://pytorch.org/tutorials/intermediate/tensorboard_tutorial.html\n",
    "\n",
    "Monday:\n",
    "- PPO\n",
    "- Long-only policy\n",
    "- Recreating the table on Slide 41 of 56 from this set of lecture slides would be good for our purposes https://www.davidsilver.uk/wp-content/uploads/2020/03/FA.pdf\n",
    "- Soft Actor Critic: https://arxiv.org/abs/1910.07207"
   ]
  },
  {
   "cell_type": "code",
   "execution_count": 1,
   "id": "03432b8f-6499-49d9-aece-158eaf854b44",
   "metadata": {},
   "outputs": [],
   "source": [
    "import os\n",
    "import random\n",
    "from collections import namedtuple\n",
    "\n",
    "import numpy as np\n",
    "import pandas as pd\n",
    "import matplotlib.pyplot as plt\n",
    "\n",
    "import torch\n",
    "import torch.optim as optim\n",
    "from torch import nn\n",
    "from torch.nn import functional as F\n",
    "from torch.distributions.categorical import Categorical\n",
    "\n",
    "from sklearn.model_selection import train_test_split\n",
    "from sklearn.model_selection import TimeSeriesSplit\n",
    "from scipy.optimize import minimize_scalar\n",
    "\n",
    "from LOB_analysis import *\n",
    "\n",
    "%matplotlib inline"
   ]
  },
  {
   "cell_type": "code",
   "execution_count": 2,
   "id": "7bc00e2d-e74d-4860-b7e5-48effc6b700d",
   "metadata": {},
   "outputs": [],
   "source": [
    "os.environ[\"CUDA_VISIBLE_DEVICES\"] = \"0\"\n",
    "device = 'cuda' if torch.cuda.is_available() else 'cpu'"
   ]
  },
  {
   "cell_type": "code",
   "execution_count": 3,
   "id": "943d5421-cd65-460d-bc19-2a9630e731d5",
   "metadata": {},
   "outputs": [],
   "source": [
    "MARKET_OPEN = '9:30'\n",
    "MARKET_CLOSE = '16:00'\n",
    "\n",
    "message = pd.read_pickle(r\"../data/AMD_jan_msg.pickle\")\n",
    "orderbook = pd.read_pickle(r\"../data/AMD_jan_odb.pickle\")\n",
    "\n",
    "market_open_idx = message.set_index('time').index.indexer_between_time(MARKET_OPEN, MARKET_CLOSE)\n",
    "\n",
    "message = message.iloc[market_open_idx, :].reset_index(drop=True)\n",
    "orderbook = orderbook.iloc[market_open_idx, :].reset_index(drop=True)\n",
    "data = generate_data(message, orderbook, granularity='5 min')"
   ]
  },
  {
   "cell_type": "markdown",
   "id": "6073c0da-5090-4ca9-9d6b-a42010cd616a",
   "metadata": {
    "tags": []
   },
   "source": [
    "## 3. Create features\n",
    "\n",
    "**I do not know if standardization is actually a good thing. [CHECK - Ask prof too]**  \n",
    "Standardization will be done using a small window of previous events. This is because the statistical properties change as time moves on, so we standardize w.r.t small prior windows. Standardization benefits ML training since values will stradle 0 and not be too far from it.  \n",
    "\n",
    "**Check if we should reindex time-series data with forward padding and explicitly 0-labels given to these regions.**\n",
    "\n",
    "**BE CAREFUL OF THE CURSE OF DIMENSIONALITY**\n",
    "To understand if the curse of dimensionality is affecting performance, rerun the exact same experiments with fewer features and see if profitability increases.\n"
   ]
  },
  {
   "cell_type": "code",
   "execution_count": 4,
   "id": "ac1fb670-8efb-4ebc-9e10-4dd62ad0184c",
   "metadata": {},
   "outputs": [],
   "source": [
    "\"\"\"\n",
    "For optimizing the threshold value to produce balanced class labels.\n",
    "\n",
    "Use with scipy.optimize.minimize_scalar\n",
    "\"\"\"\n",
    "def label_eval(threshold, time_horizon = 50):\n",
    "    labels = get_label(data.mid_price, time_horizon = time_horizon, threshold = threshold)\n",
    "    counts = labels.value_counts()\n",
    "    return -(counts / counts.sum()).min()\n",
    "\n",
    "threshold = minimize_scalar(label_eval, bounds=(0, 2)).x\n",
    "labels = get_label(data.mid_price, time_horizon=50, threshold=threshold)"
   ]
  },
  {
   "cell_type": "code",
   "execution_count": 5,
   "id": "a13d1142-dddf-4411-91a2-85f5c2bc9dac",
   "metadata": {},
   "outputs": [],
   "source": [
    "# Normalize BEFORE time series sampling\n",
    "SAMPLE_SIZE = 20\n",
    "NUM_DATA_COLS = data.shape[1]\n",
    "bid_col_idx = data.columns.get_loc('bid')\n",
    "ask_col_idx = data.columns.get_loc('ask')\n",
    "\n",
    "curr_bid_idx = bid_col_idx + (NUM_DATA_COLS + 1) * (SAMPLE_SIZE - 1)\n",
    "curr_ask_idx = ask_col_idx + (NUM_DATA_COLS + 1) * (SAMPLE_SIZE - 1)"
   ]
  },
  {
   "cell_type": "code",
   "execution_count": 6,
   "id": "913cd36b-cb1d-4365-9e4c-1853470f3d3f",
   "metadata": {},
   "outputs": [
    {
     "data": {
      "text/plain": [
       "(1250, 20, 58)"
      ]
     },
     "execution_count": 6,
     "metadata": {},
     "output_type": "execute_result"
    }
   ],
   "source": [
    "X, y = generate_time_series_samples(data, labels, SAMPLE_SIZE) # This fn performs dropna\n",
    "X.shape"
   ]
  },
  {
   "cell_type": "code",
   "execution_count": 7,
   "id": "25fb250f-df69-461d-8e39-86b263511c09",
   "metadata": {},
   "outputs": [
    {
     "data": {
      "text/plain": [
       "(1250, 1160)"
      ]
     },
     "execution_count": 7,
     "metadata": {},
     "output_type": "execute_result"
    }
   ],
   "source": [
    "X_flatten = X.reshape(X.shape[0], -1)\n",
    "X_flatten.shape"
   ]
  },
  {
   "cell_type": "code",
   "execution_count": 8,
   "id": "f8695be0-f655-4aae-b1e8-4f911785ff10",
   "metadata": {},
   "outputs": [
    {
     "data": {
      "text/plain": [
       "torch.Size([1250, 1161])"
      ]
     },
     "execution_count": 8,
     "metadata": {},
     "output_type": "execute_result"
    }
   ],
   "source": [
    "X_torch = torch.ones((X_flatten.shape[0], X_flatten.shape[1] + 1))\n",
    "X_torch[:, :-1] = torch.tensor(X_flatten)\n",
    "X_torch = X_torch.to(device)\n",
    "X_torch.shape"
   ]
  },
  {
   "cell_type": "code",
   "execution_count": 9,
   "id": "f77f51c1-952c-4d9d-9939-f545357a9075",
   "metadata": {},
   "outputs": [],
   "source": [
    "bids = data.loc[y.index, 'bid'].copy()\n",
    "asks = data.loc[y.index, 'ask'].copy()"
   ]
  },
  {
   "cell_type": "code",
   "execution_count": 10,
   "id": "d3b685f1-a669-4499-90d4-de1e418e9a24",
   "metadata": {},
   "outputs": [],
   "source": [
    "class CriticNetwork(nn.Module):\n",
    "    def __init__(self):\n",
    "        super().__init__()\n",
    "        self.value = nn.Sequential(\n",
    "            nn.Linear(NUM_DATA_COLS * SAMPLE_SIZE + 1, 512),\n",
    "            nn.ReLU(),\n",
    "            nn.Linear(512, 128),\n",
    "            nn.ReLU(),\n",
    "            nn.Linear(128, 1),\n",
    "        )\n",
    "    \n",
    "    def forward(self):\n",
    "        raise NotImplementedError\n",
    "    \n",
    "    def get_value(self, state):\n",
    "        return self.value(state)"
   ]
  },
  {
   "cell_type": "markdown",
   "id": "cee07680-a941-449f-80ef-c9cdea817d7c",
   "metadata": {},
   "source": [
    "Note that actions are:\n",
    "- 0: Short   (Have -1 asset)\n",
    "- 1: Neutral (Have 0 asset)\n",
    "- 2: Long    (Have 1 asset)"
   ]
  },
  {
   "cell_type": "code",
   "execution_count": 11,
   "id": "c547c51c-d9d4-41ed-990b-f39bdc0ee5b6",
   "metadata": {},
   "outputs": [],
   "source": [
    "class ActorNetwork(nn.Module):\n",
    "    def __init__(self):\n",
    "        super().__init__()\n",
    "        self.action = nn.Sequential(\n",
    "            nn.Linear(NUM_DATA_COLS * SAMPLE_SIZE + 1, 512),\n",
    "            nn.ReLU(),\n",
    "            nn.Linear(512, 128),\n",
    "            nn.ReLU(),\n",
    "            nn.Linear(128, 3),\n",
    "        )\n",
    "\n",
    "    def forward(self):\n",
    "        raise NotImplementedError\n",
    "\n",
    "    def get_next_portfolio(self, state):\n",
    "        with torch.no_grad():\n",
    "            logits = self.action(state)\n",
    "            probs = Categorical(logits=logits)\n",
    "            action = probs.sample()\n",
    "        return action\n",
    "    \n",
    "    def get_log_prob(self, prev_state, curr_state):\n",
    "        logits = self.action(prev_state)\n",
    "        dist = Categorical(logits=logits)\n",
    "        action = curr_state[..., -1]\n",
    "        return dist.log_prob(action)"
   ]
  },
  {
   "cell_type": "code",
   "execution_count": 12,
   "id": "4d6a0cef-00e7-49f1-95bc-6afd27edbf3c",
   "metadata": {
    "tags": []
   },
   "outputs": [],
   "source": [
    "def get_reward(prev_state, curr_state, ask_idx, bid_idx, prev_action_idx=-1, trading_fee=1e-4, neutral_penalty=1e-6):\n",
    "    assert (prev_state.dim() == 1) and (curr_state.dim() == 1), \"State provided is not 1 dimensional\"\n",
    "    \n",
    "    valid_actions = [0, 1, 2]\n",
    "    assert (prev_state[prev_action_idx] in valid_actions) and (curr_state[prev_action_idx] in valid_actions), \"Action provided is not in [0, 1, 2] range\"\n",
    "    \n",
    "    prev_is_neutral = prev_state[prev_action_idx] == 1\n",
    "    curr_is_neutral = curr_state[prev_action_idx] == 1\n",
    "    \n",
    "    if prev_is_neutral:\n",
    "        if prev_is_neutral:\n",
    "            # Neutral -> Neutral\n",
    "            return -neutral_penalty # Cost of just staying neutral all the time\n",
    "        else:\n",
    "            # Neutral -> Active\n",
    "            return -trading_fee\n",
    "    \n",
    "    prev_ask, prev_bid = prev_state[ask_idx], prev_state[bid_idx]\n",
    "    curr_ask, curr_bid = curr_state[ask_idx], curr_state[bid_idx]\n",
    "    prev_is_long = prev_state[prev_action_idx] == 2\n",
    "    portfolio_is_same = prev_state[prev_action_idx] == curr_state[prev_action_idx]\n",
    "    \n",
    "    price_change = curr_ask - prev_ask if prev_is_long else prev_bid - curr_bid\n",
    "    price_change = price_change.item()\n",
    "    spread = (curr_ask - curr_bid).abs().item()\n",
    "    \n",
    "    if curr_is_neutral:\n",
    "        # Active -> Neutral\n",
    "        return price_change - spread - trading_fee\n",
    "    \n",
    "    else:\n",
    "        if portfolio_is_same:\n",
    "            # Active -> Active\n",
    "            return price_change # Active -> Active\n",
    "        else:\n",
    "            # Active -> -Active\n",
    "            return price_change - spread - trading_fee * 2"
   ]
  },
  {
   "cell_type": "code",
   "execution_count": 13,
   "id": "d292785a-999c-4235-ad36-b3afd7759650",
   "metadata": {},
   "outputs": [],
   "source": [
    "Experience = namedtuple(\"Experience\", ['state', 'next_state', 'reward'])"
   ]
  },
  {
   "cell_type": "code",
   "execution_count": 15,
   "id": "ca477d4a-c1b8-4e5d-b9f1-ac2e980f6286",
   "metadata": {},
   "outputs": [],
   "source": [
    "class ExperienceReplayMemory:\n",
    "    def __init__(self, capacity):\n",
    "        self.capacity = capacity\n",
    "        self.memory = []\n",
    "        self.count = 0\n",
    "    \n",
    "    def push(self, experience):\n",
    "        if len(self.memory) < self.capacity:\n",
    "            self.memory.append(experience)\n",
    "        else:\n",
    "            self.memory[self.count % self.capacity] = experience\n",
    "        self.count += 1\n",
    "    \n",
    "    def sample(self, batch_size):\n",
    "        # Its fine to sample without returning clones because these arent parameters anyway, their requires_grad is false\n",
    "        batch = Experience(*zip(*random.sample(self.memory, batch_size)))\n",
    "        t1 = torch.stack(batch.state)\n",
    "        t2 = torch.stack(batch.next_state)\n",
    "        t3 = torch.tensor(batch.reward).unsqueeze(1).to(device)\n",
    "        return Experience(state=t1, next_state=t2, reward=t3)\n",
    "    \n",
    "    def can_provide_sample(self, batch_size):\n",
    "        return len(self.memory) >= batch_size"
   ]
  },
  {
   "cell_type": "code",
   "execution_count": 16,
   "id": "8bb5a6a7-f3bc-4140-b53e-ae7949ce0edb",
   "metadata": {},
   "outputs": [
    {
     "data": {
      "text/plain": [
       "Experience(state=1, next_state=2, reward=3)"
      ]
     },
     "execution_count": 16,
     "metadata": {},
     "output_type": "execute_result"
    }
   ],
   "source": [
    "Experience(1,2,3)"
   ]
  },
  {
   "cell_type": "code",
   "execution_count": 17,
   "id": "69f00583-5ef9-4798-86a5-c07084a59a88",
   "metadata": {},
   "outputs": [],
   "source": [
    "X_train, X_test = train_test_split(X_torch, shuffle=False, test_size=0.2)"
   ]
  },
  {
   "cell_type": "markdown",
   "id": "387a4849-b9da-449f-b367-05f092378bf5",
   "metadata": {},
   "source": [
    "State representation:\n",
    "\n",
    "- At any current point we want to know our current portfolio\n",
    "- The action is how we want to the new portfolio that we want, we will limit our portfolio (and hence actions) to -1, 0, and 1 quantity of the asset  \n",
    "- We look at the next time step and get reward from the action we took"
   ]
  },
  {
   "cell_type": "code",
   "execution_count": null,
   "id": "c59a7e78-026b-40ac-94f8-27052c64904b",
   "metadata": {},
   "outputs": [
    {
     "name": "stdout",
     "output_type": "stream",
     "text": [
      "Iteration:    25509, Epoch:       25, Value function loss: 77108.5625, Policy function loss:     -0.00.0028515625866\r"
     ]
    }
   ],
   "source": [
    "policy = ActorNetwork().to(device)\n",
    "policy.train()\n",
    "\n",
    "critic = CriticNetwork().to(device)\n",
    "critic.train()\n",
    "\n",
    "critic_frozen = CriticNetwork().to(device)\n",
    "critic_frozen.load_state_dict(critic.state_dict())\n",
    "critic_frozen.eval();\n",
    "\n",
    "value_fn_losses = []\n",
    "policy_losses = []\n",
    "reward_history = [0]    # 0: Just so that len(reward_history) == len(portfolio_history)\n",
    "portfolio_history = [1] # 1: Starting portfolio (neutral), possble portfolios are [0, 1, 2] i.e. [short, neutral, long]\n",
    "\n",
    "memory = ExperienceReplayMemory(16384)\n",
    "\n",
    "lr = 1e-6\n",
    "gamma = 0.001     # Discounted rate of future returns\n",
    "batch_size = 1024 # Train size\n",
    "epochs = 30\n",
    "\n",
    "policy_optimizer = optim.Adam(params=policy.parameters(), lr=lr)\n",
    "critic_optimizer = optim.Adam(params=critic.parameters(), lr=lr)\n",
    "\n",
    "i = 0\n",
    "for epoch in range(epochs):\n",
    "    curr_state = X_train[0].clone() # Clone copies but maintains grad if one exists\n",
    "    for next_state in X_train[1:]:\n",
    "        # Do not modify our training data\n",
    "        next_state = next_state.clone()\n",
    "        \n",
    "        # Update the next_state with the new portfolio\n",
    "        portfolio = policy.get_next_portfolio(curr_state)\n",
    "        next_state[-1] = portfolio\n",
    "        \n",
    "        reward = get_reward(curr_state, next_state, ask_idx=curr_ask_idx, bid_idx=curr_bid_idx, trading_fee=1e-4, neutral_penalty=1e-2)\n",
    "        \n",
    "        reward_history.append(reward)\n",
    "        portfolio_history.append(portfolio.item())\n",
    "        experience = Experience(curr_state, next_state, reward)\n",
    "        memory.push(experience)\n",
    "        curr_state = next_state.clone()\n",
    "        i += 1\n",
    "        print(f\"Iteration: {i:8}, Epoch: {epoch:8}\", end=\"\\r\")\n",
    "        \n",
    "        if memory.can_provide_sample(batch_size) and (i % 10 == 0):\n",
    "            states, next_states, rewards = memory.sample(batch_size)\n",
    "            \n",
    "            with torch.no_grad():\n",
    "                target = rewards + gamma * critic_frozen.get_value(next_states)\n",
    "            advantages = target - critic.get_value(states)\n",
    "            log_probs = policy.get_log_prob(states, next_states)\n",
    "            \n",
    "            value_fn_loss = (advantages**2).mean()\n",
    "            policy_loss = (log_probs * advantages.detach()).mean() * -1 # This should always be positive, check why its sometimes negative\n",
    "            \n",
    "            policy_optimizer.zero_grad()\n",
    "            policy_loss.backward()\n",
    "            policy_optimizer.step()\n",
    "            \n",
    "            critic_optimizer.zero_grad()\n",
    "            value_fn_loss.backward()\n",
    "            critic_optimizer.step()\n",
    "            \n",
    "            print(f\"Iteration: {i:8}, Epoch: {epoch:8}, Value function loss: {value_fn_loss:8}, Policy function loss: {policy_loss:8}\", end=\"\\r\")\n",
    "        if i % 2000 == 0:\n",
    "            critic_frozen.load_state_dict(critic.state_dict())\n",
    "            value_fn_losses.append(value_fn_loss)\n",
    "            policy_losses.append(policy_loss)"
   ]
  },
  {
   "cell_type": "code",
   "execution_count": null,
   "id": "a1c7defd-2d5c-48bd-9fbe-0c59a693643b",
   "metadata": {},
   "outputs": [],
   "source": []
  },
  {
   "cell_type": "code",
   "execution_count": null,
   "id": "8fa68f85-0e26-4500-9b01-6d91ad7fd0b7",
   "metadata": {},
   "outputs": [],
   "source": []
  },
  {
   "cell_type": "code",
   "execution_count": null,
   "id": "ab3e3353-c819-429f-a9df-c71fc4e3a12e",
   "metadata": {
    "tags": []
   },
   "outputs": [],
   "source": [
    "### OLD ###\n",
    "### OLD ###\n",
    "### OLD ###\n",
    "\n",
    "policy = ActorNetwork().to(device)\n",
    "policy.train()\n",
    "\n",
    "critic = CriticNetwork().to(device)\n",
    "critic.train()\n",
    "\n",
    "critic_frozen = CriticNetwork().to(device)\n",
    "critic_frozen.load_state_dict(critic.state_dict())\n",
    "critic_frozen.eval();\n",
    "\n",
    "value_fn_losses = []\n",
    "policy_losses = []\n",
    "reward_history = []\n",
    "portfolio_history = [1] # 1 is the neutral position (Possble positions are [0, 1, 2] representing [short, neutral, long])\n",
    "\n",
    "memory = ExperienceReplayMemory(16384)\n",
    "\n",
    "lr = 1e-6\n",
    "gamma = 0.001    # Discounted future returns\n",
    "start_action = 0 # First action to take is to hold a neutral position\n",
    "batch_size = 1024 # Train size\n",
    "epochs = 30\n",
    "\n",
    "policy_optimizer = optim.Adam(params=policy.parameters(), lr=lr)\n",
    "critic_optimizer = optim.Adam(params=critic.parameters(), lr=lr)\n",
    "\n",
    "i = 0\n",
    "for epoch in range(epochs):\n",
    "    curr_state = X_train[0].clone() # Clone copies but maintains grad if one exists\n",
    "    for next_state in X_train[1:]:\n",
    "        portfolio = policy.get_next_portfolio(curr_state)\n",
    "        # After this point, we are in the next state\n",
    "        \n",
    "        # Update the default next_state with our current portfolio + action\n",
    "        next_state = next_state.clone()\n",
    "        next_state[-1] = portfolio.clone()\n",
    "        \n",
    "        portfolio_history.append(portfolio.item())\n",
    "        \n",
    "        # Might need to clone prev state here jst to make sure it doesnt break log_prob\n",
    "        # Might need to clone next_state before we call the advantage step, just to make sure its never changed\n",
    "        reward = get_reward(curr_state=curr_state, next_state=next_state, ask_idx=curr_ask_idx, bid_idx=curr_bid_idx, trading_fee=1e-4, neutral_penalty=1e-2)\n",
    "        reward_history.append(reward)\n",
    "        # Check that the type of reward is just a python float (Not a torch float)\n",
    "        \n",
    "        # EXCEPT FOR LOG_PROB WHICH MUST HAVE ITS BACKWARDS GRADIENT TRACKED\n",
    "        # If anything goes wrong, detach all 4 here, but first check that all their requires_grad are false if so, theres no point detaching\n",
    "        # Or just save the raw data .cpu().data.numpy().tolist()\n",
    "        experience = Experience(curr_state.cpu().data.numpy().tolist(), next_state.cpu().data.numpy().tolist(), reward)\n",
    "        memory.push(experience)\n",
    "        \n",
    "        curr_state = next_state #.clone()\n",
    "        i += 1\n",
    "        # print(f\"Iteration: {i}\\tEpoch: {epoch}\", end=\"\\r\")\n",
    "        \n",
    "        if memory.can_provide_sample(batch_size) and (i % 10 == 0): # Train weights every 10 steps\n",
    "            states, next_states, rewards = memory.sample(batch_size) # Check that all of them do not have gradient properties, we dont want to change them inplace cos theyll be buffered\n",
    "            \n",
    "            with torch.no_grad():\n",
    "                target = rewards + gamma * critic_frozen.get_value(next_states)\n",
    "                # target = target.detach() # Ensure that this is not necessary, that target has no gradient properties\n",
    "            advantages = target - critic.get_value(states) # STATE_VALUE SHOULD BE RECOMPUTED FOR EACH WEIGHT UPDATE\n",
    "            \n",
    "            log_probs = policy.get_log_prob(states, next_states)\n",
    "            \n",
    "            value_fn_loss = (advantages**2).mean()\n",
    "            policy_loss = (log_probs * advantages.detach()).mean() * -1\n",
    "            \n",
    "            policy_optimizer.zero_grad()\n",
    "            policy_loss.backward()\n",
    "            policy_optimizer.step()\n",
    "            \n",
    "            critic_optimizer.zero_grad()\n",
    "            value_fn_loss.backward()\n",
    "            critic_optimizer.step()\n",
    "            \n",
    "            \n",
    "            print(f\"Iteration: {i}\\t\\tEpoch: {epoch:8}\\t\\tValue function loss: {value_fn_loss:8}\\t\\tPolicy function loss: {policy_loss:8}\", end=\"\\r\")\n",
    "        if i % 2000 == 0:\n",
    "            critic_frozen.load_state_dict(critic.state_dict())\n",
    "            value_fn_losses.append(value_fn_loss)\n",
    "            policy_losses.append(policy_loss)\n"
   ]
  },
  {
   "cell_type": "markdown",
   "id": "330e8a90-77fa-462e-85d9-450b9c2e2695",
   "metadata": {},
   "source": [
    "# Instability\n",
    "# Pretraining\n",
    "# Penalising of neutral position\n",
    "# Time partitioning\n"
   ]
  },
  {
   "cell_type": "code",
   "execution_count": null,
   "id": "71f7ace4-1728-4921-b422-e4ec055a45f9",
   "metadata": {},
   "outputs": [],
   "source": [
    "critic.get_value(curr_state)"
   ]
  },
  {
   "cell_type": "code",
   "execution_count": null,
   "id": "d3e54758-6110-4da1-be5b-c9686fb47827",
   "metadata": {},
   "outputs": [],
   "source": [
    "test_rewards = []\n",
    "prev_state = X_test[0].clone()\n",
    "for state in X_test[1:]:\n",
    "    action = policy.get_action(prev_state)\n",
    "    \n",
    "    curr_state = curr_state.clone()\n",
    "    curr_state[-1] = action.clone()\n",
    "    \n",
    "    reward = get_reward(prev_state=prev_state, curr_state=curr_state, ask_idx=curr_ask_idx, bid_idx=curr_bid_idx, trading_fee=1e-4, neutral_penalty=1e-6)\n",
    "    test_rewards.append(reward)"
   ]
  },
  {
   "cell_type": "code",
   "execution_count": null,
   "id": "4cfc728d-636c-4113-96c7-ca0406f9da4d",
   "metadata": {},
   "outputs": [],
   "source": [
    "pd.Series(test_rewards).cumsum().plot()"
   ]
  },
  {
   "cell_type": "code",
   "execution_count": null,
   "id": "6dc88325-d98c-4984-858c-daf7c8a489ca",
   "metadata": {},
   "outputs": [],
   "source": []
  },
  {
   "cell_type": "markdown",
   "id": "5026c95b-0f5f-4cb0-9ddd-4bc2db891a44",
   "metadata": {},
   "source": []
  },
  {
   "cell_type": "code",
   "execution_count": null,
   "id": "8fcab614-96f0-4764-af67-c75a17b74067",
   "metadata": {},
   "outputs": [],
   "source": []
  },
  {
   "cell_type": "markdown",
   "id": "e6cfeaf5-8892-42cb-b83c-db8bdc1f339d",
   "metadata": {},
   "source": []
  },
  {
   "cell_type": "code",
   "execution_count": null,
   "id": "0e28ef07-8a15-47b6-8909-397513460536",
   "metadata": {},
   "outputs": [],
   "source": []
  },
  {
   "cell_type": "code",
   "execution_count": null,
   "id": "dee3ffce-375a-49be-8677-2479ddc6dd8b",
   "metadata": {},
   "outputs": [],
   "source": []
  },
  {
   "cell_type": "code",
   "execution_count": null,
   "id": "ed2cbb7f-2b27-4e24-8cc8-b2a55dcc698e",
   "metadata": {},
   "outputs": [],
   "source": []
  },
  {
   "cell_type": "code",
   "execution_count": null,
   "id": "4cc0aa92-d24e-44ba-8cc3-3e65ed5662ba",
   "metadata": {},
   "outputs": [],
   "source": []
  },
  {
   "cell_type": "code",
   "execution_count": null,
   "id": "65180fd6-cf6c-4886-85fb-f27e0cc49970",
   "metadata": {},
   "outputs": [],
   "source": [
    "torch.save(policy.state_dict(), r\"../logs/policy_model_friday.pt\")\n",
    "torch.save(policy.state_dict(), r\"../logs/critic_model_5s_train.pt\")"
   ]
  },
  {
   "cell_type": "code",
   "execution_count": null,
   "id": "90a11dff-d1c6-490d-9567-8e82122781e5",
   "metadata": {},
   "outputs": [],
   "source": []
  },
  {
   "cell_type": "code",
   "execution_count": 40,
   "id": "58510af2-b361-4538-90a7-cb40d061f6dd",
   "metadata": {},
   "outputs": [
    {
     "data": {
      "text/plain": [
       "<AxesSubplot:>"
      ]
     },
     "execution_count": 40,
     "metadata": {},
     "output_type": "execute_result"
    },
    {
     "data": {
      "image/png": "[encoded data removed]",
      "text/plain": [
       "<Figure size 432x288 with 1 Axes>"
      ]
     },
     "metadata": {
      "needs_background": "light"
     },
     "output_type": "display_data"
    }
   ],
   "source": [
    "pd.Series(reward_history).cumsum().plot()"
   ]
  },
  {
   "cell_type": "markdown",
   "id": "3b9ced3d-c18e-4758-84c3-fece1d9743dc",
   "metadata": {},
   "source": [
    "Theres a noticable trend where the agent is able to make money when trading from trade 49445 to 62489 "
   ]
  },
  {
   "cell_type": "code",
   "execution_count": 45,
   "id": "fd8f6041-6902-45a7-bc63-ab07cafe9dfb",
   "metadata": {},
   "outputs": [
    {
     "data": {
      "text/plain": [
       "62489"
      ]
     },
     "execution_count": 45,
     "metadata": {},
     "output_type": "execute_result"
    }
   ],
   "source": [
    "pd.Series(reward_history).cumsum().argmax()"
   ]
  },
  {
   "cell_type": "code",
   "execution_count": 44,
   "id": "d889f05c-2a70-446b-be28-bfb5bdabbf2d",
   "metadata": {},
   "outputs": [
    {
     "data": {
      "text/plain": [
       "49445"
      ]
     },
     "execution_count": 44,
     "metadata": {},
     "output_type": "execute_result"
    }
   ],
   "source": [
    "pd.Series(reward_history).cumsum()[:62489].argmin()"
   ]
  },
  {
   "cell_type": "code",
   "execution_count": 46,
   "id": "7fd3e726-2831-4c78-9d5a-4f4dbe5b489d",
   "metadata": {},
   "outputs": [
    {
     "data": {
      "text/plain": [
       "13044"
      ]
     },
     "execution_count": 46,
     "metadata": {},
     "output_type": "execute_result"
    }
   ],
   "source": [
    "62489 - 49445"
   ]
  },
  {
   "cell_type": "code",
   "execution_count": 48,
   "id": "535cf015-f235-4871-a65a-60181c6f1be5",
   "metadata": {},
   "outputs": [
    {
     "data": {
      "text/plain": [
       "18.116666666666667"
      ]
     },
     "execution_count": 48,
     "metadata": {},
     "output_type": "execute_result"
    }
   ],
   "source": [
    "(5 * 13044) / 3600"
   ]
  },
  {
   "cell_type": "code",
   "execution_count": 49,
   "id": "2b2ed686-6ee6-468a-aa68-9f6a72869c3c",
   "metadata": {},
   "outputs": [
    {
     "data": {
      "text/plain": [
       "68.67361111111111"
      ]
     },
     "execution_count": 49,
     "metadata": {},
     "output_type": "execute_result"
    }
   ],
   "source": [
    "(49445 * 5) / 3600"
   ]
  },
  {
   "cell_type": "markdown",
   "id": "5ff2ba17-441a-42a2-b9f8-48710f20c072",
   "metadata": {},
   "source": [
    "69 hours after 930am on Monday is about Thursday morning.  \n",
    "This profit spree lasts until about Friday evening.  "
   ]
  },
  {
   "cell_type": "code",
   "execution_count": 30,
   "id": "c34ff124-ecee-4baf-bd34-9b2fbca0ad46",
   "metadata": {},
   "outputs": [],
   "source": [
    "torch.save(policy.state_dict(), r\"../logs/policy_model.pt\")\n",
    "torch.save(policy.state_dict(), r\"../logs/critic_model.pt\")"
   ]
  }
 ],
 "metadata": {
  "kernelspec": {
   "display_name": "Python 3 (ipykernel)",
   "language": "python",
   "name": "python3"
  },
  "language_info": {
   "codemirror_mode": {
    "name": "ipython",
    "version": 3
   },
   "file_extension": ".py",
   "mimetype": "text/x-python",
   "name": "python",
   "nbconvert_exporter": "python",
   "pygments_lexer": "ipython3",
   "version": "3.9.7"
  },
  "toc-showtags": false
 },
 "nbformat": 4,
 "nbformat_minor": 5
}
