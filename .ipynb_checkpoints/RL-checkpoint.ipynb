{
 "cells": [
  {
   "cell_type": "markdown",
   "id": "68543e12-9c91-4d1f-8aab-2e1e596e8d83",
   "metadata": {
    "tags": []
   },
   "source": [
    "- Jumble things (with randomization)\n",
    "- Train-validation-test splits with continuous training during execution (During training we'll use the jumble)\n",
    "- Pretrain actor network\n",
    "  - Freeze the actor network and train the critic network\n",
    "  - Commence full QAC training\n",
    "- Check the policy loss metric, just in case it is not accurate (Reference other works)\n",
    "- Consider SAC -> Has normal component, hopefully help with exploration\n",
    "- Could also change the sample size from 20 and vary it down to 1, consider some form of RNN if possible (idk how to do that with batch training though)\n",
    "\n",
    "  \n",
    "Sunday:\n",
    "- Need to figure out MLflow logging\n",
    "- Tensorboard: https://pytorch.org/tutorials/intermediate/tensorboard_tutorial.html\n",
    "\n",
    "Monday:\n",
    "- PPO\n",
    "- Long-only policy\n",
    "- Recreating the table on Slide 41 of 56 from this set of lecture slides would be good for our purposes https://www.davidsilver.uk/wp-content/uploads/2020/03/FA.pdf\n",
    "- Soft Actor Critic: https://arxiv.org/abs/1910.07207\n",
    "- Do some feature selection\n"
   ]
  },
  {
   "cell_type": "code",
   "execution_count": 1,
   "id": "03432b8f-6499-49d9-aece-158eaf854b44",
   "metadata": {},
   "outputs": [],
   "source": [
    "import os\n",
    "import random\n",
    "from collections import namedtuple\n",
    "\n",
    "import numpy as np\n",
    "import pandas as pd\n",
    "import matplotlib.pyplot as plt\n",
    "\n",
    "import torch\n",
    "import torch.optim as optim\n",
    "from torch import nn\n",
    "from torch.nn import functional as F\n",
    "from torch.distributions.categorical import Categorical\n",
    "\n",
    "from sklearn.model_selection import train_test_split\n",
    "from sklearn.model_selection import TimeSeriesSplit\n",
    "from scipy.optimize import minimize_scalar\n",
    "\n",
    "from LOB_analysis import *\n",
    "\n",
    "%matplotlib inline"
   ]
  },
  {
   "cell_type": "code",
   "execution_count": 2,
   "id": "7bc00e2d-e74d-4860-b7e5-48effc6b700d",
   "metadata": {},
   "outputs": [],
   "source": [
    "os.environ[\"CUDA_VISIBLE_DEVICES\"] = \"0\"\n",
    "device = 'cuda' if torch.cuda.is_available() else 'cpu'"
   ]
  },
  {
   "cell_type": "code",
   "execution_count": 3,
   "id": "7639ec74-303f-4d00-b78f-1327527464b2",
   "metadata": {},
   "outputs": [],
   "source": [
    "MARKET_OPEN = '9:30'\n",
    "MARKET_CLOSE = '16:00'\n",
    "\n",
    "message = pd.read_pickle(r\"../data/AMD_jan_msg.pickle\")\n",
    "orderbook = pd.read_pickle(r\"../data/AMD_jan_odb.pickle\")\n",
    "\n",
    "market_open_idx = message.set_index('time').index.indexer_between_time(MARKET_OPEN, MARKET_CLOSE)\n",
    "\n",
    "message = message.iloc[market_open_idx, :].reset_index(drop=True)\n",
    "orderbook = orderbook.iloc[market_open_idx, :].reset_index(drop=True)\n",
    "data = generate_data(message, orderbook, granularity='30 s', standardize_offset = 1) # Standardize by data of 1 day prior\n",
    "\n",
    "bids = data.loc[:, 'bid']\n",
    "asks = data.loc[:, 'ask']\n",
    "data = data.drop(['bid', 'ask'], axis=1)"
   ]
  },
  {
   "cell_type": "markdown",
   "id": "6073c0da-5090-4ca9-9d6b-a42010cd616a",
   "metadata": {
    "tags": []
   },
   "source": [
    "## 3. Create features\n",
    "\n",
    "**I do not know if standardization is actually a good thing. [CHECK - Ask prof too]**  \n",
    "Standardization will be done using a small window of previous events. This is because the statistical properties change as time moves on, so we standardize w.r.t small prior windows. Standardization benefits ML training since values will stradle 0 and not be too far from it.  \n",
    "\n",
    "**Check if we should reindex time-series data with forward padding and explicitly 0-labels given to these regions.**\n",
    "\n",
    "**BE CAREFUL OF THE CURSE OF DIMENSIONALITY**\n",
    "To understand if the curse of dimensionality is affecting performance, rerun the exact same experiments with fewer features and see if profitability increases.\n"
   ]
  },
  {
   "cell_type": "code",
   "execution_count": 4,
   "id": "ac1fb670-8efb-4ebc-9e10-4dd62ad0184c",
   "metadata": {},
   "outputs": [],
   "source": [
    "\"\"\"\n",
    "For optimizing the threshold value to produce balanced class labels.\n",
    "\n",
    "Use with scipy.optimize.minimize_scalar\n",
    "\"\"\"\n",
    "def label_eval(threshold, time_horizon = 50):\n",
    "    labels = get_label(data.mid_price, time_horizon = time_horizon, threshold = threshold)\n",
    "    counts = labels.value_counts()\n",
    "    return -(counts / counts.sum()).min()\n",
    "\n",
    "threshold = minimize_scalar(label_eval, bounds=(0, 2)).x\n",
    "labels = get_label(data.mid_price, time_horizon=50, threshold=threshold)"
   ]
  },
  {
   "cell_type": "code",
   "execution_count": 5,
   "id": "683b0f75-49fc-4d95-8c8a-d44c78ed8b05",
   "metadata": {},
   "outputs": [],
   "source": [
    "SAMPLE_SIZE = 20"
   ]
  },
  {
   "cell_type": "code",
   "execution_count": 6,
   "id": "a13d1142-dddf-4411-91a2-85f5c2bc9dac",
   "metadata": {},
   "outputs": [],
   "source": [
    "# # Normalize BEFORE time series sampling\n",
    "# NUM_DATA_COLS = data.shape[1]\n",
    "# bid_col_idx = data.columns.get_loc('bid')\n",
    "# ask_col_idx = data.columns.get_loc('ask')\n",
    "\n",
    "# curr_bid_idx = bid_col_idx + (NUM_DATA_COLS + 1) * (SAMPLE_SIZE - 1)\n",
    "# curr_ask_idx = ask_col_idx + (NUM_DATA_COLS + 1) * (SAMPLE_SIZE - 1)"
   ]
  },
  {
   "cell_type": "code",
   "execution_count": 7,
   "id": "913cd36b-cb1d-4365-9e4c-1853470f3d3f",
   "metadata": {},
   "outputs": [
    {
     "data": {
      "text/plain": [
       "(12130, 20, 58)"
      ]
     },
     "execution_count": 7,
     "metadata": {},
     "output_type": "execute_result"
    }
   ],
   "source": [
    "X, y, bids, asks = generate_time_series_samples(data, labels, bids, asks, SAMPLE_SIZE) # This fn performs dropna\n",
    "X.shape"
   ]
  },
  {
   "cell_type": "code",
   "execution_count": 8,
   "id": "cd010e8d-9554-4155-ac6a-72de45e9e4f2",
   "metadata": {},
   "outputs": [],
   "source": [
    "assert (y.index == asks.index).all()\n",
    "assert (y.index == bids.index).all()"
   ]
  },
  {
   "cell_type": "code",
   "execution_count": 9,
   "id": "25fb250f-df69-461d-8e39-86b263511c09",
   "metadata": {},
   "outputs": [
    {
     "data": {
      "text/plain": [
       "(12130, 1160)"
      ]
     },
     "execution_count": 9,
     "metadata": {},
     "output_type": "execute_result"
    }
   ],
   "source": [
    "X_flatten = X.reshape(X.shape[0], -1)\n",
    "X_flatten.shape"
   ]
  },
  {
   "cell_type": "code",
   "execution_count": 10,
   "id": "f8695be0-f655-4aae-b1e8-4f911785ff10",
   "metadata": {},
   "outputs": [
    {
     "data": {
      "text/plain": [
       "torch.Size([12130, 1161])"
      ]
     },
     "execution_count": 10,
     "metadata": {},
     "output_type": "execute_result"
    }
   ],
   "source": [
    "X_torch = torch.ones((X_flatten.shape[0], X_flatten.shape[1] + 1))\n",
    "X_torch[:, :-1] = torch.tensor(X_flatten)\n",
    "X_torch = X_torch.to(device)\n",
    "X_torch.shape"
   ]
  },
  {
   "cell_type": "code",
   "execution_count": 11,
   "id": "4e2c211b-1ef8-4039-90c3-45b93569d245",
   "metadata": {},
   "outputs": [],
   "source": [
    "NUM_DATA_COLS = X_torch.shape[1]"
   ]
  },
  {
   "cell_type": "code",
   "execution_count": 12,
   "id": "d3b685f1-a669-4499-90d4-de1e418e9a24",
   "metadata": {},
   "outputs": [],
   "source": [
    "class CriticNetwork(nn.Module):\n",
    "    def __init__(self):\n",
    "        super().__init__()\n",
    "        self.value = nn.Sequential(\n",
    "            nn.Linear(NUM_DATA_COLS, 512),\n",
    "            nn.ReLU(),\n",
    "            nn.Linear(512, 128),\n",
    "            nn.ReLU(),\n",
    "            nn.Linear(128, 1),\n",
    "        )\n",
    "    \n",
    "    def forward(self):\n",
    "        raise NotImplementedError\n",
    "    \n",
    "    def get_value(self, state):\n",
    "        return self.value(state)"
   ]
  },
  {
   "cell_type": "markdown",
   "id": "cee07680-a941-449f-80ef-c9cdea817d7c",
   "metadata": {},
   "source": [
    "Note that actions are:\n",
    "- 0: Short   (Have -1 asset)\n",
    "- 1: Neutral (Have 0 asset)\n",
    "- 2: Long    (Have 1 asset)"
   ]
  },
  {
   "cell_type": "code",
   "execution_count": 13,
   "id": "c547c51c-d9d4-41ed-990b-f39bdc0ee5b6",
   "metadata": {},
   "outputs": [],
   "source": [
    "class ActorNetwork(nn.Module):\n",
    "    def __init__(self):\n",
    "        super().__init__()\n",
    "        self.action = nn.Sequential(\n",
    "            nn.Linear(NUM_DATA_COLS, 512),\n",
    "            nn.ReLU(),\n",
    "            nn.Linear(512, 128),\n",
    "            nn.ReLU(),\n",
    "            nn.Linear(128, 3),\n",
    "        )\n",
    "\n",
    "    def forward(self):\n",
    "        raise NotImplementedError\n",
    "\n",
    "    def get_next_portfolio(self, state):\n",
    "        with torch.no_grad():\n",
    "            logits = self.action(state)\n",
    "            probs = Categorical(logits=logits)\n",
    "            action = probs.sample()\n",
    "        return action\n",
    "    \n",
    "    def get_log_prob(self, prev_state, curr_state):\n",
    "        logits = self.action(prev_state)\n",
    "        dist = Categorical(logits=logits)\n",
    "        action = curr_state[..., -1]\n",
    "        return dist.log_prob(action)"
   ]
  },
  {
   "cell_type": "code",
   "execution_count": 14,
   "id": "4d6a0cef-00e7-49f1-95bc-6afd27edbf3c",
   "metadata": {
    "tags": []
   },
   "outputs": [],
   "source": [
    "def get_reward(prev_state, curr_state, prev_ask, prev_bid, curr_ask, curr_bid, prev_action_idx=-1, trading_fee=1e-4, neutral_penalty=1e-6):\n",
    "    valid_actions = [0, 1, 2]\n",
    "    assert (prev_state.dim() == 1) and (curr_state.dim() == 1), \"State provided is not 1 dimensional\"\n",
    "    assert (prev_state[prev_action_idx] in valid_actions) and (curr_state[prev_action_idx] in valid_actions), \"Action provided is not in [0, 1, 2] range\"\n",
    "    \n",
    "    prev_is_neutral = prev_state[prev_action_idx] == 1\n",
    "    curr_is_neutral = curr_state[prev_action_idx] == 1\n",
    "    \n",
    "    spread = (prev_ask - prev_bid).item()\n",
    "    \n",
    "    if curr_is_neutral:\n",
    "        if prev_is_neutral:\n",
    "            # Neutral -> Neutral\n",
    "            return -neutral_penalty\n",
    "\n",
    "        if not prev_is_neutral:\n",
    "            # Active -> Neutral\n",
    "            return -(spread + trading_fee)\n",
    "    \n",
    "    # Here onwards current portfolio is active\n",
    "    curr_is_long = curr_state[prev_action_idx] == 2 # True -> Long, False -> Short\n",
    "    price_change = curr_ask - prev_ask if curr_is_long else prev_bid - curr_bid\n",
    "    price_change = price_change.item()\n",
    "    portfolio_is_same = prev_state[prev_action_idx] == curr_state[prev_action_idx]\n",
    "    \n",
    "    if prev_is_neutral:\n",
    "        # Neutral -> Active\n",
    "        return -trading_fee + price_change\n",
    "    \n",
    "    if not prev_is_neutral:\n",
    "        if portfolio_is_same:\n",
    "            # Active -> Active\n",
    "            return price_change\n",
    "        else:\n",
    "            # Active -> -Active\n",
    "            return -(spread + trading_fee) - trading_fee + price_change"
   ]
  },
  {
   "cell_type": "code",
   "execution_count": 15,
   "id": "d292785a-999c-4235-ad36-b3afd7759650",
   "metadata": {},
   "outputs": [],
   "source": [
    "Experience = namedtuple(\"Experience\", ['state', 'next_state', 'reward'])"
   ]
  },
  {
   "cell_type": "code",
   "execution_count": 16,
   "id": "ca477d4a-c1b8-4e5d-b9f1-ac2e980f6286",
   "metadata": {},
   "outputs": [],
   "source": [
    "class ExperienceReplayMemory:\n",
    "    def __init__(self, capacity):\n",
    "        self.capacity = capacity\n",
    "        self.memory = []\n",
    "        self.count = 0\n",
    "    \n",
    "    def push(self, experience):\n",
    "        if len(self.memory) < self.capacity:\n",
    "            self.memory.append(experience)\n",
    "        else:\n",
    "            self.memory[self.count % self.capacity] = experience\n",
    "        self.count += 1\n",
    "    \n",
    "    def sample(self, batch_size):\n",
    "        batch = Experience(*zip(*random.sample(self.memory, batch_size)))\n",
    "        t1 = torch.stack(batch.state)\n",
    "        t2 = torch.stack(batch.next_state)\n",
    "        t3 = torch.tensor(batch.reward).unsqueeze(1).to(device)\n",
    "        return Experience(state=t1, next_state=t2, reward=t3)\n",
    "    \n",
    "    def can_provide_sample(self, batch_size):\n",
    "        return len(self.memory) >= batch_size"
   ]
  },
  {
   "cell_type": "code",
   "execution_count": 17,
   "id": "8bb5a6a7-f3bc-4140-b53e-ae7949ce0edb",
   "metadata": {},
   "outputs": [
    {
     "data": {
      "text/plain": [
       "Experience(state=1, next_state=2, reward=3)"
      ]
     },
     "execution_count": 17,
     "metadata": {},
     "output_type": "execute_result"
    }
   ],
   "source": [
    "Experience(1,2,3)"
   ]
  },
  {
   "cell_type": "code",
   "execution_count": 18,
   "id": "69f00583-5ef9-4798-86a5-c07084a59a88",
   "metadata": {},
   "outputs": [],
   "source": [
    "X_train, X_test, bid_train, bid_test, ask_train, ask_test = train_test_split(X_torch, bids, asks, shuffle=False, test_size=0.2)"
   ]
  },
  {
   "cell_type": "markdown",
   "id": "387a4849-b9da-449f-b367-05f092378bf5",
   "metadata": {},
   "source": [
    "State representation:\n",
    "\n",
    "- At any current point we want to know our current portfolio\n",
    "- The action is how we want to the new portfolio that we want, we will limit our portfolio (and hence actions) to -1, 0, and 1 quantity of the asset  \n",
    "- We look at the next time step and get reward from the action we took"
   ]
  },
  {
   "cell_type": "markdown",
   "id": "b9f673be-7a43-43b8-abda-1552de81856d",
   "metadata": {},
   "source": [
    "This neutral penalty seems to work: $0.0001 * 10^{epoch}$"
   ]
  },
  {
   "cell_type": "code",
   "execution_count": null,
   "id": "91c0c515-306a-4fe6-bc84-87964967cee1",
   "metadata": {
    "tags": []
   },
   "outputs": [
    {
     "name": "stdout",
     "output_type": "stream",
     "text": [
      "Iteration:     1204, Epoch:     0, Num trades:   240, Value function loss: 29,610.21289, Policy function loss: 119.7417453288600000\r"
     ]
    }
   ],
   "source": [
    "policy = ActorNetwork().to(device)\n",
    "policy.train()\n",
    "\n",
    "critic = CriticNetwork().to(device)\n",
    "critic.train()\n",
    "\n",
    "critic_frozen = CriticNetwork().to(device)\n",
    "critic_frozen.load_state_dict(critic.state_dict())\n",
    "critic_frozen.eval();\n",
    "\n",
    "value_fn_losses = []\n",
    "policy_losses = []\n",
    "reward_history = [0]    # 0: Just so that len(reward_history) == len(portfolio_history)\n",
    "portfolio_history = [1] # 1: Starting portfolio (neutral), possble portfolios are [0, 1, 2] i.e. [short, neutral, long]\n",
    "\n",
    "memory = ExperienceReplayMemory(16384)\n",
    "\n",
    "lr = 0.01\n",
    "gamma = 0.99       # Discounted rate of future returns\n",
    "batch_size = 256   # Train size\n",
    "epochs = 10\n",
    "weight_update_interval = 1\n",
    "frozen_update_interval = 256\n",
    "\n",
    "policy_optimizer = optim.Adam(params=policy.parameters(), lr=lr)\n",
    "critic_optimizer = optim.Adam(params=critic.parameters(), lr=lr)\n",
    "\n",
    "i = 0\n",
    "for epoch in range(epochs):\n",
    "    curr_state = X_train[0].clone() # Clone copies but maintains grad if one exists\n",
    "    curr_bid, curr_ask = bid_train[0], ask_train[0]\n",
    "    for j in range(1, X_train.shape[0]):\n",
    "        next_state, next_bid, next_ask = X_train[j, ...], bid_train[j], ask_train[j]\n",
    "        # Do not modify our training data\n",
    "        next_state = next_state.clone()\n",
    "        \n",
    "        # Update the next_state with the new portfolio\n",
    "        portfolio = policy.get_next_portfolio(curr_state)\n",
    "        next_state[-1] = portfolio\n",
    "        \n",
    "        reward = get_reward(curr_state, next_state, prev_bid=curr_bid, prev_ask=curr_ask, curr_bid=next_bid, curr_ask=next_ask, trading_fee=1e-4, neutral_penalty=1e-4 * 10**epoch)\n",
    "        reward_history.append(reward)\n",
    "        portfolio_history.append(portfolio.item())\n",
    "        experience = Experience(curr_state, next_state, reward)\n",
    "        memory.push(experience)\n",
    "        \n",
    "        curr_state = next_state.clone()\n",
    "        curr_bid, curr_ask = next_bid, next_ask\n",
    "        i += 1\n",
    "        print(f\"Iteration: {i:>8}, Epoch: {epoch:>5}\", end=\"\\r\")\n",
    "        \n",
    "        \n",
    "        if memory.can_provide_sample(batch_size) and (i % weight_update_interval == 0):\n",
    "            states, next_states, rewards = memory.sample(batch_size)\n",
    "            \n",
    "            with torch.no_grad():\n",
    "                target = rewards + gamma * critic_frozen.get_value(next_states)\n",
    "            advantages = target - critic.get_value(states)\n",
    "            log_probs = policy.get_log_prob(states, next_states)\n",
    "            assert (log_probs <= 0).all(), \"There cannot be positive log probabilities\"\n",
    "            \n",
    "            value_fn_loss = (advantages**2).mean()\n",
    "            \n",
    "            policy_loss = (log_probs * advantages.detach()).mean() * -1\n",
    "            \n",
    "            policy_optimizer.zero_grad()\n",
    "            policy_loss.backward()\n",
    "            policy_optimizer.step()\n",
    "            \n",
    "            critic_optimizer.zero_grad()\n",
    "            value_fn_loss.backward()\n",
    "            critic_optimizer.step()\n",
    "            \n",
    "            \n",
    "            _portfolio_history = pd.Series(portfolio_history)\n",
    "            num_trades = (_portfolio_history != _portfolio_history.shift(1).fillna(_portfolio_history[0])).sum()\n",
    "            print(f\"Iteration: {i:0>8,d}, Epoch: {epoch:>5}, Num trades: {num_trades:5}, Value function loss: {value_fn_loss.item():0>8,.5f}, Policy function loss: {policy_loss.item():0>8,.5f}\", end=\"\\r\")\n",
    "        if i % frozen_update_interval == 0:\n",
    "            critic_frozen.load_state_dict(critic.state_dict())\n",
    "            value_fn_losses.append(value_fn_loss)\n",
    "            policy_losses.append(policy_loss)"
   ]
  },
  {
   "cell_type": "code",
   "execution_count": null,
   "id": "fdcdb7c4-bdc9-4553-be16-60f84ef105b9",
   "metadata": {},
   "outputs": [],
   "source": [
    "portfolio_history = pd.Series(portfolio_history)\n",
    "(portfolio_history != portfolio_history.shift(1).fillna(portfolio_history[0])).sum()\n",
    "# The number of trades executed:"
   ]
  },
  {
   "cell_type": "code",
   "execution_count": 51,
   "id": "8b67e6c8-5a1c-43d3-9791-a13a199da070",
   "metadata": {},
   "outputs": [],
   "source": [
    "portfolio_history.value_counts().plot(kind='bar')"
   ]
  },
  {
   "cell_type": "code",
   "execution_count": 52,
   "id": "6419567b-47f1-40bc-bdc9-66dc902040ed",
   "metadata": {},
   "outputs": [],
   "source": [
    "pd.Series(reward_history).cumsum().plot()\n",
    "plt.ylabel(\"Cumulative rewards\")\n",
    "plt.xlabel(\"Time step\");"
   ]
  },
  {
   "cell_type": "code",
   "execution_count": 53,
   "id": "77902a7a-252e-437a-ad87-ce54f2775c4b",
   "metadata": {},
   "outputs": [],
   "source": [
    "pd.Series(reward_history[:2000]).cumsum().plot()\n",
    "plt.ylabel(\"Cumulative rewards\")\n",
    "plt.xlabel(\"Time step\");"
   ]
  },
  {
   "cell_type": "markdown",
   "id": "a6d112f1-59ab-4e11-aed6-4684c60c4a80",
   "metadata": {},
   "source": [
    "### Optional parameter save"
   ]
  },
  {
   "cell_type": "code",
   "execution_count": 30,
   "id": "c34ff124-ecee-4baf-bd34-9b2fbca0ad46",
   "metadata": {},
   "outputs": [],
   "source": [
    "torch.save(policy.state_dict(), r\"../logs/policy_model.pt\")\n",
    "torch.save(policy.state_dict(), r\"../logs/critic_model.pt\")"
   ]
  },
  {
   "cell_type": "markdown",
   "id": "ff46fc16-0a9c-4302-b06e-c443063f51a2",
   "metadata": {
    "tags": []
   },
   "source": [
    "# Some old results\n",
    "When the neutral penalty was 1e-4"
   ]
  },
  {
   "cell_type": "code",
   "execution_count": 26,
   "id": "77121c36-2f0b-4ded-bc11-9bbebef8eca3",
   "metadata": {},
   "outputs": [
    {
     "data": {
      "image/png": "[encoded data removed]",
      "text/plain": [
       "<Figure size 432x288 with 1 Axes>"
      ]
     },
     "metadata": {
      "needs_background": "light"
     },
     "output_type": "display_data"
    }
   ],
   "source": [
    "pd.Series(reward_history[2000:]).cumsum().plot()\n",
    "plt.ylabel(\"Cumulative rewards\")\n",
    "plt.xlabel(\"Time step\");"
   ]
  },
  {
   "cell_type": "code",
   "execution_count": 34,
   "id": "f7560a6c-d61c-42f7-8a7a-533e4dbdfa08",
   "metadata": {},
   "outputs": [
    {
     "data": {
      "text/plain": [
       "9"
      ]
     },
     "execution_count": 34,
     "metadata": {},
     "output_type": "execute_result"
    }
   ],
   "source": [
    "portfolio_history = pd.Series(portfolio_history)\n",
    "(portfolio_history != portfolio_history.shift(1)).sum()\n",
    "# The number of trades executed:"
   ]
  },
  {
   "cell_type": "code",
   "execution_count": 25,
   "id": "3615a88a-2139-4403-ac97-0caf6c1c18cc",
   "metadata": {},
   "outputs": [
    {
     "data": {
      "image/png": "[encoded data removed]",
      "text/plain": [
       "<Figure size 432x288 with 1 Axes>"
      ]
     },
     "metadata": {
      "needs_background": "light"
     },
     "output_type": "display_data"
    }
   ],
   "source": [
    "pd.Series(reward_history).cumsum().plot()\n",
    "plt.ylabel(\"Cumulative rewards\")\n",
    "plt.xlabel(\"Time step\");"
   ]
  },
  {
   "cell_type": "code",
   "execution_count": 28,
   "id": "022cf247-b2bb-4ff2-862a-e25d1a999a31",
   "metadata": {},
   "outputs": [
    {
     "data": {
      "image/png": "[encoded data removed]",
      "text/plain": [
       "<Figure size 432x288 with 1 Axes>"
      ]
     },
     "metadata": {
      "needs_background": "light"
     },
     "output_type": "display_data"
    }
   ],
   "source": [
    "pd.Series(reward_history[:2000]).cumsum().plot()\n",
    "plt.ylabel(\"Cumulative rewards\")\n",
    "plt.xlabel(\"Time step\");"
   ]
  },
  {
   "cell_type": "code",
   "execution_count": 26,
   "id": "498feef6-b4fc-496d-8216-ff971b43eb7c",
   "metadata": {},
   "outputs": [
    {
     "data": {
      "image/png": "[encoded data removed]",
      "text/plain": [
       "<Figure size 432x288 with 1 Axes>"
      ]
     },
     "metadata": {
      "needs_background": "light"
     },
     "output_type": "display_data"
    }
   ],
   "source": [
    "pd.Series(reward_history[2000:]).cumsum().plot()\n",
    "plt.ylabel(\"Cumulative rewards\")\n",
    "plt.xlabel(\"Time step\");"
   ]
  },
  {
   "cell_type": "code",
   "execution_count": null,
   "id": "77874b2c-31ac-4ecb-8c05-4299c2c9220a",
   "metadata": {},
   "outputs": [],
   "source": []
  },
  {
   "cell_type": "code",
   "execution_count": null,
   "id": "1c90982e-90c7-470c-988b-bc00eb00593e",
   "metadata": {},
   "outputs": [],
   "source": []
  },
  {
   "cell_type": "code",
   "execution_count": null,
   "id": "9c7f5f7a-cdfd-4846-81a6-0c340a3c984d",
   "metadata": {},
   "outputs": [],
   "source": []
  },
  {
   "cell_type": "code",
   "execution_count": null,
   "id": "74acaea1-66a9-490b-9e29-c7cdbb6b399d",
   "metadata": {},
   "outputs": [],
   "source": []
  },
  {
   "cell_type": "markdown",
   "id": "20b60964-a28f-4d27-b02c-237237b2f148",
   "metadata": {},
   "source": [
    "Final report\n",
    "- Describe RL\n",
    "- Describe LOB\n",
    "- What metric are we trying to optimise\n",
    "- Inputs\n",
    "- Literature review\n",
    "- Results"
   ]
  }
 ],
 "metadata": {
  "kernelspec": {
   "display_name": "Python 3 (ipykernel)",
   "language": "python",
   "name": "python3"
  },
  "language_info": {
   "codemirror_mode": {
    "name": "ipython",
    "version": 3
   },
   "file_extension": ".py",
   "mimetype": "text/x-python",
   "name": "python",
   "nbconvert_exporter": "python",
   "pygments_lexer": "ipython3",
   "version": "3.9.7"
  },
  "toc-showtags": false
 },
 "nbformat": 4,
 "nbformat_minor": 5
}
