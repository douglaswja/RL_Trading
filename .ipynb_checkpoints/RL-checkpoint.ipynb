{
 "cells": [
  {
   "cell_type": "markdown",
   "id": "41c1de9e-b45c-4e1a-81c2-9d403778b012",
   "metadata": {
    "tags": []
   },
   "source": [
    "# CHECK ACTION INPUT OUTPUT INTO MODELS (DO WE NEED TO -1)\n",
    "# CHECK REWARD FUNCTION\n",
    "# CHECK SAMPLE_SIZE=1 DATA\n",
    "# CHECK STANDARDIZATION"
   ]
  },
  {
   "cell_type": "markdown",
   "id": "68543e12-9c91-4d1f-8aab-2e1e596e8d83",
   "metadata": {
    "tags": []
   },
   "source": [
    "0. Pretraining\n",
    "1. Toggle midprice\n",
    "2. Toggle features [Could use an encoding layer to lower the state space down]\n",
    "3. 3 algorithms\n",
    "    - Might need to clip gradients and normalize rewards, anything to maintain stability.\n",
    "    - Include the price the asset was bought at in the state\n",
    "    - Jumble things (with randomization) [Optional with MASSIVE [1million] replay memory]\n",
    "    - Train-validation-test splits with continuous training during execution (During training we'll use the jumble)\n",
    "4. Adjust rewards (e.g. multiply negative penalties by 2 to make it twice as bad to lose money as to make money)\n",
    "\n",
    "Considerations:\n",
    "- Proximal Policy Optimization (PPO)\n",
    "- Soft Actor Critic (SAC)\n",
    "- Encoder layer for states\n",
    "\n",
    "Next:\n",
    "- Could also change the sample size from 20 and vary it down to 1, consider some form of RNN if possible (idk how to do that with batch training though)\n",
    "- Need to figure out MLflow logging\n",
    "- Tensorboard: https://pytorch.org/tutorials/intermediate/tensorboard_tutorial.html\n",
    "- Long-only policy\n",
    "- Recreating the table on Slide 41 of 56 from this set of lecture slides would be good for our purposes https://www.davidsilver.uk/wp-content/uploads/2020/03/FA.pdf\n",
    "\n",
    "\n",
    "Datasets (Standardize all):\n",
    "- Minimal\n",
    "- Minimal window\n",
    "- Full\n",
    "- Full window\n",
    "- Encoder of the above"
   ]
  },
  {
   "cell_type": "code",
   "execution_count": 1,
   "id": "03432b8f-6499-49d9-aece-158eaf854b44",
   "metadata": {},
   "outputs": [],
   "source": [
    "import os\n",
    "import random\n",
    "import mlflow\n",
    "from collections import namedtuple\n",
    "from IPython.display import clear_output\n",
    "\n",
    "import numpy as np\n",
    "import pandas as pd\n",
    "import matplotlib.pyplot as plt\n",
    "\n",
    "import torch\n",
    "import torch.optim as optim\n",
    "from torch import nn\n",
    "from torch.nn import functional as F\n",
    "from torch.utils.data import DataLoader\n",
    "from torch.distributions.categorical import Categorical\n",
    "\n",
    "from sklearn.model_selection import train_test_split\n",
    "from sklearn.model_selection import TimeSeriesSplit\n",
    "from scipy.optimize import minimize_scalar\n",
    "\n",
    "from LOB_analysis import *\n",
    "from commons.replay_memory import ReplayMemory, Experience\n",
    "\n",
    "%matplotlib inline\n",
    "device = 'cuda:1' if torch.cuda.is_available() else 'cpu'"
   ]
  },
  {
   "cell_type": "code",
   "execution_count": 2,
   "id": "a1cb7aa6-55e3-47f2-bd67-5b8e6831f2a8",
   "metadata": {},
   "outputs": [],
   "source": [
    "MARKET_OPEN = '9:30'\n",
    "MARKET_CLOSE = '16:00'\n",
    "GRANULARITY = '15 s'\n",
    "MONTH = 'jan'"
   ]
  },
  {
   "cell_type": "markdown",
   "id": "44276675-d696-47b0-b9a3-8ae577dde10e",
   "metadata": {
    "tags": []
   },
   "source": [
    "## Datasets"
   ]
  },
  {
   "cell_type": "code",
   "execution_count": 3,
   "id": "ed0e6134-47de-4b29-b506-e668e81c54d4",
   "metadata": {},
   "outputs": [],
   "source": [
    "datasets = []\n",
    "dataset_scopes = ['minimal', 'minimal_window', 'full', 'full_window']\n",
    "dataset_components = [\n",
    "    'X_train.pt', 'X_validation.pt', 'X_test.pt',\n",
    "    'y_train.pt', 'y_validation.pt', 'y_test.pt',\n",
    "    'bid_train.pt', 'bid_val.pt', 'bid_test.pt',\n",
    "    'ask_train.pt', 'ask_val.pt', 'ask_test.pt',\n",
    "]\n",
    "\n",
    "for dataset_scope in dataset_scopes:\n",
    "    dataset = []\n",
    "    for dataset_component in dataset_components:\n",
    "        dataset.append(\"datasets/\" + MONTH + \"/\" + dataset_scope + \"/\" + dataset_component)\n",
    "    datasets.append(dataset)"
   ]
  },
  {
   "cell_type": "code",
   "execution_count": 4,
   "id": "5e71aa7a-5a5b-424b-af7c-d8a8299841ab",
   "metadata": {},
   "outputs": [
    {
     "data": {
      "text/plain": [
       "['datasets/jan/minimal/X_train.pt',\n",
       " 'datasets/jan/minimal/X_validation.pt',\n",
       " 'datasets/jan/minimal/X_test.pt',\n",
       " 'datasets/jan/minimal/y_train.pt',\n",
       " 'datasets/jan/minimal/y_validation.pt',\n",
       " 'datasets/jan/minimal/y_test.pt',\n",
       " 'datasets/jan/minimal/bid_train.pt',\n",
       " 'datasets/jan/minimal/bid_val.pt',\n",
       " 'datasets/jan/minimal/bid_test.pt',\n",
       " 'datasets/jan/minimal/ask_train.pt',\n",
       " 'datasets/jan/minimal/ask_val.pt',\n",
       " 'datasets/jan/minimal/ask_test.pt']"
      ]
     },
     "execution_count": 4,
     "metadata": {},
     "output_type": "execute_result"
    }
   ],
   "source": [
    "datasets[0]"
   ]
  },
  {
   "cell_type": "markdown",
   "id": "bf160cb0-9cf7-4108-b159-28813b07d299",
   "metadata": {
    "tags": []
   },
   "source": [
    "## Feature engineering\n",
    "\n",
    "**I do not know if standardization is actually a good thing. [CHECK - Ask prof too]**  \n",
    "Standardization will be done using a small window of previous events. This is because the statistical properties change as time moves on, so we standardize w.r.t small prior windows. Standardization benefits ML training since values will stradle 0 and not be too far from it.  \n",
    "\n",
    "**Check if we should reindex time-series data with forward padding and explicitly 0-labels given to these regions.**\n",
    "\n",
    "**BE CAREFUL OF THE CURSE OF DIMENSIONALITY**\n",
    "To understand if the curse of dimensionality is affecting performance, rerun the exact same experiments with fewer features and see if profitability increases.\n"
   ]
  },
  {
   "cell_type": "code",
   "execution_count": null,
   "id": "fa823b85-caf0-4604-80f7-1c2147a354c5",
   "metadata": {},
   "outputs": [],
   "source": [
    "message = pd.read_pickle(f\"../data/AMD_{MONTH}_msg.pickle\")\n",
    "orderbook = pd.read_pickle(f\"../data/AMD_{MONTH}_odb.pickle\")\n",
    "\n",
    "market_open_idx = message.set_index('time').index.indexer_between_time(MARKET_OPEN, MARKET_CLOSE)\n",
    "\n",
    "message = message.iloc[market_open_idx, :].reset_index(drop=True)\n",
    "orderbook = orderbook.iloc[market_open_idx, :].reset_index(drop=True)"
   ]
  },
  {
   "cell_type": "code",
   "execution_count": null,
   "id": "4a2a2beb-e7b5-4718-94be-2282020c14bd",
   "metadata": {},
   "outputs": [],
   "source": [
    "data = generate_data(message, orderbook, granularity=GRANULARITY, standardize_offset = 1) # Standardize by data of 1 day prior\n",
    "\n",
    "bids = data.loc[:, 'bid']\n",
    "asks = data.loc[:, 'ask']\n",
    "data = data.drop(['bid', 'ask'], axis=1)\n",
    "# data.to_pickle(\"datasets/jan/full/dataframe.pickle\")"
   ]
  },
  {
   "cell_type": "code",
   "execution_count": null,
   "id": "ac1fb670-8efb-4ebc-9e10-4dd62ad0184c",
   "metadata": {},
   "outputs": [],
   "source": [
    "\"\"\"\n",
    "For optimizing the threshold value to produce balanced class labels.\n",
    "\n",
    "Use with scipy.optimize.minimize_scalar\n",
    "\"\"\"\n",
    "def label_eval(threshold, time_horizon = 50):\n",
    "    labels = get_label(data.mid_price, time_horizon = time_horizon, threshold = threshold)\n",
    "    counts = labels.value_counts()\n",
    "    return -(counts / counts.sum()).min()\n",
    "\n",
    "threshold = minimize_scalar(label_eval, bounds=(0, 2)).x\n",
    "labels = get_label(data.mid_price, time_horizon=50, threshold=threshold)"
   ]
  },
  {
   "cell_type": "code",
   "execution_count": null,
   "id": "683b0f75-49fc-4d95-8c8a-d44c78ed8b05",
   "metadata": {},
   "outputs": [],
   "source": [
    "SAMPLE_SIZE = 1"
   ]
  },
  {
   "cell_type": "code",
   "execution_count": null,
   "id": "913cd36b-cb1d-4365-9e4c-1853470f3d3f",
   "metadata": {},
   "outputs": [],
   "source": [
    "X, y, bids, asks = generate_time_series_samples(data, labels, bids, asks, SAMPLE_SIZE) # This fn performs dropna\n",
    "X.shape"
   ]
  },
  {
   "cell_type": "code",
   "execution_count": null,
   "id": "cd010e8d-9554-4155-ac6a-72de45e9e4f2",
   "metadata": {},
   "outputs": [],
   "source": [
    "assert (y.index == asks.index).all()\n",
    "assert (y.index == bids.index).all()"
   ]
  },
  {
   "cell_type": "code",
   "execution_count": null,
   "id": "25fb250f-df69-461d-8e39-86b263511c09",
   "metadata": {},
   "outputs": [],
   "source": [
    "X_flatten = X.reshape(X.shape[0], -1)\n",
    "X_flatten.shape"
   ]
  },
  {
   "cell_type": "code",
   "execution_count": null,
   "id": "f8695be0-f655-4aae-b1e8-4f911785ff10",
   "metadata": {},
   "outputs": [],
   "source": [
    "X_torch = torch.ones((X_flatten.shape[0], X_flatten.shape[1] + 1))\n",
    "X_torch[:, :-1] = torch.tensor(X_flatten)\n",
    "X_torch = X_torch.to(device)\n",
    "X_torch.shape"
   ]
  },
  {
   "cell_type": "code",
   "execution_count": null,
   "id": "3c65a05e-7e1a-45f2-b85e-f53cda6e0810",
   "metadata": {},
   "outputs": [],
   "source": [
    "y.shape, bids.shape, asks.shape"
   ]
  },
  {
   "cell_type": "code",
   "execution_count": null,
   "id": "c2fd6251-3acf-4093-98f5-4dca317e9d68",
   "metadata": {},
   "outputs": [],
   "source": [
    "y.value_counts()"
   ]
  },
  {
   "cell_type": "code",
   "execution_count": null,
   "id": "d6442491-f162-41a0-a129-2b7a3c8f6ce1",
   "metadata": {},
   "outputs": [],
   "source": [
    "y_tensor = torch.FloatTensor(y + 1).to(device)"
   ]
  },
  {
   "cell_type": "code",
   "execution_count": null,
   "id": "2a691bd6-2116-442e-8cd1-0098f6d86a5d",
   "metadata": {},
   "outputs": [],
   "source": [
    "X_tv, X_test, y_tv, y_test, bid_tv, bid_test, ask_tv, ask_test = train_test_split(X_torch, y_tensor, bids, asks, shuffle=False, test_size=0.2)\n",
    "X_train, X_val, y_train, y_val, bid_train, bid_val, ask_train, ask_val = train_test_split(X_tv, y_tv, bid_tv, ask_tv, shuffle=False, test_size=0.25)"
   ]
  },
  {
   "cell_type": "code",
   "execution_count": null,
   "id": "d0286b72-1fcb-428d-a37d-3fc264c32315",
   "metadata": {},
   "outputs": [],
   "source": [
    "dt = datasets[2]"
   ]
  },
  {
   "cell_type": "code",
   "execution_count": null,
   "id": "284e5e10-fea6-4faf-aecb-41847f66f256",
   "metadata": {},
   "outputs": [],
   "source": [
    "for i, data in enumerate([X_train, X_val, X_test, y_train, y_val, y_test, bid_train, bid_val, bid_test, ask_train, ask_val, ask_test]):\n",
    "    torch.save(data, dt[i])\n",
    "    print(type(data), data.shape, dt[i])"
   ]
  },
  {
   "cell_type": "markdown",
   "id": "f940bcf6-ce29-4320-8d92-ed2956603ab2",
   "metadata": {},
   "source": [
    "## Models\n",
    "\n",
    "Note that actions are:\n",
    "- 0: Short   (Have -1 asset)\n",
    "- 1: Neutral (Have 0 asset)\n",
    "- 2: Long    (Have 1 asset)"
   ]
  },
  {
   "cell_type": "code",
   "execution_count": 5,
   "id": "09b0bcf8-47ba-469e-a674-747b5519c5ff",
   "metadata": {},
   "outputs": [],
   "source": [
    "def init_weights(m):\n",
    "    if type(m) == nn.Linear:\n",
    "        torch.nn.init.xavier_normal_(m.weight)\n",
    "        m.bias.data.fill_(0)\n",
    "\n",
    "\"\"\"Action-Value Function := Q(s, a)\"\"\"\n",
    "class ValueNetwork(nn.Module):\n",
    "    def __init__(self, input_dim, output_dim):\n",
    "        super().__init__()\n",
    "        self.linear_stack = nn.Sequential(\n",
    "            nn.Linear(input_dim, 32),\n",
    "            nn.ReLU(),\n",
    "            nn.Linear(32, 16),\n",
    "            nn.ReLU(),\n",
    "            nn.Linear(16, 16),\n",
    "            nn.ReLU(),\n",
    "            nn.Linear(16, output_dim),\n",
    "        )\n",
    "        self.apply(init_weights)\n",
    "        \n",
    "    def forward(self, x):\n",
    "        return self.linear_stack(x)\n",
    "\n",
    "\"\"\"Value Function := V(s)\"\"\"\n",
    "class CriticNetwork(nn.Module):\n",
    "    def __init__(self, input_dim):\n",
    "        super().__init__()\n",
    "        self.linear_stack = nn.Sequential(\n",
    "            nn.Linear(input_dim, 32),\n",
    "            nn.ReLU(),\n",
    "            nn.Linear(32, 16),\n",
    "            nn.ReLU(),\n",
    "            nn.Linear(16, 16),\n",
    "            nn.ReLU(),\n",
    "            nn.Linear(16, 1),\n",
    "        )\n",
    "        self.apply(init_weights)\n",
    "        \n",
    "    def forward(self, x):\n",
    "        return self.linear_stack(x)\n",
    "\n",
    "\"\"\"Policy Function := P(a | s)\"\"\"\n",
    "class ActorNetwork(nn.Module):\n",
    "    def __init__(self, input_dim, output_dim):\n",
    "        super().__init__()\n",
    "        self.linear_stack = nn.Sequential(\n",
    "            nn.Linear(input_dim, 32),\n",
    "            nn.ReLU(),\n",
    "            nn.Linear(32, 16),\n",
    "            nn.ReLU(),\n",
    "            nn.Linear(16, 16),\n",
    "            nn.ReLU(),\n",
    "            nn.Linear(16, output_dim),\n",
    "        )\n",
    "        self.apply(init_weights)\n",
    "        \n",
    "    def forward(self, x, return_logits=False):\n",
    "        logits = self.linear_stack(x)\n",
    "        if return_logits:\n",
    "            return logits\n",
    "        \n",
    "        probs = Categorical(logits=logits)\n",
    "        action = probs.sample()\n",
    "        return action\n",
    "    \n",
    "    def get_log_prob(self, state, action):\n",
    "        logits = self.linear_stack(state)\n",
    "        dist = Categorical(logits=logits)\n",
    "        return dist.log_prob(action)"
   ]
  },
  {
   "cell_type": "markdown",
   "id": "bb880ebe-f412-4a5f-9dae-855ba07b62d0",
   "metadata": {},
   "source": [
    "## Reward function\n",
    "\n",
    "State representation:\n",
    "\n",
    "- At any current point we want to know our current portfolio\n",
    "- The action is how we want to the new portfolio that we want, we will limit our portfolio (and hence actions) to -1, 0, and 1 quantity of the asset  \n",
    "- We look at the next time step and get reward from the action we took\n",
    "\n",
    "This neutral penalty seems to work: $0.0001 * 10^{epoch}$"
   ]
  },
  {
   "cell_type": "code",
   "execution_count": 6,
   "id": "4d6a0cef-00e7-49f1-95bc-6afd27edbf3c",
   "metadata": {
    "tags": []
   },
   "outputs": [],
   "source": [
    "def get_reward(prev_state, prev_bid, prev_ask, curr_state, curr_bid, curr_ask, use_midprice=False, prev_action_idx=-1, trading_fee=1e-4, neutral_penalty=1e-6):\n",
    "    valid_actions = [0, 1, 2]\n",
    "    assert (prev_state.dim() == 1) and (curr_state.dim() == 1), \"State provided is not 1 dimensional\"\n",
    "    assert (prev_state[prev_action_idx] in valid_actions) and (curr_state[prev_action_idx] in valid_actions), \"Action provided is not in [0, 1, 2] range\"\n",
    "    \n",
    "    prev_is_neutral = prev_state[prev_action_idx] == 1\n",
    "    curr_is_neutral = curr_state[prev_action_idx] == 1\n",
    "    \n",
    "    spread = 0 if use_midprice else (prev_ask - prev_bid)\n",
    "    \n",
    "    if curr_is_neutral:\n",
    "        if prev_is_neutral:\n",
    "            # Neutral -> Neutral\n",
    "            return -neutral_penalty\n",
    "\n",
    "        if not prev_is_neutral:\n",
    "            # Active -> Neutral\n",
    "            return -(trading_fee)\n",
    "    \n",
    "    # Here onwards current portfolio is active\n",
    "    curr_is_long = curr_state[prev_action_idx] == 2 # True -> Long, False -> Short\n",
    "    if use_midprice and curr_is_long:\n",
    "        price_change = ((curr_ask + curr_bid) / 2) - ((prev_ask + prev_bid) / 2)\n",
    "    elif use_midprice and not curr_is_long:\n",
    "        price_change = ((prev_ask + prev_bid) / 2) - ((curr_ask + curr_bid) / 2)\n",
    "    elif not use_midprice and curr_is_long:\n",
    "        price_change = curr_ask - prev_ask\n",
    "    else:\n",
    "        price_change = prev_bid - curr_bid\n",
    "        \n",
    "    portfolio_is_same = prev_state[prev_action_idx] == curr_state[prev_action_idx]\n",
    "    \n",
    "    if prev_is_neutral:\n",
    "        # Neutral -> Active\n",
    "        return -trading_fee + price_change\n",
    "    \n",
    "    if not prev_is_neutral:\n",
    "        if portfolio_is_same:\n",
    "            # Active -> Active\n",
    "            return price_change\n",
    "        else:\n",
    "            # Active -> -Active\n",
    "            return -(spread + trading_fee) - trading_fee + price_change"
   ]
  },
  {
   "cell_type": "markdown",
   "id": "b17da243-b7cb-4e0e-b9aa-36df24d98386",
   "metadata": {},
   "source": [
    "## 1. Advantage Actor Critic (A2C) RL\n",
    "\n",
    "Hyperparameters"
   ]
  },
  {
   "cell_type": "code",
   "execution_count": 7,
   "id": "8a82735c-3427-4ec5-8ab1-176eebb4247f",
   "metadata": {},
   "outputs": [],
   "source": [
    "ACTION_SPACE = [0, 1, 2]\n",
    "\n",
    "OUTPUT_DIMS = 3\n",
    "BATCH_SIZE = 512\n",
    "\n",
    "N_PRETRAIN_EPOCH = 150\n",
    "\n",
    "N_EPOCHS = 100\n",
    "LEARNING_RATE = 1e-4\n",
    "REPLAY_MEMORY_SIZE = 1048576\n",
    "DISCOUNT_RATE = 0.99       # Discounted rate of future returns\n",
    "FROZEN_UPDATE_INTERVAL = 16\n",
    "\n",
    "TRADING_FEE = 1e-4\n",
    "NEUTRAL_PENALTY = 5e-5"
   ]
  },
  {
   "cell_type": "markdown",
   "id": "04f30a84-faf4-4a99-a1d8-7f430fe176e3",
   "metadata": {},
   "source": [
    "### Exploration-exploitation parameters.  "
   ]
  },
  {
   "cell_type": "code",
   "execution_count": 8,
   "id": "c1de2552-f20e-4b0f-86cf-69d5bbb86311",
   "metadata": {},
   "outputs": [
    {
     "data": {
      "text/plain": [
       "<AxesSubplot:>"
      ]
     },
     "execution_count": 8,
     "metadata": {},
     "output_type": "execute_result"
    },
    {
     "data": {
      "image/png": "[encoded data removed]",
      "text/plain": [
       "<Figure size 432x288 with 1 Axes>"
      ]
     },
     "metadata": {
      "needs_background": "light"
     },
     "output_type": "display_data"
    }
   ],
   "source": [
    "min_exploration_rate = 0.001\n",
    "max_exploration_rate = 1.\n",
    "exploration_decay_rate = 0.05\n",
    "ers = []\n",
    "for epoch in range(N_EPOCHS):\n",
    "    exploration_rate = min_exploration_rate + (max_exploration_rate - min_exploration_rate) * np.exp(-exploration_decay_rate*epoch)\n",
    "    ers.append(exploration_rate)\n",
    "pd.Series(ers).plot()"
   ]
  },
  {
   "cell_type": "markdown",
   "id": "c6e2bff5-8406-4e66-830d-8c8451d614a6",
   "metadata": {},
   "source": [
    "### Pretrain Actor Network then commence RL training\n",
    "\n",
    "Use the labels computed above to pretrain the actor network.  \n",
    "All portfolio values [0, 1, 2] are trained to output logits that best suit the given labels.  "
   ]
  },
  {
   "cell_type": "code",
   "execution_count": null,
   "id": "1d88a240-a3db-4d6b-9686-bfceea21a770",
   "metadata": {
    "tags": []
   },
   "outputs": [
    {
     "name": "stdout",
     "output_type": "stream",
     "text": [
      "Epoch: 149 Batch:  25 of 29 Loss:   1.299151\n"
     ]
    }
   ],
   "source": [
    "mlflow.set_experiment(\"A2C\")\n",
    "for dataset in datasets:\n",
    "    for USE_MIDPRICE in [True, False]:\n",
    "        # Fetch data\n",
    "        X_train, X_val, X_test, y_train, y_val, y_test, bid_train, bid_val, bid_test, ask_train, ask_val, ask_test = [torch.load(path) for path in dataset]\n",
    "        y_train, y_val, y_test = y_train.long(), y_val.long(), y_test.long()\n",
    "        INPUT_DIMS = X_train.shape[-1]\n",
    "\n",
    "        policy = ActorNetwork(input_dim=INPUT_DIMS, output_dim=OUTPUT_DIMS).to(device)\n",
    "        critic = CriticNetwork(input_dim=INPUT_DIMS).to(device)\n",
    "        critic_frozen = CriticNetwork(input_dim=INPUT_DIMS).to(device)\n",
    "        critic_frozen.load_state_dict(critic.state_dict())\n",
    "        \n",
    "                \n",
    "        # Begin logging\n",
    "        with mlflow.start_run() as run:\n",
    "            mlflow.log_params({\n",
    "                'RL_algorithm': \"A2C\",\n",
    "                'batch_size': BATCH_SIZE,\n",
    "                'n_pretrain_epoch': N_PRETRAIN_EPOCH,\n",
    "                'n_epochs': N_EPOCHS,\n",
    "                'learning_rate': LEARNING_RATE,\n",
    "                'replay_memory_size': REPLAY_MEMORY_SIZE,\n",
    "                'discount_rate': DISCOUNT_RATE,\n",
    "                'frozen_update_interval': FROZEN_UPDATE_INTERVAL,\n",
    "                'use_midprice': USE_MIDPRICE,\n",
    "                'trading_fee': TRADING_FEE,\n",
    "                'neutral_penalty': NEUTRAL_PENALTY,\n",
    "                'market_open': MARKET_OPEN,\n",
    "                'market_close': MARKET_CLOSE,\n",
    "                'granularity': GRANULARITY,\n",
    "                'month': MONTH,\n",
    "                'datascope': dataset[0].split(\"/\")[2],\n",
    "                'device': device,\n",
    "                'input_dims': INPUT_DIMS,\n",
    "                'critic_loss_fn': 'MSE',\n",
    "                'network_optimizer_fns': 'Adam',\n",
    "                'pretrain_loss_fn': 'CrossEntropyLoss',\n",
    "                'policy_network': str(policy.linear_stack).replace(\"in_features=\", \"\").replace(\"out_features=\", \"\").replace(\" \", \"\").replace(\"\\n\", \"\").replace(\",bias=True\", \"\"),\n",
    "                'critic_network': str(critic.linear_stack).replace(\"in_features=\", \"\").replace(\"out_features=\", \"\").replace(\" \", \"\").replace(\"\\n\", \"\").replace(\",bias=True\", \"\"),\n",
    "                'min_exploration_rate': min_exploration_rate,\n",
    "                'max_exploration_rate': max_exploration_rate,\n",
    "                'exploration_decay_rate': exploration_decay_rate,\n",
    "            })\n",
    "\n",
    "            policy.train()\n",
    "            critic.train()\n",
    "            critic_frozen.eval()\n",
    "\n",
    "            policy_optimizer = optim.Adam(params=policy.parameters(), lr=LEARNING_RATE)\n",
    "            critic_optimizer = optim.Adam(params=critic.parameters(), lr=LEARNING_RATE)\n",
    "\n",
    "            mse_fn = nn.MSELoss()\n",
    "\n",
    "            dataloader = DataLoader([(X_train[i], y_train[i]) for i in range(X_train.shape[0])], shuffle=False, batch_size=BATCH_SIZE)\n",
    "\n",
    "            pretrain_loss_fn = nn.CrossEntropyLoss()\n",
    "            pretrain_optimizer = optim.Adam(params=policy.parameters(), lr=LEARNING_RATE)\n",
    "\n",
    "            for i in range(N_PRETRAIN_EPOCH):\n",
    "                for batch, (X, y) in enumerate(dataloader):\n",
    "                    X_dummy = X.clone()\n",
    "                    X_dummy[..., -1] = i % 3\n",
    "\n",
    "                    logits = policy(X_dummy, return_logits=True)\n",
    "                    pretrain_loss = pretrain_loss_fn(logits, y.long())\n",
    "\n",
    "                    # Backpropagation\n",
    "                    pretrain_optimizer.zero_grad()\n",
    "                    pretrain_loss.backward()\n",
    "                    pretrain_optimizer.step()\n",
    "\n",
    "                    if batch % 5 == 0:\n",
    "                        print(f\"Epoch: {i:2} Batch: {batch:3} of {len(dataloader)} Loss: {pretrain_loss.item():10.6f}\", end=\"\\r\")\n",
    "                mlflow.log_metric(\"pretrain_loss\", pretrain_loss.item(), step=i)\n",
    "\n",
    "            print(\"\")\n",
    "\n",
    "            critic_loss_history = []\n",
    "            policy_loss_history = []\n",
    "            reward_history = []\n",
    "            replay_memory = ReplayMemory(REPLAY_MEMORY_SIZE) # 2**20 values\n",
    "            \n",
    "            best_episode_reward = float(\"-inf\")\n",
    "\n",
    "            for epoch in range(N_EPOCHS):\n",
    "                done = False\n",
    "                episode_reward = 0\n",
    "                state = X_train[0].clone()\n",
    "                bid, ask = bid_train[0], ask_train[0]\n",
    "\n",
    "                for i in range(1, X_train.shape[0]):\n",
    "                    # Explore vs exploit\n",
    "                    exploration_rate = min_exploration_rate + (max_exploration_rate - min_exploration_rate) * np.exp(-exploration_decay_rate*epoch)\n",
    "                    if random.uniform(0, 1) > exploration_rate:\n",
    "                        action = policy(state) # Exploit\n",
    "                    else:\n",
    "                        action = torch.tensor(random.sample(ACTION_SPACE, 1)).to(device) # Explore\n",
    "\n",
    "                    # Environment step\n",
    "                    next_state = X_train[i].clone()\n",
    "                    next_state[..., -1] = action\n",
    "                    next_bid = bid_train[i]\n",
    "                    next_ask = ask_train[i]\n",
    "\n",
    "                    reward = get_reward(state, bid, ask, next_state, next_bid, next_ask, use_midprice=USE_MIDPRICE, trading_fee=TRADING_FEE, neutral_penalty=NEUTRAL_PENALTY)\n",
    "                    done = i == (X_train.shape[0] - 1)\n",
    "\n",
    "                    # Saves\n",
    "                    replay_memory.push(Experience(state, action, reward, next_state, done))\n",
    "                    episode_reward += reward\n",
    "                    state = next_state\n",
    "                    bid = next_bid\n",
    "                    ask = next_ask\n",
    "\n",
    "                    # High frequency logs\n",
    "                    mlflow.log_metric(\"intermediate_actions\", action.item()) # LOG THE ACTIONS THAT THE AGENT IS TAKING, really need to see if portfolio is changing or not\n",
    "                    mlflow.log_metric(\"intermediate_rewards\", reward)\n",
    "\n",
    "                    if replay_memory.can_provide_sample(BATCH_SIZE):\n",
    "                        states, actions, rewards, next_states, dones = replay_memory.sample(BATCH_SIZE)\n",
    "                        states, actions, rewards, next_states, dones = states.to(device), actions.to(device), rewards.to(device), next_states.to(device), dones.to(device)\n",
    "                        actions = actions.long()\n",
    "                        dones = dones.float()\n",
    "\n",
    "                        # Error calculation\n",
    "                        log_probs = policy.get_log_prob(states, actions)\n",
    "                        q_values = critic(states).squeeze(-1)\n",
    "                        q_target = (rewards + (1 - dones) * DISCOUNT_RATE * critic_frozen(next_states).squeeze(-1)).detach()\n",
    "                        advantages = q_target - q_values\n",
    "\n",
    "                        assert (log_probs <= 0).all(), \"There cannot be positive log probabilities\"\n",
    "\n",
    "                        policy_loss = -(log_probs * advantages.detach()).mean()\n",
    "                        value_loss = mse_fn(q_target, q_values)\n",
    "\n",
    "                        # Optimization\n",
    "                        critic_optimizer.zero_grad()\n",
    "                        value_loss.backward()\n",
    "                        critic_optimizer.step()\n",
    "\n",
    "                        policy_optimizer.zero_grad()\n",
    "                        policy_loss.backward()\n",
    "                        policy_optimizer.step()\n",
    "\n",
    "                reward_history.append(episode_reward) ######## LOG THE REWARD\n",
    "                mlflow.log_metric(\"episode_reward\", episode_reward, step=epoch)\n",
    "\n",
    "                if replay_memory.can_provide_sample(BATCH_SIZE) and i % FROZEN_UPDATE_INTERVAL == 0:\n",
    "                    critic_frozen.load_state_dict(critic.state_dict())\n",
    "\n",
    "                if replay_memory.can_provide_sample(BATCH_SIZE):\n",
    "                        print(f\"Epoch: {epoch:>5,d}, Reward: {episode_reward:>10,.6f}, Critic loss: {value_loss.item():>10,.6f}, Actor loss: {policy_loss.item():>10,.6f}\", end=\"\\r\")\n",
    "                        mlflow.log_metric(\"critic_loss\", value_loss.item(), step=epoch)\n",
    "                        mlflow.log_metric(\"actor_loss\", policy_loss.item(), step=epoch)\n",
    "                \n",
    "                if (episode_reward > best_episode_reward):\n",
    "                    best_episode_reward = episode_reward\n",
    "                    torch.save(policy.state_dict(), \"best_policy_state_dict.pt\")\n",
    "                    torch.save(critic.state_dict(), \"best_critic_state_dict.pt\")\n",
    "                    mlflow.log_artifact(\"best_policy_state_dict.pt\")\n",
    "                    mlflow.log_artifact(\"best_critic_state_dict.pt\")\n",
    "            torch.save(policy.state_dict(), \"last_policy_state_dict.pt\")\n",
    "            torch.save(critic.state_dict(), \"last_critic_state_dict.pt\")\n",
    "            mlflow.log_artifact(\"last_policy_state_dict.pt\")\n",
    "            mlflow.log_artifact(\"last_critic_state_dict.pt\")"
   ]
  },
  {
   "cell_type": "markdown",
   "id": "0098e5a3-a6d7-49bd-a33f-cc295607a686",
   "metadata": {},
   "source": [
    "Epoch:     0, Reward:  -1.845400, Critic loss:   0.024456, Actor loss: -301.728149"
   ]
  },
  {
   "cell_type": "code",
   "execution_count": 208,
   "id": "1614b974-a928-4d93-9e6c-11ab7fcc4839",
   "metadata": {},
   "outputs": [
    {
     "data": {
      "text/plain": [
       "<AxesSubplot:>"
      ]
     },
     "execution_count": 208,
     "metadata": {},
     "output_type": "execute_result"
    },
    {
     "data": {
      "image/png": "[encoded data removed]",
      "text/plain": [
       "<Figure size 432x288 with 1 Axes>"
      ]
     },
     "metadata": {
      "needs_background": "light"
     },
     "output_type": "display_data"
    }
   ],
   "source": [
    "a2c_reward_history = pd.Series(reward_history)\n",
    "a2c_reward_history.plot()"
   ]
  },
  {
   "cell_type": "code",
   "execution_count": null,
   "id": "a32ed8cf-74e6-45f0-b269-8d55b05979ce",
   "metadata": {},
   "outputs": [],
   "source": [
    "portfolio_hist = pd.Series(portfolio_history)\n",
    "(portfolio_hist != portfolio_hist.shift(1).fillna(portfolio_hist[0])).sum()\n",
    "# The number of trades executed:"
   ]
  },
  {
   "cell_type": "code",
   "execution_count": null,
   "id": "3d144c64-86ac-41af-9698-7ab1e974d88a",
   "metadata": {},
   "outputs": [],
   "source": [
    "portfolio_hist.value_counts().plot(kind='bar')"
   ]
  },
  {
   "cell_type": "code",
   "execution_count": null,
   "id": "6957b22a-21c7-43d8-9cb1-29f6dff29b98",
   "metadata": {},
   "outputs": [],
   "source": [
    "pd.Series(reward_history[:]).cumsum().plot(marker='.')\n",
    "plt.ylabel(\"Cumulative rewards\")\n",
    "plt.xlabel(\"Time step\");"
   ]
  },
  {
   "cell_type": "code",
   "execution_count": null,
   "id": "fdcdb7c4-bdc9-4553-be16-60f84ef105b9",
   "metadata": {},
   "outputs": [],
   "source": [
    "portfolio_hist = pd.Series(portfolio_history)\n",
    "(portfolio_hist != portfolio_hist.shift(1).fillna(portfolio_hist[0])).sum()\n",
    "# The number of trades executed:"
   ]
  },
  {
   "cell_type": "code",
   "execution_count": null,
   "id": "8b67e6c8-5a1c-43d3-9791-a13a199da070",
   "metadata": {},
   "outputs": [],
   "source": [
    "portfolio_hist.value_counts().plot(kind='bar')"
   ]
  },
  {
   "cell_type": "code",
   "execution_count": null,
   "id": "6419567b-47f1-40bc-bdc9-66dc902040ed",
   "metadata": {},
   "outputs": [],
   "source": [
    "pd.Series(reward_history).cumsum().plot(marker='.')\n",
    "plt.ylabel(\"Cumulative rewards\")\n",
    "plt.xlabel(\"Time step\");"
   ]
  },
  {
   "cell_type": "code",
   "execution_count": null,
   "id": "77902a7a-252e-437a-ad87-ce54f2775c4b",
   "metadata": {},
   "outputs": [],
   "source": [
    "pd.Series(reward_history[:2000]).cumsum().plot()\n",
    "plt.ylabel(\"Cumulative rewards\")\n",
    "plt.xlabel(\"Time step\");"
   ]
  },
  {
   "cell_type": "code",
   "execution_count": null,
   "id": "66c754ad-6e40-48bd-86c4-bea032ea3c70",
   "metadata": {},
   "outputs": [],
   "source": [
    "pd.Series(reward_history[20000:]).cumsum().plot()\n",
    "plt.ylabel(\"Cumulative rewards\")\n",
    "plt.xlabel(\"Time step\");"
   ]
  },
  {
   "cell_type": "markdown",
   "id": "63b97689-d3a1-4387-92d9-8eda94102779",
   "metadata": {
    "tags": []
   },
   "source": [
    "### Optional parameter save"
   ]
  },
  {
   "cell_type": "code",
   "execution_count": null,
   "id": "c34ff124-ecee-4baf-bd34-9b2fbca0ad46",
   "metadata": {},
   "outputs": [],
   "source": [
    "torch.save(policy.state_dict(), r\"../logs/policy_model_increasing_neutral_cost.pt\")\n",
    "torch.save(critic.state_dict(), r\"../logs/critic_model_increasing_neutral_cost.pt\")"
   ]
  },
  {
   "cell_type": "markdown",
   "id": "c4122ddc-949e-4d97-9c8f-e3f6b5d63655",
   "metadata": {
    "tags": []
   },
   "source": [
    "## DQN (ACTUALLY, DO AC, DDQN, then DQN)"
   ]
  },
  {
   "cell_type": "code",
   "execution_count": null,
   "id": "00af53f4-938e-4481-b203-9be96951d62c",
   "metadata": {},
   "outputs": [],
   "source": [
    "# Iterate over datasets\n",
    "# Iterate over midprice and reward function\n",
    "# Iterate over hyperparameters\n",
    "# RL\n",
    "\n"
   ]
  },
  {
   "cell_type": "markdown",
   "id": "20b60964-a28f-4d27-b02c-237237b2f148",
   "metadata": {},
   "source": [
    "Final report\n",
    "- Describe RL\n",
    "- Describe LOB\n",
    "- What metric are we trying to optimise\n",
    "- Inputs\n",
    "- Literature review\n",
    "- Results"
   ]
  }
 ],
 "metadata": {
  "kernelspec": {
   "display_name": "Python 3 (ipykernel)",
   "language": "python",
   "name": "python3"
  },
  "language_info": {
   "codemirror_mode": {
    "name": "ipython",
    "version": 3
   },
   "file_extension": ".py",
   "mimetype": "text/x-python",
   "name": "python",
   "nbconvert_exporter": "python",
   "pygments_lexer": "ipython3",
   "version": "3.9.7"
  },
  "toc-showtags": false
 },
 "nbformat": 4,
 "nbformat_minor": 5
}
