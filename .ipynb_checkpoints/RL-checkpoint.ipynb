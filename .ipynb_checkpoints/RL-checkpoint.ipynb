{
 "cells": [
  {
   "cell_type": "markdown",
   "id": "41c1de9e-b45c-4e1a-81c2-9d403778b012",
   "metadata": {},
   "source": [
    "# CHECK ACTION INPUT OUTPUT INTO MODELS (DO WE NEED TO -1)\n",
    "# CHECK REWARD FUNCTION\n",
    "# CHECK SAMPLE_SIZE=1 DATA\n",
    "# CHECK STANDARDIZATION"
   ]
  },
  {
   "cell_type": "markdown",
   "id": "68543e12-9c91-4d1f-8aab-2e1e596e8d83",
   "metadata": {
    "tags": []
   },
   "source": [
    "0. Pretraining\n",
    "1. Toggle midprice\n",
    "2. Toggle features [Could use an encoding layer to lower the state space down]\n",
    "3. 3 algorithms\n",
    "    - Might need to clip gradients and normalize rewards, anything to maintain stability.\n",
    "    - Include the price the asset was bought at in the state\n",
    "    - Jumble things (with randomization) [Optional with MASSIVE [1million] replay memory]\n",
    "    - Train-validation-test splits with continuous training during execution (During training we'll use the jumble)\n",
    "4. Adjust rewards (e.g. multiply negative penalties by 2 to make it twice as bad to lose money as to make money)\n",
    "\n",
    "Considerations:\n",
    "- Proximal Policy Optimization (PPO)\n",
    "- Soft Actor Critic (SAC)\n",
    "- Encoder layer for states\n",
    "\n",
    "Next:\n",
    "- Could also change the sample size from 20 and vary it down to 1, consider some form of RNN if possible (idk how to do that with batch training though)\n",
    "- Need to figure out MLflow logging\n",
    "- Tensorboard: https://pytorch.org/tutorials/intermediate/tensorboard_tutorial.html\n",
    "- Long-only policy\n",
    "- Recreating the table on Slide 41 of 56 from this set of lecture slides would be good for our purposes https://www.davidsilver.uk/wp-content/uploads/2020/03/FA.pdf\n",
    "\n",
    "\n",
    "Datasets (Standardize all):\n",
    "- Minimal\n",
    "- Minimal window\n",
    "- Full\n",
    "- Full window\n",
    "- Encoder of the above"
   ]
  },
  {
   "cell_type": "code",
   "execution_count": 1,
   "id": "03432b8f-6499-49d9-aece-158eaf854b44",
   "metadata": {},
   "outputs": [],
   "source": [
    "import os\n",
    "import random\n",
    "import mlflow\n",
    "from collections import namedtuple\n",
    "from IPython.display import clear_output\n",
    "\n",
    "import numpy as np\n",
    "import pandas as pd\n",
    "import matplotlib.pyplot as plt\n",
    "\n",
    "import torch\n",
    "import torch.optim as optim\n",
    "from torch import nn\n",
    "from torch.nn import functional as F\n",
    "from torch.utils.data import DataLoader\n",
    "from torch.distributions.categorical import Categorical\n",
    "\n",
    "from sklearn.model_selection import train_test_split\n",
    "from sklearn.model_selection import TimeSeriesSplit\n",
    "from scipy.optimize import minimize_scalar\n",
    "\n",
    "from LOB_analysis import *\n",
    "from commons.replay_memory import ReplayMemory, Experience\n",
    "\n",
    "%matplotlib inline\n",
    "device = 'cuda:1' if torch.cuda.is_available() else 'cpu'"
   ]
  },
  {
   "cell_type": "code",
   "execution_count": 21,
   "id": "a1cb7aa6-55e3-47f2-bd67-5b8e6831f2a8",
   "metadata": {},
   "outputs": [],
   "source": [
    "MARKET_OPEN = '9:30'\n",
    "MARKET_CLOSE = '16:00'\n",
    "GRANULARITY = '15 s'\n",
    "MONTH = 'jan'"
   ]
  },
  {
   "cell_type": "code",
   "execution_count": 2,
   "id": "50840c07-66c6-459c-9d70-301960b775c4",
   "metadata": {},
   "outputs": [],
   "source": [
    "message = pd.read_pickle(f\"../data/AMD_{MONTH}_msg.pickle\")\n",
    "orderbook = pd.read_pickle(f\"../data/AMD_{MONTH}_odb.pickle\")\n",
    "\n",
    "market_open_idx = message.set_index('time').index.indexer_between_time(MARKET_OPEN, MARKET_CLOSE)\n",
    "\n",
    "message = message.iloc[market_open_idx, :].reset_index(drop=True)\n",
    "orderbook = orderbook.iloc[market_open_idx, :].reset_index(drop=True)\n",
    "data = generate_data(message, orderbook, granularity=GRANULARITY, standardize_offset = 1) # Standardize by data of 1 day prior\n",
    "\n",
    "bids = data.loc[:, 'bid']\n",
    "asks = data.loc[:, 'ask']\n",
    "data = data.drop(['bid', 'ask'], axis=1)"
   ]
  },
  {
   "cell_type": "markdown",
   "id": "6073c0da-5090-4ca9-9d6b-a42010cd616a",
   "metadata": {
    "tags": []
   },
   "source": [
    "## Feature engineering\n",
    "\n",
    "**I do not know if standardization is actually a good thing. [CHECK - Ask prof too]**  \n",
    "Standardization will be done using a small window of previous events. This is because the statistical properties change as time moves on, so we standardize w.r.t small prior windows. Standardization benefits ML training since values will stradle 0 and not be too far from it.  \n",
    "\n",
    "**Check if we should reindex time-series data with forward padding and explicitly 0-labels given to these regions.**\n",
    "\n",
    "**BE CAREFUL OF THE CURSE OF DIMENSIONALITY**\n",
    "To understand if the curse of dimensionality is affecting performance, rerun the exact same experiments with fewer features and see if profitability increases.\n"
   ]
  },
  {
   "cell_type": "code",
   "execution_count": 3,
   "id": "ac1fb670-8efb-4ebc-9e10-4dd62ad0184c",
   "metadata": {},
   "outputs": [],
   "source": [
    "\"\"\"\n",
    "For optimizing the threshold value to produce balanced class labels.\n",
    "\n",
    "Use with scipy.optimize.minimize_scalar\n",
    "\"\"\"\n",
    "def label_eval(threshold, time_horizon = 50):\n",
    "    labels = get_label(data.mid_price, time_horizon = time_horizon, threshold = threshold)\n",
    "    counts = labels.value_counts()\n",
    "    return -(counts / counts.sum()).min()\n",
    "\n",
    "threshold = minimize_scalar(label_eval, bounds=(0, 2)).x\n",
    "labels = get_label(data.mid_price, time_horizon=50, threshold=threshold)"
   ]
  },
  {
   "cell_type": "code",
   "execution_count": 4,
   "id": "683b0f75-49fc-4d95-8c8a-d44c78ed8b05",
   "metadata": {},
   "outputs": [],
   "source": [
    "SAMPLE_SIZE = 1"
   ]
  },
  {
   "cell_type": "code",
   "execution_count": 5,
   "id": "913cd36b-cb1d-4365-9e4c-1853470f3d3f",
   "metadata": {},
   "outputs": [
    {
     "data": {
      "text/plain": [
       "(12434, 1, 58)"
      ]
     },
     "execution_count": 5,
     "metadata": {},
     "output_type": "execute_result"
    }
   ],
   "source": [
    "X, y, bids, asks = generate_time_series_samples(data, labels, bids, asks, SAMPLE_SIZE) # This fn performs dropna\n",
    "X.shape"
   ]
  },
  {
   "cell_type": "code",
   "execution_count": 6,
   "id": "cd010e8d-9554-4155-ac6a-72de45e9e4f2",
   "metadata": {},
   "outputs": [],
   "source": [
    "assert (y.index == asks.index).all()\n",
    "assert (y.index == bids.index).all()"
   ]
  },
  {
   "cell_type": "code",
   "execution_count": 7,
   "id": "25fb250f-df69-461d-8e39-86b263511c09",
   "metadata": {},
   "outputs": [
    {
     "data": {
      "text/plain": [
       "(12434, 58)"
      ]
     },
     "execution_count": 7,
     "metadata": {},
     "output_type": "execute_result"
    }
   ],
   "source": [
    "X_flatten = X.reshape(X.shape[0], -1)\n",
    "X_flatten.shape"
   ]
  },
  {
   "cell_type": "code",
   "execution_count": 8,
   "id": "f8695be0-f655-4aae-b1e8-4f911785ff10",
   "metadata": {},
   "outputs": [
    {
     "data": {
      "text/plain": [
       "torch.Size([12434, 59])"
      ]
     },
     "execution_count": 8,
     "metadata": {},
     "output_type": "execute_result"
    }
   ],
   "source": [
    "X_torch = torch.ones((X_flatten.shape[0], X_flatten.shape[1] + 1))\n",
    "X_torch[:, :-1] = torch.tensor(X_flatten)\n",
    "X_torch = X_torch.to(device)\n",
    "X_torch.shape"
   ]
  },
  {
   "cell_type": "code",
   "execution_count": 9,
   "id": "3c65a05e-7e1a-45f2-b85e-f53cda6e0810",
   "metadata": {},
   "outputs": [
    {
     "data": {
      "text/plain": [
       "((12434,), (12434,), (12434,))"
      ]
     },
     "execution_count": 9,
     "metadata": {},
     "output_type": "execute_result"
    }
   ],
   "source": [
    "y.shape, bids.shape, asks.shape"
   ]
  },
  {
   "cell_type": "code",
   "execution_count": 10,
   "id": "4e2c211b-1ef8-4039-90c3-45b93569d245",
   "metadata": {},
   "outputs": [],
   "source": [
    "NUM_DATA_COLS = X_torch.shape[1]"
   ]
  },
  {
   "cell_type": "markdown",
   "id": "d928fe72-5c88-49be-ad8d-2843f172695d",
   "metadata": {},
   "source": [
    "## Dataset generation"
   ]
  },
  {
   "cell_type": "code",
   "execution_count": 19,
   "id": "c2fd6251-3acf-4093-98f5-4dca317e9d68",
   "metadata": {},
   "outputs": [
    {
     "data": {
      "text/plain": [
       "-1    6567\n",
       " 1    5372\n",
       " 0     495\n",
       "Name: label, dtype: int64"
      ]
     },
     "execution_count": 19,
     "metadata": {},
     "output_type": "execute_result"
    }
   ],
   "source": [
    "y.value_counts()"
   ]
  },
  {
   "cell_type": "code",
   "execution_count": 20,
   "id": "7cf9f233-1fb1-4124-86c4-3044b18f7ee6",
   "metadata": {},
   "outputs": [],
   "source": [
    "y_tensor = torch.FloatTensor(y + 1).to(device)\n",
    "X_train, X_test, bid_train, bid_test, ask_train, ask_test, y_train, y_test = train_test_split(X_torch, bids, asks, y_tensor, shuffle=False, test_size=0.2)"
   ]
  },
  {
   "cell_type": "code",
   "execution_count": 24,
   "id": "ed0e6134-47de-4b29-b506-e668e81c54d4",
   "metadata": {},
   "outputs": [],
   "source": [
    "datasets = []\n",
    "\n",
    "dataset_scopes = ['minimal', 'minimal_window', 'full', 'full_window']\n",
    "dataset_components = ['X_train.pt', 'X_validation.pt', 'X_test.pt', 'y_train.pt', 'y_validation.pt', 'y_test.pt']\n",
    "\n",
    "for dataset_scope in dataset_scopes:\n",
    "    dataset = []\n",
    "    for dataset_component in dataset_components:\n",
    "        dataset.append(MONTH + \"_\" + dataset_scope + \"_\" + dataset_component)\n",
    "    datasets.append(dataset)"
   ]
  },
  {
   "cell_type": "code",
   "execution_count": 25,
   "id": "93b7eced-4802-4bbe-a9cc-9da8f77abe11",
   "metadata": {},
   "outputs": [
    {
     "data": {
      "text/plain": [
       "[['jan_minimal_X_train.pt',\n",
       "  'jan_minimal_X_validation.pt',\n",
       "  'jan_minimal_X_test.pt',\n",
       "  'jan_minimal_y_train.pt',\n",
       "  'jan_minimal_y_validation.pt',\n",
       "  'jan_minimal_y_test.pt'],\n",
       " ['jan_minimal_window_X_train.pt',\n",
       "  'jan_minimal_window_X_validation.pt',\n",
       "  'jan_minimal_window_X_test.pt',\n",
       "  'jan_minimal_window_y_train.pt',\n",
       "  'jan_minimal_window_y_validation.pt',\n",
       "  'jan_minimal_window_y_test.pt'],\n",
       " ['jan_full_X_train.pt',\n",
       "  'jan_full_X_validation.pt',\n",
       "  'jan_full_X_test.pt',\n",
       "  'jan_full_y_train.pt',\n",
       "  'jan_full_y_validation.pt',\n",
       "  'jan_full_y_test.pt'],\n",
       " ['jan_full_window_X_train.pt',\n",
       "  'jan_full_window_X_validation.pt',\n",
       "  'jan_full_window_X_test.pt',\n",
       "  'jan_full_window_y_train.pt',\n",
       "  'jan_full_window_y_validation.pt',\n",
       "  'jan_full_window_y_test.pt']]"
      ]
     },
     "execution_count": 25,
     "metadata": {},
     "output_type": "execute_result"
    }
   ],
   "source": [
    "datasets"
   ]
  },
  {
   "cell_type": "markdown",
   "id": "f940bcf6-ce29-4320-8d92-ed2956603ab2",
   "metadata": {},
   "source": [
    "## Models\n",
    "\n",
    "Note that actions are:\n",
    "- 0: Short   (Have -1 asset)\n",
    "- 1: Neutral (Have 0 asset)\n",
    "- 2: Long    (Have 1 asset)"
   ]
  },
  {
   "cell_type": "code",
   "execution_count": 11,
   "id": "09b0bcf8-47ba-469e-a674-747b5519c5ff",
   "metadata": {},
   "outputs": [],
   "source": [
    "def init_weights(m):\n",
    "    if type(m) == nn.Linear:\n",
    "        torch.nn.init.xavier_normal_(m.weight)\n",
    "        m.bias.data.fill_(0)\n",
    "\n",
    "\"\"\"Action-Value Function := Q(s, a)\"\"\"\n",
    "class ValueNetwork(nn.Module):\n",
    "    def __init__(self, input_dim, output_dim):\n",
    "        super().__init__()\n",
    "        self.linear_stack = nn.Sequential(\n",
    "            nn.Linear(input_dim, 32),\n",
    "            nn.ReLU(),\n",
    "            nn.Linear(32, 16),\n",
    "            nn.ReLU(),\n",
    "            nn.Linear(16, 16),\n",
    "            nn.ReLU(),\n",
    "            nn.Linear(16, output_dim),\n",
    "        )\n",
    "        self.apply(init_weights)\n",
    "        \n",
    "    def forward(self, x):\n",
    "        return self.linear_stack(x)\n",
    "\n",
    "\"\"\"Value Function := V(s)\"\"\"\n",
    "class CriticNetwork(nn.Module):\n",
    "    def __init__(self, input_dim):\n",
    "        super().__init__()\n",
    "        self.linear_stack = nn.Sequential(\n",
    "            nn.Linear(input_dim, 32),\n",
    "            nn.ReLU(),\n",
    "            nn.Linear(32, 16),\n",
    "            nn.ReLU(),\n",
    "            nn.Linear(16, 16),\n",
    "            nn.ReLU(),\n",
    "            nn.Linear(16, 1),\n",
    "        )\n",
    "        self.apply(init_weights)\n",
    "        \n",
    "    def forward(self, x):\n",
    "        return self.linear_stack(x)\n",
    "\n",
    "\"\"\"Policy Function := P(a | s)\"\"\"\n",
    "class ActorNetwork(nn.Module):\n",
    "    def __init__(self, input_dim, output_dim):\n",
    "        super().__init__()\n",
    "        self.linear_stack = nn.Sequential(\n",
    "            nn.Linear(input_dim, 32),\n",
    "            nn.ReLU(),\n",
    "            nn.Linear(32, 16),\n",
    "            nn.ReLU(),\n",
    "            nn.Linear(16, 16),\n",
    "            nn.ReLU(),\n",
    "            nn.Linear(16, output_dim),\n",
    "        )\n",
    "        self.apply(init_weights)\n",
    "        \n",
    "    def forward(self, x):\n",
    "        with torch.no_grad():\n",
    "            logits = self.linear_stack(x)\n",
    "            probs = Categorical(logits=logits)\n",
    "            action = probs.sample()\n",
    "        return action\n",
    "    \n",
    "    def get_log_prob(self, state, action):\n",
    "        logits = self.linear_stack(state)\n",
    "        dist = Categorical(logits=logits)\n",
    "        return dist.log_prob(action)"
   ]
  },
  {
   "cell_type": "markdown",
   "id": "bb880ebe-f412-4a5f-9dae-855ba07b62d0",
   "metadata": {},
   "source": [
    "## Reward function\n",
    "\n",
    "State representation:\n",
    "\n",
    "- At any current point we want to know our current portfolio\n",
    "- The action is how we want to the new portfolio that we want, we will limit our portfolio (and hence actions) to -1, 0, and 1 quantity of the asset  \n",
    "- We look at the next time step and get reward from the action we took\n",
    "\n",
    "This neutral penalty seems to work: $0.0001 * 10^{epoch}$"
   ]
  },
  {
   "cell_type": "code",
   "execution_count": 12,
   "id": "4d6a0cef-00e7-49f1-95bc-6afd27edbf3c",
   "metadata": {
    "tags": []
   },
   "outputs": [],
   "source": [
    "def get_reward(prev_state, curr_state, prev_ask, prev_bid, curr_ask, curr_bid, prev_action_idx=-1, trading_fee=1e-4, neutral_penalty=1e-6):\n",
    "    valid_actions = [0, 1, 2]\n",
    "    assert (prev_state.dim() == 1) and (curr_state.dim() == 1), \"State provided is not 1 dimensional\"\n",
    "    assert (prev_state[prev_action_idx] in valid_actions) and (curr_state[prev_action_idx] in valid_actions), \"Action provided is not in [0, 1, 2] range\"\n",
    "    \n",
    "    prev_is_neutral = prev_state[prev_action_idx] == 1\n",
    "    curr_is_neutral = curr_state[prev_action_idx] == 1\n",
    "    \n",
    "    spread = (prev_ask - prev_bid).item()\n",
    "    \n",
    "    if curr_is_neutral:\n",
    "        if prev_is_neutral:\n",
    "            # Neutral -> Neutral\n",
    "            return -neutral_penalty\n",
    "\n",
    "        if not prev_is_neutral:\n",
    "            # Active -> Neutral\n",
    "            return -(spread + trading_fee)\n",
    "    \n",
    "    # Here onwards current portfolio is active\n",
    "    curr_is_long = curr_state[prev_action_idx] == 2 # True -> Long, False -> Short\n",
    "    price_change = curr_ask - prev_ask if curr_is_long else prev_bid - curr_bid\n",
    "    price_change = price_change.item()\n",
    "    portfolio_is_same = prev_state[prev_action_idx] == curr_state[prev_action_idx]\n",
    "    \n",
    "    if prev_is_neutral:\n",
    "        # Neutral -> Active\n",
    "        return -trading_fee + price_change\n",
    "    \n",
    "    if not prev_is_neutral:\n",
    "        if portfolio_is_same:\n",
    "            # Active -> Active\n",
    "            return price_change\n",
    "        else:\n",
    "            # Active -> -Active\n",
    "            return -(spread + trading_fee) - trading_fee + price_change"
   ]
  },
  {
   "cell_type": "markdown",
   "id": "f02a437c-10cf-40c6-a59a-e49cb753409f",
   "metadata": {
    "tags": []
   },
   "source": [
    "## DQN (ACTUALLY, DO AC, DDQN, then DQN)"
   ]
  },
  {
   "cell_type": "code",
   "execution_count": null,
   "id": "00af53f4-938e-4481-b203-9be96951d62c",
   "metadata": {},
   "outputs": [],
   "source": [
    "# Iterate over datasets\n",
    "# Iterate over midprice and reward function\n",
    "# Iterate over hyperparameters\n",
    "# RL\n",
    "\n"
   ]
  },
  {
   "cell_type": "markdown",
   "id": "b17da243-b7cb-4e0e-b9aa-36df24d98386",
   "metadata": {},
   "source": [
    "## Pretraining of Actor (Policy) network"
   ]
  },
  {
   "cell_type": "code",
   "execution_count": 22,
   "id": "4cb917ee-b222-4144-8f0b-2ee91d1a75b2",
   "metadata": {
    "tags": []
   },
   "outputs": [
    {
     "ename": "TypeError",
     "evalue": "__init__() missing 1 required positional argument: 'env'",
     "output_type": "error",
     "traceback": [
      "\u001b[0;31m---------------------------------------------------------------------------\u001b[0m",
      "\u001b[0;31mTypeError\u001b[0m                                 Traceback (most recent call last)",
      "\u001b[0;32m/tmp/ipykernel_19830/2511702113.py\u001b[0m in \u001b[0;36m<module>\u001b[0;34m\u001b[0m\n\u001b[0;32m----> 1\u001b[0;31m \u001b[0mpolicy\u001b[0m \u001b[0;34m=\u001b[0m \u001b[0mActorNetwork\u001b[0m\u001b[0;34m(\u001b[0m\u001b[0;34m)\u001b[0m\u001b[0;34m.\u001b[0m\u001b[0mto\u001b[0m\u001b[0;34m(\u001b[0m\u001b[0mdevice\u001b[0m\u001b[0;34m)\u001b[0m\u001b[0;34m\u001b[0m\u001b[0;34m\u001b[0m\u001b[0m\n\u001b[0m\u001b[1;32m      2\u001b[0m \u001b[0mcritic\u001b[0m \u001b[0;34m=\u001b[0m \u001b[0mCriticNetwork\u001b[0m\u001b[0;34m(\u001b[0m\u001b[0;34m)\u001b[0m\u001b[0;34m.\u001b[0m\u001b[0mto\u001b[0m\u001b[0;34m(\u001b[0m\u001b[0mdevice\u001b[0m\u001b[0;34m)\u001b[0m\u001b[0;34m\u001b[0m\u001b[0;34m\u001b[0m\u001b[0m\n\u001b[1;32m      3\u001b[0m \u001b[0mcritic_frozen\u001b[0m \u001b[0;34m=\u001b[0m \u001b[0mCriticNetwork\u001b[0m\u001b[0;34m(\u001b[0m\u001b[0;34m)\u001b[0m\u001b[0;34m.\u001b[0m\u001b[0mto\u001b[0m\u001b[0;34m(\u001b[0m\u001b[0mdevice\u001b[0m\u001b[0;34m)\u001b[0m\u001b[0;34m\u001b[0m\u001b[0;34m\u001b[0m\u001b[0m\n\u001b[1;32m      4\u001b[0m \u001b[0mcritic_frozen\u001b[0m\u001b[0;34m.\u001b[0m\u001b[0mload_state_dict\u001b[0m\u001b[0;34m(\u001b[0m\u001b[0mcritic\u001b[0m\u001b[0;34m.\u001b[0m\u001b[0mstate_dict\u001b[0m\u001b[0;34m(\u001b[0m\u001b[0;34m)\u001b[0m\u001b[0;34m)\u001b[0m\u001b[0;34m\u001b[0m\u001b[0;34m\u001b[0m\u001b[0m\n\u001b[1;32m      5\u001b[0m \u001b[0;34m\u001b[0m\u001b[0m\n",
      "\u001b[0;31mTypeError\u001b[0m: __init__() missing 1 required positional argument: 'env'"
     ]
    }
   ],
   "source": [
    "policy = ActorNetwork().to(device)\n",
    "critic = CriticNetwork().to(device)\n",
    "critic_frozen = CriticNetwork().to(device)\n",
    "critic_frozen.load_state_dict(critic.state_dict())\n",
    "\n",
    "policy.train()\n",
    "critic.train()\n",
    "critic_frozen.eval()\n",
    "\n",
    "lr = 1e-4\n",
    "policy_optimizer = optim.Adam(params=policy.parameters(), lr=lr)\n",
    "critic_optimizer = optim.Adam(params=critic.parameters(), lr=lr)"
   ]
  },
  {
   "cell_type": "code",
   "execution_count": 27,
   "id": "5648633d-b3c3-4152-8224-e00246e2d6f9",
   "metadata": {},
   "outputs": [],
   "source": [
    "dataloader = DataLoader([(X_train[i], y_train[i]) for i in range(X_train.shape[0])], shuffle=False, batch_size=128)"
   ]
  },
  {
   "cell_type": "code",
   "execution_count": 28,
   "id": "bbeb7675-fbd9-4b10-8770-ca37cf9c71dd",
   "metadata": {},
   "outputs": [],
   "source": [
    "for X, y in dataloader:\n",
    "    break"
   ]
  },
  {
   "cell_type": "code",
   "execution_count": 33,
   "id": "c19a24eb-e328-4b5b-9363-2e4bc5f8dcf0",
   "metadata": {},
   "outputs": [
    {
     "data": {
      "text/plain": [
       "tensor([0, 0, 0, 0, 0, 0, 2, 0, 0, 0, 0, 0, 0, 0, 0, 2, 0, 0, 0, 0, 0, 0, 0, 0,\n",
       "        0, 0, 0, 2, 0, 0, 0, 0, 0, 0, 0, 0, 0, 0, 0, 0, 0, 0, 0, 0, 0, 0, 0, 0,\n",
       "        0, 0, 0, 0, 0, 0, 0, 0, 0, 0, 0, 0, 0, 0, 0, 0, 0, 0, 0, 0, 0, 0, 0, 0,\n",
       "        0, 0, 0, 0, 0, 0, 0, 0, 0, 0, 0, 0, 0, 0, 0, 0, 0, 0, 0, 0, 0, 0, 0, 0,\n",
       "        0, 0, 0, 0, 0, 0, 0, 0, 0, 0, 0, 0, 0, 0, 0, 0, 0, 0, 0, 0, 0, 0, 0, 0,\n",
       "        0, 0, 0, 0, 0, 0, 0, 0], device='cuda:0')"
      ]
     },
     "execution_count": 33,
     "metadata": {},
     "output_type": "execute_result"
    }
   ],
   "source": [
    "policy.get_next_portfolio(X)"
   ]
  },
  {
   "cell_type": "code",
   "execution_count": null,
   "id": "6da9fe34-5ef5-46bc-aa11-7263f37afd07",
   "metadata": {},
   "outputs": [],
   "source": [
    "for batch, (X, y) in enumerate(dataloader):\n",
    "\n",
    "    pred = policy.get_next_portfolio(X)\n",
    "    loss = loss_fn(pred, y)\n",
    "\n",
    "    # Backpropagation\n",
    "    optimizer.zero_grad()\n",
    "    loss.backward()\n",
    "    optimizer.step()\n",
    "\n",
    "    if batch % 100 == 0:\n",
    "        loss, current = loss.item(), batch * len(X)\n",
    "        print(f\"loss: {loss:>7f}  [{current:>5d}/{size:>5d}]\")"
   ]
  },
  {
   "cell_type": "code",
   "execution_count": null,
   "id": "53a63944-23df-4537-b5a6-8816540c2ec4",
   "metadata": {},
   "outputs": [],
   "source": [
    "for e in range(100):\n",
    "    \n",
    "    for "
   ]
  },
  {
   "cell_type": "code",
   "execution_count": null,
   "id": "b3ca675b-966f-4889-a2f2-89026d251df0",
   "metadata": {},
   "outputs": [],
   "source": [
    "def train(dataloader, model, loss_fn, optimizer):\n",
    "    size = len(dataloader.dataset)\n",
    "    model.train()\n",
    "    for batch, (X, y) in enumerate(dataloader):\n",
    "        X, y = X.to(device), y.to(device)\n",
    "\n",
    "        # Compute prediction error\n",
    "        pred = model(X)\n",
    "        loss = loss_fn(pred, y)\n",
    "\n",
    "        # Backpropagation\n",
    "        optimizer.zero_grad()\n",
    "        loss.backward()\n",
    "        optimizer.step()\n",
    "\n",
    "        if batch % 100 == 0:\n",
    "            loss, current = loss.item(), batch * len(X)\n",
    "            print(f\"loss: {loss:>7f}  [{current:>5d}/{size:>5d}]\")"
   ]
  },
  {
   "cell_type": "code",
   "execution_count": 40,
   "id": "8ec9ef5f-6d74-4f59-9cba-9c263926fb1e",
   "metadata": {
    "tags": []
   },
   "outputs": [
    {
     "name": "stdout",
     "output_type": "stream",
     "text": [
      "Iteration:    13153, Epoch:     1, Num trades:     1, Value function loss: 01.46518, Policy function loss: -0.00000\r"
     ]
    },
    {
     "ename": "KeyboardInterrupt",
     "evalue": "",
     "output_type": "error",
     "traceback": [
      "\u001b[0;31m---------------------------------------------------------------------------\u001b[0m",
      "\u001b[0;31mKeyboardInterrupt\u001b[0m                         Traceback (most recent call last)",
      "\u001b[0;32m/tmp/ipykernel_32140/2089082445.py\u001b[0m in \u001b[0;36m<module>\u001b[0;34m\u001b[0m\n\u001b[1;32m     61\u001b[0m \u001b[0;34m\u001b[0m\u001b[0m\n\u001b[1;32m     62\u001b[0m \u001b[0;34m\u001b[0m\u001b[0m\n\u001b[0;32m---> 63\u001b[0;31m             \u001b[0m_portfolio_history\u001b[0m \u001b[0;34m=\u001b[0m \u001b[0mpd\u001b[0m\u001b[0;34m.\u001b[0m\u001b[0mSeries\u001b[0m\u001b[0;34m(\u001b[0m\u001b[0mportfolio_history\u001b[0m\u001b[0;34m)\u001b[0m\u001b[0;34m\u001b[0m\u001b[0;34m\u001b[0m\u001b[0m\n\u001b[0m\u001b[1;32m     64\u001b[0m             \u001b[0mnum_trades\u001b[0m \u001b[0;34m=\u001b[0m \u001b[0;34m(\u001b[0m\u001b[0m_portfolio_history\u001b[0m \u001b[0;34m!=\u001b[0m \u001b[0m_portfolio_history\u001b[0m\u001b[0;34m.\u001b[0m\u001b[0mshift\u001b[0m\u001b[0;34m(\u001b[0m\u001b[0;36m1\u001b[0m\u001b[0;34m)\u001b[0m\u001b[0;34m.\u001b[0m\u001b[0mfillna\u001b[0m\u001b[0;34m(\u001b[0m\u001b[0m_portfolio_history\u001b[0m\u001b[0;34m[\u001b[0m\u001b[0;36m0\u001b[0m\u001b[0;34m]\u001b[0m\u001b[0;34m)\u001b[0m\u001b[0;34m)\u001b[0m\u001b[0;34m.\u001b[0m\u001b[0msum\u001b[0m\u001b[0;34m(\u001b[0m\u001b[0;34m)\u001b[0m\u001b[0;34m\u001b[0m\u001b[0;34m\u001b[0m\u001b[0m\n\u001b[1;32m     65\u001b[0m             \u001b[0mprint\u001b[0m\u001b[0;34m(\u001b[0m\u001b[0;34mf\"Iteration: {i:0>8,d}, Epoch: {epoch:>5}, Num trades: {num_trades:5}, Value function loss: {value_fn_loss.item():0>8,.5f}, Policy function loss: {policy_loss.item():0>8,.5f}\"\u001b[0m\u001b[0;34m,\u001b[0m \u001b[0mend\u001b[0m\u001b[0;34m=\u001b[0m\u001b[0;34m\"\\r\"\u001b[0m\u001b[0;34m)\u001b[0m\u001b[0;34m\u001b[0m\u001b[0;34m\u001b[0m\u001b[0m\n",
      "\u001b[0;32m~/miniconda3/envs/rl_base/lib/python3.9/site-packages/pandas/core/series.py\u001b[0m in \u001b[0;36m__init__\u001b[0;34m(self, data, index, dtype, name, copy, fastpath)\u001b[0m\n\u001b[1;32m    437\u001b[0m                     \u001b[0mdata\u001b[0m \u001b[0;34m=\u001b[0m \u001b[0mdata\u001b[0m\u001b[0;34m.\u001b[0m\u001b[0mcopy\u001b[0m\u001b[0;34m(\u001b[0m\u001b[0;34m)\u001b[0m\u001b[0;34m\u001b[0m\u001b[0;34m\u001b[0m\u001b[0m\n\u001b[1;32m    438\u001b[0m             \u001b[0;32melse\u001b[0m\u001b[0;34m:\u001b[0m\u001b[0;34m\u001b[0m\u001b[0;34m\u001b[0m\u001b[0m\n\u001b[0;32m--> 439\u001b[0;31m                 \u001b[0mdata\u001b[0m \u001b[0;34m=\u001b[0m \u001b[0msanitize_array\u001b[0m\u001b[0;34m(\u001b[0m\u001b[0mdata\u001b[0m\u001b[0;34m,\u001b[0m \u001b[0mindex\u001b[0m\u001b[0;34m,\u001b[0m \u001b[0mdtype\u001b[0m\u001b[0;34m,\u001b[0m \u001b[0mcopy\u001b[0m\u001b[0;34m)\u001b[0m\u001b[0;34m\u001b[0m\u001b[0;34m\u001b[0m\u001b[0m\n\u001b[0m\u001b[1;32m    440\u001b[0m \u001b[0;34m\u001b[0m\u001b[0m\n\u001b[1;32m    441\u001b[0m                 \u001b[0mmanager\u001b[0m \u001b[0;34m=\u001b[0m \u001b[0mget_option\u001b[0m\u001b[0;34m(\u001b[0m\u001b[0;34m\"mode.data_manager\"\u001b[0m\u001b[0;34m)\u001b[0m\u001b[0;34m\u001b[0m\u001b[0;34m\u001b[0m\u001b[0m\n",
      "\u001b[0;32m~/miniconda3/envs/rl_base/lib/python3.9/site-packages/pandas/core/construction.py\u001b[0m in \u001b[0;36msanitize_array\u001b[0;34m(data, index, dtype, copy, raise_cast_failure, allow_2d)\u001b[0m\n\u001b[1;32m    569\u001b[0m             \u001b[0msubarr\u001b[0m \u001b[0;34m=\u001b[0m \u001b[0m_try_cast\u001b[0m\u001b[0;34m(\u001b[0m\u001b[0mdata\u001b[0m\u001b[0;34m,\u001b[0m \u001b[0mdtype\u001b[0m\u001b[0;34m,\u001b[0m \u001b[0mcopy\u001b[0m\u001b[0;34m,\u001b[0m \u001b[0mraise_cast_failure\u001b[0m\u001b[0;34m)\u001b[0m\u001b[0;34m\u001b[0m\u001b[0;34m\u001b[0m\u001b[0m\n\u001b[1;32m    570\u001b[0m         \u001b[0;32melse\u001b[0m\u001b[0;34m:\u001b[0m\u001b[0;34m\u001b[0m\u001b[0;34m\u001b[0m\u001b[0m\n\u001b[0;32m--> 571\u001b[0;31m             \u001b[0msubarr\u001b[0m \u001b[0;34m=\u001b[0m \u001b[0mmaybe_convert_platform\u001b[0m\u001b[0;34m(\u001b[0m\u001b[0mdata\u001b[0m\u001b[0;34m)\u001b[0m\u001b[0;34m\u001b[0m\u001b[0;34m\u001b[0m\u001b[0m\n\u001b[0m\u001b[1;32m    572\u001b[0m             \u001b[0;32mif\u001b[0m \u001b[0msubarr\u001b[0m\u001b[0;34m.\u001b[0m\u001b[0mdtype\u001b[0m \u001b[0;34m==\u001b[0m \u001b[0mobject\u001b[0m\u001b[0;34m:\u001b[0m\u001b[0;34m\u001b[0m\u001b[0;34m\u001b[0m\u001b[0m\n\u001b[1;32m    573\u001b[0m                 \u001b[0msubarr\u001b[0m \u001b[0;34m=\u001b[0m \u001b[0mcast\u001b[0m\u001b[0;34m(\u001b[0m\u001b[0mnp\u001b[0m\u001b[0;34m.\u001b[0m\u001b[0mndarray\u001b[0m\u001b[0;34m,\u001b[0m \u001b[0msubarr\u001b[0m\u001b[0;34m)\u001b[0m\u001b[0;34m\u001b[0m\u001b[0;34m\u001b[0m\u001b[0m\n",
      "\u001b[0;32m~/miniconda3/envs/rl_base/lib/python3.9/site-packages/pandas/core/dtypes/cast.py\u001b[0m in \u001b[0;36mmaybe_convert_platform\u001b[0;34m(values)\u001b[0m\n\u001b[1;32m    124\u001b[0m     \u001b[0;32mif\u001b[0m \u001b[0marr\u001b[0m\u001b[0;34m.\u001b[0m\u001b[0mdtype\u001b[0m \u001b[0;34m==\u001b[0m \u001b[0mobject\u001b[0m\u001b[0;34m:\u001b[0m\u001b[0;34m\u001b[0m\u001b[0;34m\u001b[0m\u001b[0m\n\u001b[1;32m    125\u001b[0m         \u001b[0marr\u001b[0m \u001b[0;34m=\u001b[0m \u001b[0mcast\u001b[0m\u001b[0;34m(\u001b[0m\u001b[0mnp\u001b[0m\u001b[0;34m.\u001b[0m\u001b[0mndarray\u001b[0m\u001b[0;34m,\u001b[0m \u001b[0marr\u001b[0m\u001b[0;34m)\u001b[0m\u001b[0;34m\u001b[0m\u001b[0;34m\u001b[0m\u001b[0m\n\u001b[0;32m--> 126\u001b[0;31m         \u001b[0marr\u001b[0m \u001b[0;34m=\u001b[0m \u001b[0mlib\u001b[0m\u001b[0;34m.\u001b[0m\u001b[0mmaybe_convert_objects\u001b[0m\u001b[0;34m(\u001b[0m\u001b[0marr\u001b[0m\u001b[0;34m)\u001b[0m\u001b[0;34m\u001b[0m\u001b[0;34m\u001b[0m\u001b[0m\n\u001b[0m\u001b[1;32m    127\u001b[0m \u001b[0;34m\u001b[0m\u001b[0m\n\u001b[1;32m    128\u001b[0m     \u001b[0;32mreturn\u001b[0m \u001b[0marr\u001b[0m\u001b[0;34m\u001b[0m\u001b[0;34m\u001b[0m\u001b[0m\n",
      "\u001b[0;31mKeyboardInterrupt\u001b[0m: "
     ]
    }
   ],
   "source": [
    "value_fn_losses = []\n",
    "policy_losses = []\n",
    "reward_history = [0]    # 0: Just so that len(reward_history) == len(portfolio_history)\n",
    "portfolio_history = [1] # 1: Starting portfolio (neutral), possble portfolios are [0, 1, 2] i.e. [short, neutral, long]\n",
    "\n",
    "memory = ExperienceReplayMemory(16384)\n",
    "\n",
    "gamma = 0.99       # Discounted rate of future returns\n",
    "batch_size = 256   # Train size\n",
    "epochs = 10\n",
    "weight_update_interval = 1\n",
    "frozen_update_interval = 256\n",
    "\n",
    "lower_bound = None\n",
    "\n",
    "i = 0\n",
    "for epoch in range(epochs):\n",
    "    curr_state = X_train[0].clone() # Clone copies but maintains grad if one exists\n",
    "    curr_bid, curr_ask = bid_train[0], ask_train[0]\n",
    "    for j in range(1, X_train.shape[0]):\n",
    "        next_state, next_bid, next_ask = X_train[j, ...], bid_train[j], ask_train[j]\n",
    "        # Do not modify our training data\n",
    "        next_state = next_state.clone()\n",
    "        \n",
    "        # Update the next_state with the new portfolio\n",
    "        portfolio = policy.get_next_portfolio(curr_state)\n",
    "        next_state[-1] = portfolio\n",
    "        \n",
    "        reward = get_reward(curr_state, next_state, prev_bid=curr_bid, prev_ask=curr_ask, curr_bid=next_bid, curr_ask=next_ask, trading_fee=1e-4, neutral_penalty=1e-5 * (epoch + 1))\n",
    "        reward_history.append(reward)\n",
    "        portfolio_history.append(portfolio.item())\n",
    "        experience = Experience(curr_state, next_state, reward)\n",
    "        memory.push(experience)\n",
    "        \n",
    "        curr_state = next_state.clone()\n",
    "        curr_bid, curr_ask = next_bid, next_ask\n",
    "        i += 1\n",
    "        print(f\"Iteration: {i:>8}, Epoch: {epoch:>5}\", end=\"\\r\")\n",
    "        \n",
    "        \n",
    "        if memory.can_provide_sample(batch_size) and (i % weight_update_interval == 0):\n",
    "            states, next_states, rewards = memory.sample(batch_size)\n",
    "            \n",
    "            with torch.no_grad():\n",
    "                target = rewards + gamma * critic_frozen.get_value(next_states)\n",
    "            advantages = target - critic.get_value(states)\n",
    "            log_probs = policy.get_log_prob(states, next_states)\n",
    "            assert (log_probs <= 0).all(), \"There cannot be positive log probabilities\"\n",
    "            \n",
    "            value_fn_loss = (advantages**2).mean()\n",
    "            \n",
    "            policy_loss = (log_probs * advantages.detach()).mean() * -1 # To be minimized\n",
    "            \n",
    "            policy_optimizer.zero_grad()\n",
    "            policy_loss.backward()\n",
    "            policy_optimizer.step()\n",
    "            \n",
    "            critic_optimizer.zero_grad()\n",
    "            value_fn_loss.backward()\n",
    "            critic_optimizer.step()\n",
    "            \n",
    "            \n",
    "            _portfolio_history = pd.Series(portfolio_history)\n",
    "            num_trades = (_portfolio_history != _portfolio_history.shift(1).fillna(_portfolio_history[0])).sum()\n",
    "            print(f\"Iteration: {i:0>8,d}, Epoch: {epoch:>5}, Num trades: {num_trades:5}, Value function loss: {value_fn_loss.item():0>8,.5f}, Policy function loss: {policy_loss.item():0>8,.5f}\", end=\"\\r\")\n",
    "        if i % frozen_update_interval == 0:\n",
    "            critic_frozen.load_state_dict(critic.state_dict())\n",
    "            value_fn_losses.append(value_fn_loss)\n",
    "            policy_losses.append(policy_loss)"
   ]
  },
  {
   "cell_type": "code",
   "execution_count": 35,
   "id": "a32ed8cf-74e6-45f0-b269-8d55b05979ce",
   "metadata": {},
   "outputs": [
    {
     "data": {
      "text/plain": [
       "15"
      ]
     },
     "execution_count": 35,
     "metadata": {},
     "output_type": "execute_result"
    }
   ],
   "source": [
    "portfolio_hist = pd.Series(portfolio_history)\n",
    "(portfolio_hist != portfolio_hist.shift(1).fillna(portfolio_hist[0])).sum()\n",
    "# The number of trades executed:"
   ]
  },
  {
   "cell_type": "code",
   "execution_count": null,
   "id": "3d144c64-86ac-41af-9698-7ab1e974d88a",
   "metadata": {},
   "outputs": [
    {
     "data": {
      "text/plain": [
       "<AxesSubplot:>"
      ]
     },
     "execution_count": 36,
     "metadata": {},
     "output_type": "execute_result"
    },
    {
     "data": {
      "image/png": "[encoded data removed]",
      "text/plain": [
       "<Figure size 432x288 with 1 Axes>"
      ]
     },
     "metadata": {
      "needs_background": "light"
     },
     "output_type": "display_data"
    }
   ],
   "source": [
    "portfolio_hist.value_counts().plot(kind='bar')"
   ]
  },
  {
   "cell_type": "code",
   "execution_count": 43,
   "id": "6957b22a-21c7-43d8-9cb1-29f6dff29b98",
   "metadata": {},
   "outputs": [
    {
     "data": {
      "image/png": "[encoded data removed]",
      "text/plain": [
       "<Figure size 432x288 with 1 Axes>"
      ]
     },
     "metadata": {
      "needs_background": "light"
     },
     "output_type": "display_data"
    }
   ],
   "source": [
    "pd.Series(reward_history[:]).cumsum().plot(marker='.')\n",
    "plt.ylabel(\"Cumulative rewards\")\n",
    "plt.xlabel(\"Time step\");"
   ]
  },
  {
   "cell_type": "code",
   "execution_count": 25,
   "id": "fdcdb7c4-bdc9-4553-be16-60f84ef105b9",
   "metadata": {},
   "outputs": [
    {
     "data": {
      "text/plain": [
       "341"
      ]
     },
     "execution_count": 25,
     "metadata": {},
     "output_type": "execute_result"
    }
   ],
   "source": [
    "portfolio_hist = pd.Series(portfolio_history)\n",
    "(portfolio_hist != portfolio_hist.shift(1).fillna(portfolio_hist[0])).sum()\n",
    "# The number of trades executed:"
   ]
  },
  {
   "cell_type": "code",
   "execution_count": 26,
   "id": "8b67e6c8-5a1c-43d3-9791-a13a199da070",
   "metadata": {},
   "outputs": [
    {
     "data": {
      "text/plain": [
       "<AxesSubplot:>"
      ]
     },
     "execution_count": 26,
     "metadata": {},
     "output_type": "execute_result"
    },
    {
     "data": {
      "image/png": "[encoded data removed]",
      "text/plain": [
       "<Figure size 432x288 with 1 Axes>"
      ]
     },
     "metadata": {
      "needs_background": "light"
     },
     "output_type": "display_data"
    }
   ],
   "source": [
    "portfolio_hist.value_counts().plot(kind='bar')"
   ]
  },
  {
   "cell_type": "code",
   "execution_count": 27,
   "id": "6419567b-47f1-40bc-bdc9-66dc902040ed",
   "metadata": {},
   "outputs": [
    {
     "data": {
      "image/png": "[encoded data removed]",
      "text/plain": [
       "<Figure size 432x288 with 1 Axes>"
      ]
     },
     "metadata": {
      "needs_background": "light"
     },
     "output_type": "display_data"
    }
   ],
   "source": [
    "pd.Series(reward_history).cumsum().plot(marker='.')\n",
    "plt.ylabel(\"Cumulative rewards\")\n",
    "plt.xlabel(\"Time step\");"
   ]
  },
  {
   "cell_type": "code",
   "execution_count": 28,
   "id": "77902a7a-252e-437a-ad87-ce54f2775c4b",
   "metadata": {},
   "outputs": [
    {
     "data": {
      "image/png": "[encoded data removed]",
      "text/plain": [
       "<Figure size 432x288 with 1 Axes>"
      ]
     },
     "metadata": {
      "needs_background": "light"
     },
     "output_type": "display_data"
    }
   ],
   "source": [
    "pd.Series(reward_history[:2000]).cumsum().plot()\n",
    "plt.ylabel(\"Cumulative rewards\")\n",
    "plt.xlabel(\"Time step\");"
   ]
  },
  {
   "cell_type": "code",
   "execution_count": 31,
   "id": "66c754ad-6e40-48bd-86c4-bea032ea3c70",
   "metadata": {},
   "outputs": [
    {
     "data": {
      "image/png": "[encoded data removed]",
      "text/plain": [
       "<Figure size 432x288 with 1 Axes>"
      ]
     },
     "metadata": {
      "needs_background": "light"
     },
     "output_type": "display_data"
    }
   ],
   "source": [
    "pd.Series(reward_history[20000:]).cumsum().plot()\n",
    "plt.ylabel(\"Cumulative rewards\")\n",
    "plt.xlabel(\"Time step\");"
   ]
  },
  {
   "cell_type": "markdown",
   "id": "a6d112f1-59ab-4e11-aed6-4684c60c4a80",
   "metadata": {},
   "source": [
    "### Optional parameter save"
   ]
  },
  {
   "cell_type": "code",
   "execution_count": 29,
   "id": "c34ff124-ecee-4baf-bd34-9b2fbca0ad46",
   "metadata": {},
   "outputs": [],
   "source": [
    "torch.save(policy.state_dict(), r\"../logs/policy_model_increasing_neutral_cost.pt\")\n",
    "torch.save(critic.state_dict(), r\"../logs/critic_model_increasing_neutral_cost.pt\")"
   ]
  },
  {
   "cell_type": "markdown",
   "id": "20b60964-a28f-4d27-b02c-237237b2f148",
   "metadata": {},
   "source": [
    "Final report\n",
    "- Describe RL\n",
    "- Describe LOB\n",
    "- What metric are we trying to optimise\n",
    "- Inputs\n",
    "- Literature review\n",
    "- Results"
   ]
  }
 ],
 "metadata": {
  "kernelspec": {
   "display_name": "Python 3 (ipykernel)",
   "language": "python",
   "name": "python3"
  },
  "language_info": {
   "codemirror_mode": {
    "name": "ipython",
    "version": 3
   },
   "file_extension": ".py",
   "mimetype": "text/x-python",
   "name": "python",
   "nbconvert_exporter": "python",
   "pygments_lexer": "ipython3",
   "version": "3.9.7"
  },
  "toc-showtags": false
 },
 "nbformat": 4,
 "nbformat_minor": 5
}
